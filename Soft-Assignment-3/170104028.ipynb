{
  "nbformat": 4,
  "nbformat_minor": 0,
  "metadata": {
    "colab": {
      "name": "CSE 4238 - Soft Computing Lab - Assignment 3.ipynb",
      "provenance": [],
      "collapsed_sections": [
        "nW4ElwLgysH_",
        "Ay2TDwZCy96_",
        "9RQpoQIizIfo",
        "SwhD-3_x3t5V",
        "pS1_ntiM5itz",
        "_oF4NWmtDAEE",
        "P5ZSxIp5MTF9"
      ]
    },
    "kernelspec": {
      "display_name": "Python 3",
      "name": "python3"
    },
    "language_info": {
      "name": "python"
    }
  },
  "cells": [
    {
      "cell_type": "markdown",
      "metadata": {
        "id": "rVcY1JnfcA2i"
      },
      "source": [
        "# Notebook Author info\n",
        "<center>\n",
        "\n",
        "| |  |\n",
        "| ----------- | ----------- |\n",
        "| ![Emdadul Haque Rafat](https://rafat97.github.io/static/c3688eb99d1fef50023a121e3abc5fa6/e8044/my-image.jpg)      | `Name:` Emdadul Haque<br /><br /> `Professional Status:` Student of Computer Science and Engineering <br /><br /> `Email:` rafathaque1997@gmail.com <br /><br /> `Website :` https://rafat97.github.io/ <br /><br />`Github:` https://github.com/Rafat97 <br /><br /> `Linkedin:` https://www.linkedin.com/in/rafat-haque-173131139/   |\n",
        "\n",
        "</center>\n"
      ]
    },
    {
      "cell_type": "markdown",
      "metadata": {
        "id": "okAZVx9nb9Es"
      },
      "source": [
        "# Drive mount code"
      ]
    },
    {
      "cell_type": "code",
      "metadata": {
        "id": "Re1cOmeea_7J"
      },
      "source": [
        "# from google.colab import drive\n",
        "# drive.mount('./drive')"
      ],
      "execution_count": 1,
      "outputs": []
    },
    {
      "cell_type": "markdown",
      "metadata": {
        "id": "nW4ElwLgysH_"
      },
      "source": [
        "# Dataset Creation"
      ]
    },
    {
      "cell_type": "markdown",
      "metadata": {
        "id": "Ay2TDwZCy96_"
      },
      "source": [
        "## Download dataset 2\n",
        "\n"
      ]
    },
    {
      "cell_type": "code",
      "metadata": {
        "colab": {
          "base_uri": "https://localhost:8080/"
        },
        "id": "wlb4s-FrcGxi",
        "outputId": "606d472d-91b8-4ea2-d1cf-2d4e8ca1e397"
      },
      "source": [
        "!gdown --id 1L7gRzRsyWzQ6jtRg86q81aVfKbREYv2A"
      ],
      "execution_count": 2,
      "outputs": [
        {
          "output_type": "stream",
          "name": "stdout",
          "text": [
            "Downloading...\n",
            "From: https://drive.google.com/uc?id=1L7gRzRsyWzQ6jtRg86q81aVfKbREYv2A\n",
            "To: /content/Dataset 2.csv\n",
            "\r  0% 0.00/999k [00:00<?, ?B/s]\r100% 999k/999k [00:00<00:00, 66.1MB/s]\n"
          ]
        }
      ]
    },
    {
      "cell_type": "markdown",
      "metadata": {
        "id": "9RQpoQIizIfo"
      },
      "source": [
        "## Import package"
      ]
    },
    {
      "cell_type": "code",
      "metadata": {
        "colab": {
          "base_uri": "https://localhost:8080/"
        },
        "id": "uLl0_bE2cC-C",
        "outputId": "f0b146c9-1b9c-4f1a-8425-021550218023"
      },
      "source": [
        "# import some importent library or packages \n",
        "import matplotlib.pyplot as plt\n",
        "import warnings\n",
        "import time,sys\n",
        "import copy\n",
        "\n",
        "import pandas as pd\n",
        "import numpy as np\n",
        "import cv2\n",
        "import os\n",
        "import pathlib\n",
        "import zipfile\n",
        "import torch\n",
        "import torchvision\n",
        "from torchvision import models\n",
        "import torchvision.transforms as transforms\n",
        "from torch.utils.data import Dataset, DataLoader, ConcatDataset\n",
        "import torch.optim as optim\n",
        "import pathlib\n",
        "import shutil\n",
        "from pathlib import Path\n",
        "from collections import Counter\n",
        "!pip install torchsummary\n",
        "from torchsummary import summary\n",
        "from sklearn.utils import shuffle\n",
        "!pip install torchviz\n",
        "from torchviz import make_dot, make_dot_from_trace\n",
        "\n",
        "warnings.filterwarnings('ignore')\n",
        "torch.manual_seed(0)"
      ],
      "execution_count": 3,
      "outputs": [
        {
          "output_type": "stream",
          "name": "stdout",
          "text": [
            "Requirement already satisfied: torchsummary in /usr/local/lib/python3.7/dist-packages (1.5.1)\n",
            "Requirement already satisfied: torchviz in /usr/local/lib/python3.7/dist-packages (0.0.2)\n",
            "Requirement already satisfied: graphviz in /usr/local/lib/python3.7/dist-packages (from torchviz) (0.10.1)\n",
            "Requirement already satisfied: torch in /usr/local/lib/python3.7/dist-packages (from torchviz) (1.9.0+cu102)\n",
            "Requirement already satisfied: typing-extensions in /usr/local/lib/python3.7/dist-packages (from torch->torchviz) (3.7.4.3)\n"
          ]
        },
        {
          "output_type": "execute_result",
          "data": {
            "text/plain": [
              "<torch._C.Generator at 0x7f7573892650>"
            ]
          },
          "metadata": {},
          "execution_count": 3
        }
      ]
    },
    {
      "cell_type": "markdown",
      "metadata": {
        "id": "tzq1MJWAzLy3"
      },
      "source": [
        "## Read downloaded dataset"
      ]
    },
    {
      "cell_type": "code",
      "metadata": {
        "id": "SG4wK48ZcGFy"
      },
      "source": [
        "df = pd.read_csv('/content/Dataset 2.csv',encoding='unicode_escape')"
      ],
      "execution_count": 4,
      "outputs": []
    },
    {
      "cell_type": "code",
      "metadata": {
        "colab": {
          "base_uri": "https://localhost:8080/"
        },
        "id": "yZCvTyl6keZe",
        "outputId": "ad543d85-f186-470c-b14a-5d6f54911631"
      },
      "source": [
        "df.columns ## columns name"
      ],
      "execution_count": 5,
      "outputs": [
        {
          "output_type": "execute_result",
          "data": {
            "text/plain": [
              "Index(['text', 'polarity'], dtype='object')"
            ]
          },
          "metadata": {},
          "execution_count": 5
        }
      ]
    },
    {
      "cell_type": "code",
      "metadata": {
        "colab": {
          "base_uri": "https://localhost:8080/"
        },
        "id": "l8lCKytvnQxF",
        "outputId": "7f7434f7-7da1-4185-db47-5da029b5f525"
      },
      "source": [
        "df['polarity'].value_counts() ## get number of data in `polarity` class"
      ],
      "execution_count": 6,
      "outputs": [
        {
          "output_type": "execute_result",
          "data": {
            "text/plain": [
              "0    8000\n",
              "1    2314\n",
              "Name: polarity, dtype: int64"
            ]
          },
          "metadata": {},
          "execution_count": 6
        }
      ]
    },
    {
      "cell_type": "code",
      "metadata": {
        "colab": {
          "base_uri": "https://localhost:8080/"
        },
        "id": "wU8m4CcPkiV1",
        "outputId": "1f6bcffc-41f0-4afb-af30-cadcc85eef39"
      },
      "source": [
        "df['text'].value_counts()"
      ],
      "execution_count": 7,
      "outputs": [
        {
          "output_type": "execute_result",
          "data": {
            "text/plain": [
              "Mom's depression tied to kids' emotional, intellectual development  https://ift.tt/2HtVZCEÃÂ                                                          11\n",
              "25-04-18                                                                                                                                                4\n",
              "More than 1 in 20 US children and teens have anxiety or depression  https://www.sciencedaily.com/releases/2018/04/180424184119.htmÃÂ Ã¢ÂÂ¦            4\n",
              "suffering from chronic depression https://vine.co/v/iu3l2lPBhiKÃÂ                                                                                      3\n",
              "Good morning                                                                                                                                            3\n",
              "                                                                                                                                                       ..\n",
              "@ChArDaLiCiOuZ sige ingat goodnight                                                                                                                     1\n",
              "@Netra you are most welcome                                                                                                                             1\n",
              "&quot;When you're fat and sassy, why waste your time on change?&quot; John K. Hudzik, vp, global engagement at MSU http://bit.ly/HsUQ1 Why indeed?      1\n",
              "Cross the line if you're sick of people faking anxiety, OCD, and depression/suicidal thoughts or actions for attention.                                 1\n",
              "@dirtyrottengoss wat !!! omg that's awsom                                                                                                               1\n",
              "Name: text, Length: 10282, dtype: int64"
            ]
          },
          "metadata": {},
          "execution_count": 7
        }
      ]
    },
    {
      "cell_type": "markdown",
      "metadata": {
        "id": "BnThLglw3HEu"
      },
      "source": [
        "## Dataset splitting"
      ]
    },
    {
      "cell_type": "code",
      "metadata": {
        "id": "NddseGZ0n-Y8"
      },
      "source": [
        "## split dataset based on the class\n",
        "traning_split_size = 0.8\n",
        "df_class_1 = df[df['polarity'] == 1]\n",
        "df_class_0 = df[df['polarity'] == 0]\n",
        "\n",
        "trainSize = int(len(df_class_0) * traning_split_size)\n",
        "Traning_class_0 = df_class_0[:trainSize]\n",
        "Test_class_0 = df_class_0[trainSize:]\n",
        "\n",
        "trainSize = int(len(df_class_1) * traning_split_size)\n",
        "Traning_class_1 = df_class_1[:trainSize]\n",
        "Test_class_1 = df_class_1[trainSize:]"
      ],
      "execution_count": 8,
      "outputs": []
    },
    {
      "cell_type": "code",
      "metadata": {
        "colab": {
          "base_uri": "https://localhost:8080/",
          "height": 0
        },
        "id": "MJnpde_qvabR",
        "outputId": "aa4957e6-e87c-4675-873f-7fb79cd42c14"
      },
      "source": [
        "## traning dataset create\n",
        "li = [Traning_class_0,Traning_class_1]\n",
        "frame = pd.concat(li, axis=0, ignore_index=True)\n",
        "frame = shuffle(frame)\n",
        "frame.reset_index(inplace=True, drop=True)\n",
        "frame.to_csv('Train-Dataset.csv',index=False)\n",
        "frame"
      ],
      "execution_count": 9,
      "outputs": [
        {
          "output_type": "execute_result",
          "data": {
            "text/html": [
              "<div>\n",
              "<style scoped>\n",
              "    .dataframe tbody tr th:only-of-type {\n",
              "        vertical-align: middle;\n",
              "    }\n",
              "\n",
              "    .dataframe tbody tr th {\n",
              "        vertical-align: top;\n",
              "    }\n",
              "\n",
              "    .dataframe thead th {\n",
              "        text-align: right;\n",
              "    }\n",
              "</style>\n",
              "<table border=\"1\" class=\"dataframe\">\n",
              "  <thead>\n",
              "    <tr style=\"text-align: right;\">\n",
              "      <th></th>\n",
              "      <th>text</th>\n",
              "      <th>polarity</th>\n",
              "    </tr>\n",
              "  </thead>\n",
              "  <tbody>\n",
              "    <tr>\n",
              "      <th>0</th>\n",
              "      <td>see I've learned a lot about myself through RP...</td>\n",
              "      <td>1</td>\n",
              "    </tr>\n",
              "    <tr>\n",
              "      <th>1</th>\n",
              "      <td>@scodal Why thank you! This is Bonzo... He's m...</td>\n",
              "      <td>0</td>\n",
              "    </tr>\n",
              "    <tr>\n",
              "      <th>2</th>\n",
              "      <td>@NotAloneDoc1 It was one of the best documenta...</td>\n",
              "      <td>1</td>\n",
              "    </tr>\n",
              "    <tr>\n",
              "      <th>3</th>\n",
              "      <td>@AtomicLola AWESOME!  I'm glad you liked it!  ...</td>\n",
              "      <td>0</td>\n",
              "    </tr>\n",
              "    <tr>\n",
              "      <th>4</th>\n",
              "      <td>that's not necessarily suffering from a mental...</td>\n",
              "      <td>1</td>\n",
              "    </tr>\n",
              "    <tr>\n",
              "      <th>...</th>\n",
              "      <td>...</td>\n",
              "      <td>...</td>\n",
              "    </tr>\n",
              "    <tr>\n",
              "      <th>8246</th>\n",
              "      <td>@ Heinz Field for the Kenny Chesney concert  _...</td>\n",
              "      <td>0</td>\n",
              "    </tr>\n",
              "    <tr>\n",
              "      <th>8247</th>\n",
              "      <td>picture</td>\n",
              "      <td>0</td>\n",
              "    </tr>\n",
              "    <tr>\n",
              "      <th>8248</th>\n",
              "      <td>@d4v3c00k Dave &amp;quot;The Cat&amp;quot; Cook  lands...</td>\n",
              "      <td>0</td>\n",
              "    </tr>\n",
              "    <tr>\n",
              "      <th>8249</th>\n",
              "      <td>lol i've honestly been going through the worst...</td>\n",
              "      <td>1</td>\n",
              "    </tr>\n",
              "    <tr>\n",
              "      <th>8250</th>\n",
              "      <td>@CandyMaize  candy....dont, stop, believing...</td>\n",
              "      <td>0</td>\n",
              "    </tr>\n",
              "  </tbody>\n",
              "</table>\n",
              "<p>8251 rows × 2 columns</p>\n",
              "</div>"
            ],
            "text/plain": [
              "                                                   text  polarity\n",
              "0     see I've learned a lot about myself through RP...         1\n",
              "1     @scodal Why thank you! This is Bonzo... He's m...         0\n",
              "2     @NotAloneDoc1 It was one of the best documenta...         1\n",
              "3     @AtomicLola AWESOME!  I'm glad you liked it!  ...         0\n",
              "4     that's not necessarily suffering from a mental...         1\n",
              "...                                                 ...       ...\n",
              "8246  @ Heinz Field for the Kenny Chesney concert  _...         0\n",
              "8247                                           picture          0\n",
              "8248  @d4v3c00k Dave &quot;The Cat&quot; Cook  lands...         0\n",
              "8249  lol i've honestly been going through the worst...         1\n",
              "8250    @CandyMaize  candy....dont, stop, believing...          0\n",
              "\n",
              "[8251 rows x 2 columns]"
            ]
          },
          "metadata": {},
          "execution_count": 9
        }
      ]
    },
    {
      "cell_type": "code",
      "metadata": {
        "colab": {
          "base_uri": "https://localhost:8080/",
          "height": 0
        },
        "id": "UC7KHE3Jxnax",
        "outputId": "f1dbfc59-8e38-4eff-8c7b-8a22baa61d0e"
      },
      "source": [
        "## testing dataset create\n",
        "li = [Test_class_0,Test_class_1]\n",
        "frame = pd.concat(li, axis=0, ignore_index=True)\n",
        "frame = shuffle(frame)\n",
        "frame.reset_index(inplace=True, drop=True)\n",
        "frame.to_csv('Test-Dataset.csv',index=False)\n",
        "frame"
      ],
      "execution_count": 10,
      "outputs": [
        {
          "output_type": "execute_result",
          "data": {
            "text/html": [
              "<div>\n",
              "<style scoped>\n",
              "    .dataframe tbody tr th:only-of-type {\n",
              "        vertical-align: middle;\n",
              "    }\n",
              "\n",
              "    .dataframe tbody tr th {\n",
              "        vertical-align: top;\n",
              "    }\n",
              "\n",
              "    .dataframe thead th {\n",
              "        text-align: right;\n",
              "    }\n",
              "</style>\n",
              "<table border=\"1\" class=\"dataframe\">\n",
              "  <thead>\n",
              "    <tr style=\"text-align: right;\">\n",
              "      <th></th>\n",
              "      <th>text</th>\n",
              "      <th>polarity</th>\n",
              "    </tr>\n",
              "  </thead>\n",
              "  <tbody>\n",
              "    <tr>\n",
              "      <th>0</th>\n",
              "      <td>@JusBOnline but isn't what anyone thinks of me...</td>\n",
              "      <td>1</td>\n",
              "    </tr>\n",
              "    <tr>\n",
              "      <th>1</th>\n",
              "      <td>Analysis of 2,000 millennials found that the c...</td>\n",
              "      <td>1</td>\n",
              "    </tr>\n",
              "    <tr>\n",
              "      <th>2</th>\n",
              "      <td>@networkbarefoot  @gina_romero @OrganisedPA Gr...</td>\n",
              "      <td>0</td>\n",
              "    </tr>\n",
              "    <tr>\n",
              "      <th>3</th>\n",
              "      <td>@galaxite Oh, just a friend. lol. ;) the same ...</td>\n",
              "      <td>0</td>\n",
              "    </tr>\n",
              "    <tr>\n",
              "      <th>4</th>\n",
              "      <td>Time to get a few things done while kiddies ar...</td>\n",
              "      <td>0</td>\n",
              "    </tr>\n",
              "    <tr>\n",
              "      <th>...</th>\n",
              "      <td>...</td>\n",
              "      <td>...</td>\n",
              "    </tr>\n",
              "    <tr>\n",
              "      <th>2058</th>\n",
              "      <td>RANK UP ! YEAH YOU GUYS GOT PWND !</td>\n",
              "      <td>0</td>\n",
              "    </tr>\n",
              "    <tr>\n",
              "      <th>2059</th>\n",
              "      <td>JUST WOKE UP !!!! WITH ANAÃ?S</td>\n",
              "      <td>0</td>\n",
              "    </tr>\n",
              "    <tr>\n",
              "      <th>2060</th>\n",
              "      <td>Radio personality talks about clinical depress...</td>\n",
              "      <td>1</td>\n",
              "    </tr>\n",
              "    <tr>\n",
              "      <th>2061</th>\n",
              "      <td>I'd just like to say that I really love my job.</td>\n",
              "      <td>0</td>\n",
              "    </tr>\n",
              "    <tr>\n",
              "      <th>2062</th>\n",
              "      <td>@TrnsplantdToPal At least it gives you somethi...</td>\n",
              "      <td>0</td>\n",
              "    </tr>\n",
              "  </tbody>\n",
              "</table>\n",
              "<p>2063 rows × 2 columns</p>\n",
              "</div>"
            ],
            "text/plain": [
              "                                                   text  polarity\n",
              "0     @JusBOnline but isn't what anyone thinks of me...         1\n",
              "1     Analysis of 2,000 millennials found that the c...         1\n",
              "2     @networkbarefoot  @gina_romero @OrganisedPA Gr...         0\n",
              "3     @galaxite Oh, just a friend. lol. ;) the same ...         0\n",
              "4     Time to get a few things done while kiddies ar...         0\n",
              "...                                                 ...       ...\n",
              "2058                RANK UP ! YEAH YOU GUYS GOT PWND !          0\n",
              "2059                    JUST WOKE UP !!!! WITH ANAÃ?S          0\n",
              "2060  Radio personality talks about clinical depress...         1\n",
              "2061   I'd just like to say that I really love my job.          0\n",
              "2062  @TrnsplantdToPal At least it gives you somethi...         0\n",
              "\n",
              "[2063 rows x 2 columns]"
            ]
          },
          "metadata": {},
          "execution_count": 10
        }
      ]
    },
    {
      "cell_type": "markdown",
      "metadata": {
        "id": "SwhD-3_x3t5V"
      },
      "source": [
        "# Text cleaning"
      ]
    },
    {
      "cell_type": "code",
      "metadata": {
        "colab": {
          "base_uri": "https://localhost:8080/"
        },
        "id": "vf7x0ff83u0F",
        "outputId": "e81f6cd3-1f09-43cc-a02c-0e0143daf070"
      },
      "source": [
        "# import some importent library or packages \n",
        "import matplotlib.pyplot as plt\n",
        "import warnings\n",
        "import time,sys,re,string\n",
        "import copy\n",
        "\n",
        "import pandas as pd\n",
        "import numpy as np\n",
        "import cv2\n",
        "import os\n",
        "import pathlib\n",
        "import zipfile\n",
        "import torch\n",
        "import torchvision\n",
        "from torchvision import models\n",
        "import torchvision.transforms as transforms\n",
        "from torch.utils.data import Dataset, DataLoader, ConcatDataset\n",
        "\n",
        "import torch.optim as optim\n",
        "import pathlib\n",
        "import shutil\n",
        "from pathlib import Path\n",
        "from collections import Counter\n",
        "!pip install torchsummary\n",
        "from torchsummary import summary\n",
        "from sklearn.utils import shuffle\n",
        "!pip install torchviz\n",
        "from torchviz import make_dot, make_dot_from_trace\n",
        "try:\n",
        "  import contractions\n",
        "except:\n",
        "  !pip install contractions\n",
        "import contractions\n",
        "from torchtext.legacy.data import Field, TabularDataset, BucketIterator\n",
        "from torchtext.data.utils import get_tokenizer\n",
        "from torchtext.vocab import build_vocab_from_iterator, Vectors, GloVe\n",
        "\n",
        "import nltk\n",
        "try:\n",
        "    nltk.data.find('tokenizers/punkt')\n",
        "    nltk.data.find('averaged_perceptron_tagger')\n",
        "    nltk.data.find('brown')\n",
        "except LookupError:\n",
        "    nltk.download('averaged_perceptron_tagger')\n",
        "    nltk.download('brown')\n",
        "    nltk.download('punkt')\n",
        "from nltk import sent_tokenize,word_tokenize\n",
        "\n",
        "\n",
        "warnings.filterwarnings('ignore')\n",
        "torch.manual_seed(0)"
      ],
      "execution_count": 11,
      "outputs": [
        {
          "output_type": "stream",
          "name": "stdout",
          "text": [
            "Requirement already satisfied: torchsummary in /usr/local/lib/python3.7/dist-packages (1.5.1)\n",
            "Requirement already satisfied: torchviz in /usr/local/lib/python3.7/dist-packages (0.0.2)\n",
            "Requirement already satisfied: torch in /usr/local/lib/python3.7/dist-packages (from torchviz) (1.9.0+cu102)\n",
            "Requirement already satisfied: graphviz in /usr/local/lib/python3.7/dist-packages (from torchviz) (0.10.1)\n",
            "Requirement already satisfied: typing-extensions in /usr/local/lib/python3.7/dist-packages (from torch->torchviz) (3.7.4.3)\n",
            "[nltk_data] Downloading package averaged_perceptron_tagger to\n",
            "[nltk_data]     /root/nltk_data...\n",
            "[nltk_data]   Package averaged_perceptron_tagger is already up-to-\n",
            "[nltk_data]       date!\n",
            "[nltk_data] Downloading package brown to /root/nltk_data...\n",
            "[nltk_data]   Package brown is already up-to-date!\n",
            "[nltk_data] Downloading package punkt to /root/nltk_data...\n",
            "[nltk_data]   Package punkt is already up-to-date!\n"
          ]
        },
        {
          "output_type": "execute_result",
          "data": {
            "text/plain": [
              "<torch._C.Generator at 0x7f7573892650>"
            ]
          },
          "metadata": {},
          "execution_count": 11
        }
      ]
    },
    {
      "cell_type": "code",
      "metadata": {
        "id": "UqxEVwxP37g2"
      },
      "source": [
        "traning_df = pd.read_csv('/content/Train-Dataset.csv')\n",
        "testing_df = pd.read_csv('/content/Test-Dataset.csv')"
      ],
      "execution_count": 12,
      "outputs": []
    },
    {
      "cell_type": "code",
      "metadata": {
        "colab": {
          "base_uri": "https://localhost:8080/",
          "height": 0
        },
        "id": "gulKysGivn3d",
        "outputId": "cd93aa5f-039f-4db8-b678-c28ec1d87f6c"
      },
      "source": [
        "traning_df"
      ],
      "execution_count": 13,
      "outputs": [
        {
          "output_type": "execute_result",
          "data": {
            "text/html": [
              "<div>\n",
              "<style scoped>\n",
              "    .dataframe tbody tr th:only-of-type {\n",
              "        vertical-align: middle;\n",
              "    }\n",
              "\n",
              "    .dataframe tbody tr th {\n",
              "        vertical-align: top;\n",
              "    }\n",
              "\n",
              "    .dataframe thead th {\n",
              "        text-align: right;\n",
              "    }\n",
              "</style>\n",
              "<table border=\"1\" class=\"dataframe\">\n",
              "  <thead>\n",
              "    <tr style=\"text-align: right;\">\n",
              "      <th></th>\n",
              "      <th>text</th>\n",
              "      <th>polarity</th>\n",
              "    </tr>\n",
              "  </thead>\n",
              "  <tbody>\n",
              "    <tr>\n",
              "      <th>0</th>\n",
              "      <td>see I've learned a lot about myself through RP...</td>\n",
              "      <td>1</td>\n",
              "    </tr>\n",
              "    <tr>\n",
              "      <th>1</th>\n",
              "      <td>@scodal Why thank you! This is Bonzo... He's m...</td>\n",
              "      <td>0</td>\n",
              "    </tr>\n",
              "    <tr>\n",
              "      <th>2</th>\n",
              "      <td>@NotAloneDoc1 It was one of the best documenta...</td>\n",
              "      <td>1</td>\n",
              "    </tr>\n",
              "    <tr>\n",
              "      <th>3</th>\n",
              "      <td>@AtomicLola AWESOME!  I'm glad you liked it!  ...</td>\n",
              "      <td>0</td>\n",
              "    </tr>\n",
              "    <tr>\n",
              "      <th>4</th>\n",
              "      <td>that's not necessarily suffering from a mental...</td>\n",
              "      <td>1</td>\n",
              "    </tr>\n",
              "    <tr>\n",
              "      <th>...</th>\n",
              "      <td>...</td>\n",
              "      <td>...</td>\n",
              "    </tr>\n",
              "    <tr>\n",
              "      <th>8246</th>\n",
              "      <td>@ Heinz Field for the Kenny Chesney concert  _...</td>\n",
              "      <td>0</td>\n",
              "    </tr>\n",
              "    <tr>\n",
              "      <th>8247</th>\n",
              "      <td>picture</td>\n",
              "      <td>0</td>\n",
              "    </tr>\n",
              "    <tr>\n",
              "      <th>8248</th>\n",
              "      <td>@d4v3c00k Dave &amp;quot;The Cat&amp;quot; Cook  lands...</td>\n",
              "      <td>0</td>\n",
              "    </tr>\n",
              "    <tr>\n",
              "      <th>8249</th>\n",
              "      <td>lol i've honestly been going through the worst...</td>\n",
              "      <td>1</td>\n",
              "    </tr>\n",
              "    <tr>\n",
              "      <th>8250</th>\n",
              "      <td>@CandyMaize  candy....dont, stop, believing...</td>\n",
              "      <td>0</td>\n",
              "    </tr>\n",
              "  </tbody>\n",
              "</table>\n",
              "<p>8251 rows × 2 columns</p>\n",
              "</div>"
            ],
            "text/plain": [
              "                                                   text  polarity\n",
              "0     see I've learned a lot about myself through RP...         1\n",
              "1     @scodal Why thank you! This is Bonzo... He's m...         0\n",
              "2     @NotAloneDoc1 It was one of the best documenta...         1\n",
              "3     @AtomicLola AWESOME!  I'm glad you liked it!  ...         0\n",
              "4     that's not necessarily suffering from a mental...         1\n",
              "...                                                 ...       ...\n",
              "8246  @ Heinz Field for the Kenny Chesney concert  _...         0\n",
              "8247                                           picture          0\n",
              "8248  @d4v3c00k Dave &quot;The Cat&quot; Cook  lands...         0\n",
              "8249  lol i've honestly been going through the worst...         1\n",
              "8250    @CandyMaize  candy....dont, stop, believing...          0\n",
              "\n",
              "[8251 rows x 2 columns]"
            ]
          },
          "metadata": {},
          "execution_count": 13
        }
      ]
    },
    {
      "cell_type": "code",
      "metadata": {
        "id": "qdQ4ajcoOdX6"
      },
      "source": [
        "def clean_text(text):\n",
        "    '''Make text lowercase, remove text in square brackets,remove links,remove punctuation\n",
        "    and remove words containing numbers. removibng miltiple full stop'''\n",
        "    text = str(text).lower()\n",
        "    text = re.sub('\\[.*?\\]', '', text)\n",
        "    text = re.sub('https?://\\S+|www\\.\\S+', '', text)\n",
        "    text = re.sub('<.*?>+', '', text)\n",
        "    text = re.sub('[%s]' % re.escape(string.punctuation), '', text)\n",
        "    text = re.sub('\\n', '', text)\n",
        "    text = re.sub('\\w*\\d\\w*', '', text)\n",
        "    text = re.sub(r'\\.+', \".\", text)\n",
        "    return text\n",
        "\n",
        "def replace_text(text):\n",
        "    text = str(text).lower()\n",
        "    text = text.encode('ascii', 'ignore').decode('utf-8') \n",
        "    return text  \n",
        "\n",
        "\n",
        "for dta in [traning_df,testing_df]:\n",
        "  dta['text_cleaning'] = dta.text.apply(lambda x: x.strip().lower() )\n",
        "  dta['text_cleaning'] = dta.text_cleaning.apply(lambda x : \" \".join(x.split()) )\n",
        "  dta['text_cleaning'] = dta.text_cleaning.apply(lambda x: contractions.fix(x) )\n",
        "  dta['text_cleaning'] = dta.text_cleaning.apply(lambda x: clean_text(x) )\n",
        "  dta['text_cleaning'] = dta.text_cleaning.apply(lambda x: replace_text(x) )\n",
        "  dta['number_of_word'] = dta.text_cleaning.apply(lambda x: len(word_tokenize(x)) )\n",
        "  dta['number_of_letter'] = dta.text_cleaning.apply(lambda x: len(x) )\n",
        "  del dta['text']\n",
        "  dta['text'] = dta['text_cleaning'] \n",
        "  del dta['text_cleaning']\n",
        "\n",
        "\n",
        "\n",
        "for dta in [traning_df,testing_df]:\n",
        "  word_count_zero = dta[dta['number_of_word'] == 0]\n",
        "  dta.drop(word_count_zero.index,inplace=True)\n",
        "  letter_count_zero = dta[dta['number_of_letter'] == 0]\n",
        "  dta.drop(letter_count_zero.index,inplace=True)\n",
        "\n",
        "\n",
        "# # Training DF\n",
        "# traning_df['text_cleaning'] = traning_df.text.apply(lambda x: x.strip().lower() )\n",
        "# traning_df['text_cleaning'] = traning_df.text_cleaning.apply(lambda x : \" \".join(x.split()) )\n",
        "# traning_df['text_cleaning'] = traning_df.text_cleaning.apply(lambda x: contractions.fix(x) )\n",
        "# traning_df['text_cleaning'] = traning_df.text_cleaning.apply(lambda x: clean_text(x) )\n",
        "# traning_df['text_cleaning'] = traning_df.text_cleaning.apply(lambda x: replace_text(x) )\n",
        "\n",
        "# # Testing DF\n",
        "# testing_df['text_cleaning'] = testing_df.text.apply(lambda x: x.strip().lower() )\n",
        "# testing_df['text_cleaning'] = traning_df.text_cleaning.apply(lambda x : \" \".join(x.split()) )\n",
        "# testing_df['text_cleaning'] = testing_df.text_cleaning.apply(lambda x: contractions.fix(x) )\n",
        "# testing_df['text_cleaning'] = testing_df.text_cleaning.apply(lambda x: clean_text(x) )\n",
        "# testing_df['text_cleaning'] = testing_df.text_cleaning.apply(lambda x: replace_text(x) )\n"
      ],
      "execution_count": 14,
      "outputs": []
    },
    {
      "cell_type": "code",
      "metadata": {
        "colab": {
          "base_uri": "https://localhost:8080/",
          "height": 0
        },
        "id": "OptnUdYqPe_D",
        "outputId": "d36a92de-7bf0-4edb-e118-5d59ea245b48"
      },
      "source": [
        "traning_df"
      ],
      "execution_count": 15,
      "outputs": [
        {
          "output_type": "execute_result",
          "data": {
            "text/html": [
              "<div>\n",
              "<style scoped>\n",
              "    .dataframe tbody tr th:only-of-type {\n",
              "        vertical-align: middle;\n",
              "    }\n",
              "\n",
              "    .dataframe tbody tr th {\n",
              "        vertical-align: top;\n",
              "    }\n",
              "\n",
              "    .dataframe thead th {\n",
              "        text-align: right;\n",
              "    }\n",
              "</style>\n",
              "<table border=\"1\" class=\"dataframe\">\n",
              "  <thead>\n",
              "    <tr style=\"text-align: right;\">\n",
              "      <th></th>\n",
              "      <th>polarity</th>\n",
              "      <th>number_of_word</th>\n",
              "      <th>number_of_letter</th>\n",
              "      <th>text</th>\n",
              "    </tr>\n",
              "  </thead>\n",
              "  <tbody>\n",
              "    <tr>\n",
              "      <th>0</th>\n",
              "      <td>1</td>\n",
              "      <td>47</td>\n",
              "      <td>266</td>\n",
              "      <td>see i have learned a lot about myself through ...</td>\n",
              "    </tr>\n",
              "    <tr>\n",
              "      <th>1</th>\n",
              "      <td>0</td>\n",
              "      <td>22</td>\n",
              "      <td>115</td>\n",
              "      <td>scodal why thank you this is bonzo he is my bu...</td>\n",
              "    </tr>\n",
              "    <tr>\n",
              "      <th>2</th>\n",
              "      <td>1</td>\n",
              "      <td>32</td>\n",
              "      <td>170</td>\n",
              "      <td>it was one of the best documentarys i watched...</td>\n",
              "    </tr>\n",
              "    <tr>\n",
              "      <th>3</th>\n",
              "      <td>0</td>\n",
              "      <td>12</td>\n",
              "      <td>57</td>\n",
              "      <td>atomiclola awesome i am glad you liked it i am...</td>\n",
              "    </tr>\n",
              "    <tr>\n",
              "      <th>4</th>\n",
              "      <td>1</td>\n",
              "      <td>45</td>\n",
              "      <td>247</td>\n",
              "      <td>that is not necessarily suffering from a menta...</td>\n",
              "    </tr>\n",
              "    <tr>\n",
              "      <th>...</th>\n",
              "      <td>...</td>\n",
              "      <td>...</td>\n",
              "      <td>...</td>\n",
              "      <td>...</td>\n",
              "    </tr>\n",
              "    <tr>\n",
              "      <th>8246</th>\n",
              "      <td>0</td>\n",
              "      <td>11</td>\n",
              "      <td>75</td>\n",
              "      <td>heinz field for the kenny chesney concert  le...</td>\n",
              "    </tr>\n",
              "    <tr>\n",
              "      <th>8247</th>\n",
              "      <td>0</td>\n",
              "      <td>1</td>\n",
              "      <td>7</td>\n",
              "      <td>picture</td>\n",
              "    </tr>\n",
              "    <tr>\n",
              "      <th>8248</th>\n",
              "      <td>0</td>\n",
              "      <td>11</td>\n",
              "      <td>59</td>\n",
              "      <td>dave quotthe catquot cook lands on his feet a...</td>\n",
              "    </tr>\n",
              "    <tr>\n",
              "      <th>8249</th>\n",
              "      <td>1</td>\n",
              "      <td>22</td>\n",
              "      <td>113</td>\n",
              "      <td>lol i have honestly been going through the wor...</td>\n",
              "    </tr>\n",
              "    <tr>\n",
              "      <th>8250</th>\n",
              "      <td>0</td>\n",
              "      <td>5</td>\n",
              "      <td>37</td>\n",
              "      <td>candymaize candydo not stop believing</td>\n",
              "    </tr>\n",
              "  </tbody>\n",
              "</table>\n",
              "<p>8244 rows × 4 columns</p>\n",
              "</div>"
            ],
            "text/plain": [
              "      polarity  ...                                               text\n",
              "0            1  ...  see i have learned a lot about myself through ...\n",
              "1            0  ...  scodal why thank you this is bonzo he is my bu...\n",
              "2            1  ...   it was one of the best documentarys i watched...\n",
              "3            0  ...  atomiclola awesome i am glad you liked it i am...\n",
              "4            1  ...  that is not necessarily suffering from a menta...\n",
              "...        ...  ...                                                ...\n",
              "8246         0  ...   heinz field for the kenny chesney concert  le...\n",
              "8247         0  ...                                            picture\n",
              "8248         0  ...   dave quotthe catquot cook lands on his feet a...\n",
              "8249         1  ...  lol i have honestly been going through the wor...\n",
              "8250         0  ...              candymaize candydo not stop believing\n",
              "\n",
              "[8244 rows x 4 columns]"
            ]
          },
          "metadata": {},
          "execution_count": 15
        }
      ]
    },
    {
      "cell_type": "code",
      "metadata": {
        "colab": {
          "base_uri": "https://localhost:8080/"
        },
        "id": "CnDFX37x7tcc",
        "outputId": "20de7af8-19ae-4480-9399-728df6635f08"
      },
      "source": [
        "alltext_length = []\n",
        "allword_length = []\n",
        "for val in traning_df.text:\n",
        "  word_tok = word_tokenize(val)\n",
        "  alltext_length.append(len(val))\n",
        "  allword_length.append(len(word_tok))\n",
        "\n",
        "print(max(alltext_length))\n",
        "print(max(allword_length))\n",
        "\n",
        "# traning_df.text.apply(lambda x: len(x) )"
      ],
      "execution_count": 16,
      "outputs": [
        {
          "output_type": "stream",
          "name": "stdout",
          "text": [
            "289\n",
            "62\n"
          ]
        }
      ]
    },
    {
      "cell_type": "code",
      "metadata": {
        "colab": {
          "base_uri": "https://localhost:8080/"
        },
        "id": "doo23zv2ZNj4",
        "outputId": "09e8eacf-ea5b-41db-dbbb-26317953e2e6"
      },
      "source": [
        "for val in traning_df.text:\n",
        "  word_tok = word_tokenize(val)\n",
        "  if len(word_tok) <= 1:\n",
        "    print(val)"
      ],
      "execution_count": 17,
      "outputs": [
        {
          "output_type": "stream",
          "name": "stdout",
          "text": [
            "comeagainjen   \n",
            "may    \n",
            "spurofmoment\n",
            "makemescream\n",
            "name\n",
            "depression  \n",
            "depression  \n",
            " with \n",
            "depression  \n",
            "     subway\n",
            "name\n",
            "depression\n",
            "ferngully\n",
            "quickshooter                \n",
            " thanks\n",
            "incoming\n",
            " yup\n",
            "oneofusisfdup\n",
            "katelyniscool   \n",
            "shaundiviney\n",
            "scarych         \n",
            " sorite\n",
            "twittermaniaaaaaaaaaaa\n",
            "around\n",
            "party \n",
            " thanks\n",
            " thanks\n",
            "houseeee\n",
            "realworldmom\n",
            " whaaatever\n",
            "llisalang\n",
            "radiogrinch \n",
            "remysoon\n",
            "jonathanrknight\n",
            "reading\n",
            "shopping\n",
            "lonlonraanch\n",
            "beeeeeeed\n",
            "  thirsty\n",
            "depression  \n",
            " thanks\n",
            "  updates\n",
            "fairyfreia          \n",
            "depression  \n",
            "depression  \n",
            "picture\n"
          ]
        }
      ]
    },
    {
      "cell_type": "code",
      "metadata": {
        "id": "U5lXljaX4nx8"
      },
      "source": [
        "traning_df.to_csv('/content/Train-Dataset-prcessed.csv',index=False)\n",
        "testing_df.to_csv('/content/Test-Dataset-prcessed.csv',index=False)"
      ],
      "execution_count": 18,
      "outputs": []
    },
    {
      "cell_type": "markdown",
      "metadata": {
        "id": "pS1_ntiM5itz"
      },
      "source": [
        "# Training & `CNN` modeling"
      ]
    },
    {
      "cell_type": "code",
      "metadata": {
        "colab": {
          "base_uri": "https://localhost:8080/"
        },
        "id": "VCpz-8Tl6EX0",
        "outputId": "4a01020f-b10c-49ae-b968-7df6fafd2bac"
      },
      "source": [
        "# import some importent library or packages \n",
        "import matplotlib.pyplot as plt\n",
        "import warnings\n",
        "import time,sys,re,string\n",
        "import copy\n",
        "\n",
        "import pandas as pd\n",
        "import numpy as np\n",
        "import cv2\n",
        "import os\n",
        "import pathlib\n",
        "import zipfile\n",
        "import torch\n",
        "import torchvision\n",
        "from torchvision import models\n",
        "import torchvision.transforms as transforms\n",
        "from torch.utils.data import Dataset, DataLoader, ConcatDataset\n",
        "\n",
        "import torch.optim as optim\n",
        "import pathlib\n",
        "import shutil\n",
        "from pathlib import Path\n",
        "from collections import Counter\n",
        "!pip install torchsummary\n",
        "!pip install torchinfo\n",
        "from torchinfo import summary\n",
        "from sklearn.utils import shuffle\n",
        "!pip install torchviz\n",
        "from torchviz import make_dot, make_dot_from_trace\n",
        "try:\n",
        "  import contractions\n",
        "except:\n",
        "  !pip install contractions\n",
        "import contractions\n",
        "from torchtext.legacy.data import Field, TabularDataset, BucketIterator\n",
        "from torchtext.data.utils import get_tokenizer\n",
        "from torchtext.vocab import build_vocab_from_iterator, Vectors, GloVe\n",
        "from torch.nn.utils.rnn import pack_padded_sequence, pad_packed_sequence\n",
        "\n",
        "import nltk\n",
        "try:\n",
        "    nltk.data.find('tokenizers/punkt')\n",
        "    nltk.data.find('averaged_perceptron_tagger')\n",
        "    nltk.data.find('brown')\n",
        "except LookupError:\n",
        "    nltk.download('averaged_perceptron_tagger')\n",
        "    nltk.download('brown')\n",
        "    nltk.download('punkt')\n",
        "from nltk import sent_tokenize,word_tokenize\n",
        "\n",
        "\n",
        "warnings.filterwarnings('ignore')\n",
        "torch.manual_seed(0)"
      ],
      "execution_count": 19,
      "outputs": [
        {
          "output_type": "stream",
          "name": "stdout",
          "text": [
            "Requirement already satisfied: torchsummary in /usr/local/lib/python3.7/dist-packages (1.5.1)\n",
            "Requirement already satisfied: torchinfo in /usr/local/lib/python3.7/dist-packages (1.5.3)\n",
            "Requirement already satisfied: torchviz in /usr/local/lib/python3.7/dist-packages (0.0.2)\n",
            "Requirement already satisfied: torch in /usr/local/lib/python3.7/dist-packages (from torchviz) (1.9.0+cu102)\n",
            "Requirement already satisfied: graphviz in /usr/local/lib/python3.7/dist-packages (from torchviz) (0.10.1)\n",
            "Requirement already satisfied: typing-extensions in /usr/local/lib/python3.7/dist-packages (from torch->torchviz) (3.7.4.3)\n",
            "[nltk_data] Downloading package averaged_perceptron_tagger to\n",
            "[nltk_data]     /root/nltk_data...\n",
            "[nltk_data]   Package averaged_perceptron_tagger is already up-to-\n",
            "[nltk_data]       date!\n",
            "[nltk_data] Downloading package brown to /root/nltk_data...\n",
            "[nltk_data]   Package brown is already up-to-date!\n",
            "[nltk_data] Downloading package punkt to /root/nltk_data...\n",
            "[nltk_data]   Package punkt is already up-to-date!\n"
          ]
        },
        {
          "output_type": "execute_result",
          "data": {
            "text/plain": [
              "<torch._C.Generator at 0x7f7573892650>"
            ]
          },
          "metadata": {},
          "execution_count": 19
        }
      ]
    },
    {
      "cell_type": "code",
      "metadata": {
        "id": "-4O9tu5u6LC6"
      },
      "source": [
        "traning_df = pd.read_csv('/content/Train-Dataset-prcessed.csv')\n",
        "testing_df = pd.read_csv('/content/Test-Dataset-prcessed.csv')"
      ],
      "execution_count": 20,
      "outputs": []
    },
    {
      "cell_type": "code",
      "metadata": {
        "colab": {
          "base_uri": "https://localhost:8080/",
          "height": 412
        },
        "id": "kQmdyRqE6fwK",
        "outputId": "06024393-7b72-4c50-b5a8-c5fec0995d59"
      },
      "source": [
        "traning_df"
      ],
      "execution_count": 21,
      "outputs": [
        {
          "output_type": "execute_result",
          "data": {
            "text/html": [
              "<div>\n",
              "<style scoped>\n",
              "    .dataframe tbody tr th:only-of-type {\n",
              "        vertical-align: middle;\n",
              "    }\n",
              "\n",
              "    .dataframe tbody tr th {\n",
              "        vertical-align: top;\n",
              "    }\n",
              "\n",
              "    .dataframe thead th {\n",
              "        text-align: right;\n",
              "    }\n",
              "</style>\n",
              "<table border=\"1\" class=\"dataframe\">\n",
              "  <thead>\n",
              "    <tr style=\"text-align: right;\">\n",
              "      <th></th>\n",
              "      <th>polarity</th>\n",
              "      <th>number_of_word</th>\n",
              "      <th>number_of_letter</th>\n",
              "      <th>text</th>\n",
              "    </tr>\n",
              "  </thead>\n",
              "  <tbody>\n",
              "    <tr>\n",
              "      <th>0</th>\n",
              "      <td>1</td>\n",
              "      <td>47</td>\n",
              "      <td>266</td>\n",
              "      <td>see i have learned a lot about myself through ...</td>\n",
              "    </tr>\n",
              "    <tr>\n",
              "      <th>1</th>\n",
              "      <td>0</td>\n",
              "      <td>22</td>\n",
              "      <td>115</td>\n",
              "      <td>scodal why thank you this is bonzo he is my bu...</td>\n",
              "    </tr>\n",
              "    <tr>\n",
              "      <th>2</th>\n",
              "      <td>1</td>\n",
              "      <td>32</td>\n",
              "      <td>170</td>\n",
              "      <td>it was one of the best documentarys i watched...</td>\n",
              "    </tr>\n",
              "    <tr>\n",
              "      <th>3</th>\n",
              "      <td>0</td>\n",
              "      <td>12</td>\n",
              "      <td>57</td>\n",
              "      <td>atomiclola awesome i am glad you liked it i am...</td>\n",
              "    </tr>\n",
              "    <tr>\n",
              "      <th>4</th>\n",
              "      <td>1</td>\n",
              "      <td>45</td>\n",
              "      <td>247</td>\n",
              "      <td>that is not necessarily suffering from a menta...</td>\n",
              "    </tr>\n",
              "    <tr>\n",
              "      <th>...</th>\n",
              "      <td>...</td>\n",
              "      <td>...</td>\n",
              "      <td>...</td>\n",
              "      <td>...</td>\n",
              "    </tr>\n",
              "    <tr>\n",
              "      <th>8239</th>\n",
              "      <td>0</td>\n",
              "      <td>11</td>\n",
              "      <td>75</td>\n",
              "      <td>heinz field for the kenny chesney concert  le...</td>\n",
              "    </tr>\n",
              "    <tr>\n",
              "      <th>8240</th>\n",
              "      <td>0</td>\n",
              "      <td>1</td>\n",
              "      <td>7</td>\n",
              "      <td>picture</td>\n",
              "    </tr>\n",
              "    <tr>\n",
              "      <th>8241</th>\n",
              "      <td>0</td>\n",
              "      <td>11</td>\n",
              "      <td>59</td>\n",
              "      <td>dave quotthe catquot cook lands on his feet a...</td>\n",
              "    </tr>\n",
              "    <tr>\n",
              "      <th>8242</th>\n",
              "      <td>1</td>\n",
              "      <td>22</td>\n",
              "      <td>113</td>\n",
              "      <td>lol i have honestly been going through the wor...</td>\n",
              "    </tr>\n",
              "    <tr>\n",
              "      <th>8243</th>\n",
              "      <td>0</td>\n",
              "      <td>5</td>\n",
              "      <td>37</td>\n",
              "      <td>candymaize candydo not stop believing</td>\n",
              "    </tr>\n",
              "  </tbody>\n",
              "</table>\n",
              "<p>8244 rows × 4 columns</p>\n",
              "</div>"
            ],
            "text/plain": [
              "      polarity  ...                                               text\n",
              "0            1  ...  see i have learned a lot about myself through ...\n",
              "1            0  ...  scodal why thank you this is bonzo he is my bu...\n",
              "2            1  ...   it was one of the best documentarys i watched...\n",
              "3            0  ...  atomiclola awesome i am glad you liked it i am...\n",
              "4            1  ...  that is not necessarily suffering from a menta...\n",
              "...        ...  ...                                                ...\n",
              "8239         0  ...   heinz field for the kenny chesney concert  le...\n",
              "8240         0  ...                                            picture\n",
              "8241         0  ...   dave quotthe catquot cook lands on his feet a...\n",
              "8242         1  ...  lol i have honestly been going through the wor...\n",
              "8243         0  ...              candymaize candydo not stop believing\n",
              "\n",
              "[8244 rows x 4 columns]"
            ]
          },
          "metadata": {},
          "execution_count": 21
        }
      ]
    },
    {
      "cell_type": "code",
      "metadata": {
        "id": "7n0l74pAlyr_"
      },
      "source": [
        "label_field = Field(sequential=False, use_vocab=False, batch_first=True, dtype=torch.float)\n",
        "text_field = Field(tokenize='spacy', lower=True, include_lengths=True, batch_first=True)\n",
        "fields = [('polarity', label_field),  ('text', text_field)]\n",
        "\n",
        "\n",
        "train_data = TabularDataset(path=\"/content/Train-Dataset-prcessed.csv\",\n",
        "                                 format=\"csv\",\n",
        "                                  fields=fields,\n",
        "                                 skip_header=True)\n",
        "\n",
        "valid_data = TabularDataset(path=\"/content/Test-Dataset-prcessed.csv\",\n",
        "                                 format=\"csv\",\n",
        "                                  fields=fields,\n",
        "                                 skip_header=True)\n",
        "\n",
        "device = torch.device(\"cuda\" if torch.cuda.is_available() else \"cpu\")\n",
        "\n",
        "train_iter = BucketIterator(train_data, batch_size=32, sort_key=lambda x: len(x.text),\n",
        "                            device=device, sort=True, sort_within_batch=True)\n",
        "valid_iter = BucketIterator(valid_data, batch_size=32, sort_key=lambda x: len(x.text),\n",
        "                            device=device, sort=True, sort_within_batch=True)\n",
        "\n",
        "\n",
        "text_field.build_vocab(train_data,) # min_freq=3,vectors = \"glove.6B.100d\"\n",
        "label_field.build_vocab(train_data)"
      ],
      "execution_count": 22,
      "outputs": []
    },
    {
      "cell_type": "code",
      "metadata": {
        "colab": {
          "base_uri": "https://localhost:8080/"
        },
        "id": "9GXT5L5ADSU3",
        "outputId": "6c1f559e-2066-4b81-c4bc-da7d75c84ab2"
      },
      "source": [
        "#No. of unique tokens in text\n",
        "print(\"Size of TEXT vocabulary:\",len(text_field.vocab))\n",
        "\n",
        "#No. of unique tokens in label\n",
        "print(\"Size of LABEL vocabulary:\",len(label_field.vocab))\n",
        "\n",
        "#Commonly used words\n",
        "print(text_field.vocab.freqs.most_common(10))  \n",
        "\n",
        "#Word dictionary\n",
        "print(text_field.vocab.stoi)   "
      ],
      "execution_count": 23,
      "outputs": [
        {
          "output_type": "stream",
          "name": "stdout",
          "text": [
            "Size of TEXT vocabulary: 64\n",
            "Size of LABEL vocabulary: 3\n",
            "[('8', 459), ('6', 446), ('7', 427), ('5', 407), ('9', 407), ('13', 379), ('10', 376), ('11', 369), ('12', 359), ('4', 329)]\n",
            "defaultdict(<bound method Vocab._default_unk_index of <torchtext.legacy.vocab.Vocab object at 0x7f7554e9b190>>, {'<unk>': 0, '<pad>': 1, '8': 2, '6': 3, '7': 4, '5': 5, '9': 6, '13': 7, '10': 8, '11': 9, '12': 10, '4': 11, '15': 12, '14': 13, '16': 14, '18': 15, '17': 16, '3': 17, '19': 18, '21': 19, '20': 20, '23': 21, '22': 22, '24': 23, '2': 24, '25': 25, '26': 26, '27': 27, '29': 28, '28': 29, '1': 30, '30': 31, '32': 32, '31': 33, '36': 34, '38': 35, '39': 36, '45': 37, '41': 38, '33': 39, '34': 40, '42': 41, '43': 42, '48': 43, '49': 44, '44': 45, '47': 46, '46': 47, '37': 48, '40': 49, '35': 50, '50': 51, '52': 52, '51': 53, '53': 54, '54': 55, '55': 56, '56': 57, '58': 58, '61': 59, '57': 60, '59': 61, '60': 62, '62': 63})\n"
          ]
        }
      ]
    },
    {
      "cell_type": "code",
      "metadata": {
        "id": "J_GgfPEM1Rri"
      },
      "source": [
        "# for batch in train_iter:\n",
        "#     print(batch.polarity)\n",
        "#     print(batch.text)"
      ],
      "execution_count": 24,
      "outputs": []
    },
    {
      "cell_type": "markdown",
      "metadata": {
        "id": "_oF4NWmtDAEE"
      },
      "source": [
        "## Code 1\n"
      ]
    },
    {
      "cell_type": "code",
      "metadata": {
        "id": "hNxd9n-6JUeb"
      },
      "source": [
        "# import torch.nn as nn\n",
        "# class LSTMTagger(torch.nn.Module):\n",
        "\n",
        "#     def __init__(self, embedding_dim, hidden_dim, vocab_size, tagset_size):\n",
        "#         super(LSTMTagger, self).__init__()\n",
        "#         self.hidden_dim = hidden_dim\n",
        "\n",
        "#         self.word_embeddings = nn.Embedding(vocab_size, embedding_dim)\n",
        "\n",
        "#         # The LSTM takes word embeddings as inputs, and outputs hidden states\n",
        "#         # with dimensionality hidden_dim.\n",
        "#         self.lstm = nn.LSTM(embedding_dim, hidden_dim)\n",
        "\n",
        "#         # The linear layer that maps from hidden state space to tag space\n",
        "#         self.hidden2tag = nn.Linear(hidden_dim, tagset_size)\n",
        "\n",
        "#     def forward(self, sentence):\n",
        "#         embeds = self.word_embeddings(sentence)\n",
        "#         # print(len(sentence))\n",
        "        \n",
        "#         x = embeds.view(len(sentence), 1, -1)\n",
        "        \n",
        "#         # print(x.shape)\n",
        "#         lstm_out, _ = self.lstm(x)\n",
        "#         tag_space = self.hidden2tag(lstm_out.view(len(sentence), -1))\n",
        "#         tag_scores = torch.nn.functional.log_softmax(tag_space, dim=1)\n",
        "#         return tag_scores"
      ],
      "execution_count": 25,
      "outputs": []
    },
    {
      "cell_type": "code",
      "metadata": {
        "id": "Ve_OtXk4JcID"
      },
      "source": [
        "# EMBEDDING_DIM = 6\n",
        "# HIDDEN_DIM = 6\n",
        "# model = LSTMTagger(EMBEDDING_DIM, HIDDEN_DIM, len(text_field.vocab), 1)\n",
        "# loss_function = torch.nn.NLLLoss()\n",
        "# optimizer = optim.Adam(model.parameters(), lr=0.00001)\n",
        "# criterion = torch.nn.BCEWithLogitsLoss()"
      ],
      "execution_count": 26,
      "outputs": []
    },
    {
      "cell_type": "code",
      "metadata": {
        "id": "ubro-1vsQyAi"
      },
      "source": [
        "# from torchinfo import summary\n",
        "# summary( model, input_size=(1,),dtypes=[torch.long],)"
      ],
      "execution_count": 27,
      "outputs": []
    },
    {
      "cell_type": "code",
      "metadata": {
        "id": "cVP8QA7eKHXT"
      },
      "source": [
        "# def binary_accuracy(preds, y):\n",
        "\n",
        "#     rounded_preds = torch.round(torch.sigmoid(preds))\n",
        "#     correct = (rounded_preds == y).float() \n",
        "#     acc = correct.sum() / len(correct)\n",
        "#     return acc"
      ],
      "execution_count": 28,
      "outputs": []
    },
    {
      "cell_type": "code",
      "metadata": {
        "id": "-sm8DhuuKIAF"
      },
      "source": [
        "# # training function \n",
        "# def train(model, iterator):\n",
        "    \n",
        "#     epoch_loss = 0\n",
        "#     epoch_acc = 0\n",
        "    \n",
        "#     model.train()\n",
        "    \n",
        "#     for i,batch in enumerate( iterator,1):\n",
        "#         text, text_lengths = batch.text\n",
        "        \n",
        "#         optimizer.zero_grad()\n",
        "#         predictions = model(text,).squeeze(1)\n",
        "        \n",
        "#         loss = criterion(predictions, batch.polarity)\n",
        "#         acc = binary_accuracy(predictions, batch.polarity)\n",
        "\n",
        "#         loss.backward()\n",
        "#         optimizer.step()\n",
        "        \n",
        "#         epoch_loss += loss.item()\n",
        "#         epoch_acc += acc.item()\n",
        "\n",
        "#         print_val = f\"running_loss : {(loss.item()):.6f}\\t\"\n",
        "#         print_val += f\"running_corrects : {acc.item():.6f}\\t\"  \n",
        "#         sys.stdout.write('\\r' + str(print_val))\n",
        "        \n",
        "\n",
        "#     return epoch_loss / len(iterator), epoch_acc / len(iterator)"
      ],
      "execution_count": 29,
      "outputs": []
    },
    {
      "cell_type": "code",
      "metadata": {
        "id": "sqx1YxbhKIUS"
      },
      "source": [
        "# def evaluate(model, iterator):\n",
        "    \n",
        "#     epoch_loss = 0\n",
        "#     epoch_acc = 0\n",
        "#     model.eval()\n",
        "    \n",
        "#     with torch.no_grad():\n",
        "#         for batch in iterator:\n",
        "#             text, text_lengths = batch.text\n",
        "#             predictions = model(text,).squeeze(1)\n",
        "#             loss = criterion(predictions, batch.polarity)\n",
        "#             acc = binary_accuracy(predictions, batch.polarity)\n",
        "            \n",
        "#             epoch_acc += acc.item()\n",
        "#             epoch_loss += loss.item()\n",
        "        \n",
        "#     return  epoch_loss / len(iterator), epoch_acc / len(iterator) "
      ],
      "execution_count": 30,
      "outputs": []
    },
    {
      "cell_type": "code",
      "metadata": {
        "id": "RAvQiQFkKI3j"
      },
      "source": [
        "# t = time.time()\n",
        "# loss=[]\n",
        "# acc=[]\n",
        "# val_acc=[]\n",
        "# val_loss=[]\n",
        "# num_epochs = 100\n",
        "\n",
        "# for epoch in range(num_epochs):\n",
        "    \n",
        "#     train_loss, train_acc = train(model, train_iter)\n",
        "#     valid_loss, valid_acc = evaluate(model, valid_iter)\n",
        "    \n",
        "#     print(f'\\tTrain Loss: {train_loss:.3f} | Train Acc: {train_acc*100:.2f}%  | Val. Acc: {valid_acc*100:.2f}%')\n",
        "#     # print(f'\\t')\n",
        "    \n",
        "#     loss.append(train_loss)\n",
        "#     acc.append(train_acc)\n",
        "#     val_loss.append(valid_loss)\n",
        "#     val_acc.append(valid_acc)\n",
        "    \n",
        "# print(f'time:{time.time()-t:.3f}')"
      ],
      "execution_count": 31,
      "outputs": []
    },
    {
      "cell_type": "markdown",
      "metadata": {
        "id": "P5ZSxIp5MTF9"
      },
      "source": [
        "## Code 2\n"
      ]
    },
    {
      "cell_type": "code",
      "metadata": {
        "id": "eAoLfKd3MTF9"
      },
      "source": [
        "# import torch.nn as nn\n",
        "# class RNNModel(torch.nn.Module):\n",
        "\n",
        "#     def __init__(self, embedding_dim, hidden_dim, vocab_size, tagset_size):\n",
        "#         super(RNNModel, self).__init__()\n",
        "#         self.hidden_dim = hidden_dim\n",
        "\n",
        "#         self.word_embeddings = nn.Embedding(vocab_size, embedding_dim)\n",
        "\n",
        "#         self.rnn = nn.RNN(embedding_dim, hidden_dim, 2, batch_first=True, nonlinearity='relu')\n",
        "#         self.fc = nn.Linear(hidden_dim, tagset_size)\n",
        "\n",
        "#     def forward(self, sentence):\n",
        "#         embeds = self.word_embeddings(sentence)\n",
        "#         # print(len(sentence))\n",
        "#         # x = embeds.view(len(sentence), 1, -1)\n",
        "#          # Initialize hidden state with zeros\n",
        "#         h0 = torch.autograd.Variable(torch.zeros(2, sentence.size(0), self.hidden_dim))\n",
        "            \n",
        "#         out, hn = self.rnn(embeds, h0)\n",
        "#         out = self.fc(out[:, -1, :]) \n",
        "#         return out"
      ],
      "execution_count": 32,
      "outputs": []
    },
    {
      "cell_type": "code",
      "metadata": {
        "id": "YJRiBgIdMTF9"
      },
      "source": [
        "# EMBEDDING_DIM = 6\n",
        "# HIDDEN_DIM = 6\n",
        "# model = RNNModel(EMBEDDING_DIM, HIDDEN_DIM, len(text_field.vocab), 1)\n",
        "# loss_function = torch.nn.NLLLoss()\n",
        "# optimizer = optim.Adam(model.parameters(), lr=0.00001)\n",
        "# criterion = torch.nn.BCEWithLogitsLoss()"
      ],
      "execution_count": 33,
      "outputs": []
    },
    {
      "cell_type": "code",
      "metadata": {
        "id": "rVNkJWhbMTF-"
      },
      "source": [
        "# from torchinfo import summary\n",
        "# summary( model, input_size=(1,),dtypes=[torch.long],)"
      ],
      "execution_count": 34,
      "outputs": []
    },
    {
      "cell_type": "code",
      "metadata": {
        "id": "EOXrDyt9MTF-"
      },
      "source": [
        "# def binary_accuracy(preds, y):\n",
        "\n",
        "#     rounded_preds = torch.round(torch.sigmoid(preds))\n",
        "#     correct = (rounded_preds == y).float() \n",
        "#     acc = correct.sum() / len(correct)\n",
        "#     return acc"
      ],
      "execution_count": 35,
      "outputs": []
    },
    {
      "cell_type": "code",
      "metadata": {
        "id": "dDatcS7MMTF-"
      },
      "source": [
        "# # training function \n",
        "# def train(model, iterator):\n",
        "    \n",
        "#     epoch_loss = 0\n",
        "#     epoch_acc = 0\n",
        "    \n",
        "#     model.train()\n",
        "    \n",
        "#     for i,batch in enumerate( iterator,1):\n",
        "#         text, text_lengths = batch.text\n",
        "        \n",
        "#         optimizer.zero_grad()\n",
        "#         predictions = model(text,).squeeze(1)\n",
        "        \n",
        "#         loss = criterion(predictions, batch.polarity)\n",
        "#         acc = binary_accuracy(predictions, batch.polarity)\n",
        "\n",
        "#         loss.backward()\n",
        "#         optimizer.step()\n",
        "        \n",
        "#         epoch_loss += loss.item()\n",
        "#         epoch_acc += acc.item()\n",
        "\n",
        "#         print_val = f\"running_loss : {(loss.item()):.6f}\\t\"\n",
        "#         print_val += f\"running_corrects : {acc.item():.6f}\\t\"  \n",
        "#         sys.stdout.write('\\r' + str(print_val))\n",
        "        \n",
        "\n",
        "#     return epoch_loss / len(iterator), epoch_acc / len(iterator)"
      ],
      "execution_count": 36,
      "outputs": []
    },
    {
      "cell_type": "code",
      "metadata": {
        "id": "OyC3bM4qMTF-"
      },
      "source": [
        "# def evaluate(model, iterator):\n",
        "    \n",
        "#     epoch_loss = 0\n",
        "#     epoch_acc = 0\n",
        "#     model.eval()\n",
        "    \n",
        "#     with torch.no_grad():\n",
        "#         for batch in iterator:\n",
        "#             text, text_lengths = batch.text\n",
        "#             predictions = model(text,).squeeze(1)\n",
        "#             loss = criterion(predictions, batch.polarity)\n",
        "#             acc = binary_accuracy(predictions, batch.polarity)\n",
        "            \n",
        "#             epoch_acc += acc.item()\n",
        "#             epoch_loss += loss.item()\n",
        "        \n",
        "#     return  epoch_loss / len(iterator), epoch_acc / len(iterator) "
      ],
      "execution_count": 37,
      "outputs": []
    },
    {
      "cell_type": "code",
      "metadata": {
        "id": "xgdcIV9fMTF-"
      },
      "source": [
        "# t = time.time()\n",
        "# loss=[]\n",
        "# acc=[]\n",
        "# val_acc=[]\n",
        "# val_loss=[]\n",
        "# num_epochs = 100\n",
        "\n",
        "# for epoch in range(num_epochs):\n",
        "    \n",
        "#     train_loss, train_acc = train(model, train_iter)\n",
        "#     valid_loss, valid_acc = evaluate(model, valid_iter)\n",
        "    \n",
        "#     print(f'\\tTrain Loss: {train_loss:.3f} | Train Acc: {train_acc*100:.2f}%  | Val. Acc: {valid_acc*100:.2f}%')\n",
        "#     # print(f'\\t')\n",
        "    \n",
        "#     loss.append(train_loss)\n",
        "#     acc.append(train_acc)\n",
        "#     val_loss.append(valid_loss)\n",
        "#     val_acc.append(valid_acc)\n",
        "    \n",
        "# print(f'time:{time.time()-t:.3f}')"
      ],
      "execution_count": 38,
      "outputs": []
    },
    {
      "cell_type": "markdown",
      "metadata": {
        "id": "ePXzQUbiGsYR"
      },
      "source": [
        "## Code 3 Model "
      ]
    },
    {
      "cell_type": "code",
      "metadata": {
        "id": "3cmBea1XREfM"
      },
      "source": [
        "import torch.nn as nn\n",
        "\n",
        "class LSTM_net(nn.Module):\n",
        "    def __init__(self, vocab_size, embedding_dim, hidden_dim, output_dim, n_layers, \n",
        "                 bidirectional, dropout, pad_idx):\n",
        "        \n",
        "        super().__init__()\n",
        "        \n",
        "        self.embedding = nn.Embedding(vocab_size, embedding_dim, padding_idx = pad_idx)\n",
        "        \n",
        "        self.rnn = nn.LSTM(embedding_dim, \n",
        "                           hidden_dim, \n",
        "                           num_layers=n_layers, \n",
        "                           bidirectional=bidirectional, \n",
        "                           dropout=dropout)\n",
        "        \n",
        "        self.fc1 = nn.Linear(hidden_dim * 2, hidden_dim)\n",
        "        \n",
        "        self.fc2 = nn.Linear(hidden_dim, 1)\n",
        "        \n",
        "        self.dropout = nn.Dropout(dropout)\n",
        "        \n",
        "    def forward(self, text, text_lengths):\n",
        "        \n",
        "        # text = [sent len, batch size]\n",
        "        \n",
        "        embedded = self.embedding(text)\n",
        "        \n",
        "        # embedded = [sent len, batch size, emb dim]\n",
        "        \n",
        "        #pack sequence\n",
        "        # print(embedded.shape,text_lengths)\n",
        "        packed_embedded = nn.utils.rnn.pack_padded_sequence(embedded, text_lengths,batch_first=True)\n",
        "        \n",
        "        packed_output, (hidden, cell) = self.rnn(packed_embedded)\n",
        "        \n",
        "        #unpack sequence\n",
        "        # output, output_lengths = nn.utils.rnn.pad_packed_sequence(packed_output)\n",
        "\n",
        "        # output = [sent len, batch size, hid dim * num directions]\n",
        "        # output over padding tokens are zero tensors\n",
        "        \n",
        "        # hidden = [num layers * num directions, batch size, hid dim]\n",
        "        # cell = [num layers * num directions, batch size, hid dim]\n",
        "        \n",
        "        # concat the final forward (hidden[-2,:,:]) and backward (hidden[-1,:,:]) hidden layers\n",
        "        # and apply dropout\n",
        "        \n",
        "        hidden = self.dropout(torch.cat((hidden[-2,:,:], hidden[-1,:,:]), dim = 1))\n",
        "        output = self.fc1(hidden)\n",
        "        output = self.dropout(self.fc2(output))\n",
        "                \n",
        "        #hidden = [batch size, hid dim * num directions]\n",
        "            \n",
        "        return output\n",
        "\n",
        "\n"
      ],
      "execution_count": 39,
      "outputs": []
    },
    {
      "cell_type": "code",
      "metadata": {
        "id": "pf-hTYsT4TH-"
      },
      "source": [
        "class CNN(torch.nn.Module): \n",
        "    def __init__(self , vocab_size, embedding_dim, hidden_dim, output_dim, n_layers, \n",
        "                 bidirectional, dropout, pad_idx):\n",
        "        super(CNN, self).__init__()\n",
        "\n",
        "        self.embedding = torch.nn.Embedding(vocab_size, embedding_dim, padding_idx = pad_idx)\n",
        "\n",
        "        #initializing convolution layer\n",
        "        self.conv1 = torch.nn.Conv2d(in_channels=1, out_channels=16, kernel_size=3)\n",
        "        self.conv2 = torch.nn.Conv2d(in_channels=16, out_channels=32, kernel_size=3)\n",
        "        self.conv3 = torch.nn.Conv2d(in_channels=32, out_channels=64, kernel_size=1)\n",
        "\n",
        "        #initializing dropout \n",
        "        self.dropout = torch.nn.Dropout(0.2)\n",
        "\n",
        "        #initializing MaxPool2d \n",
        "        self.pool= torch.nn.MaxPool2d(2,2)\n",
        " \n",
        "        #initializing linear\n",
        "        self.fc1 = torch.nn.Linear(64* 1* 1, 512)\n",
        "        self.fc2 = torch.nn.Linear(512,64)\n",
        "        self.fc3 = torch.nn.Linear(64,output_dim)\n",
        "\n",
        " \n",
        "    def forward(self, text):\n",
        "        embedded = self.embedding(text)\n",
        "        x = embedded.view(-1,1,16,16) \n",
        "        x = self.pool(torch.nn.functional.relu(self.conv1(x)))\n",
        "        x = self.dropout(x)\n",
        "        x = self.pool(torch.nn.functional.relu(self.conv2(x))) \n",
        "        x = self.dropout(x)\n",
        "        x = self.pool(torch.nn.functional.relu(self.conv3(x))) \n",
        "        x = x.view(-1, 64* 1* 1) \n",
        "        # x = self.pool(torch.nn.functional.relu(x)) \n",
        "        # x = x.view(-1, 32* 1* 1) \n",
        "        x = torch.nn.functional.relu(self.fc1(x))\n",
        "        x = torch.nn.functional.relu(self.fc2(x))\n",
        "        x = self.fc3(x)\n",
        "        return x\n",
        "\n",
        "\n"
      ],
      "execution_count": 40,
      "outputs": []
    },
    {
      "cell_type": "code",
      "metadata": {
        "id": "qhleHCW344v2"
      },
      "source": [
        "# Hyperparameters\n",
        "num_epochs = 100\n",
        "learning_rate = 0.0001\n",
        "\n",
        "INPUT_DIM = len(text_field.vocab)\n",
        "EMBEDDING_DIM = 256\n",
        "HIDDEN_DIM = 256\n",
        "OUTPUT_DIM = 1\n",
        "N_LAYERS = 2\n",
        "BIDIRECTIONAL = True\n",
        "DROPOUT = 0.2\n",
        "PAD_IDX = text_field.vocab.stoi[text_field.pad_token] # padding"
      ],
      "execution_count": 41,
      "outputs": []
    },
    {
      "cell_type": "code",
      "metadata": {
        "id": "ZWHp10bmBKv0",
        "colab": {
          "base_uri": "https://localhost:8080/"
        },
        "outputId": "36019882-56ec-496a-f21c-0811cdf57a7e"
      },
      "source": [
        "model = CNN(INPUT_DIM, \n",
        "            EMBEDDING_DIM, \n",
        "            HIDDEN_DIM, \n",
        "            OUTPUT_DIM, \n",
        "            N_LAYERS, \n",
        "            BIDIRECTIONAL, \n",
        "            DROPOUT, \n",
        "            PAD_IDX).to(device)\n",
        "\n",
        "from torchinfo import summary\n",
        "summary( model, input_size=(1, 10),dtypes=[torch.long],)"
      ],
      "execution_count": 42,
      "outputs": [
        {
          "output_type": "execute_result",
          "data": {
            "text/plain": [
              "==========================================================================================\n",
              "Layer (type:depth-idx)                   Output Shape              Param #\n",
              "==========================================================================================\n",
              "CNN                                      --                        --\n",
              "├─Embedding: 1-1                         [1, 10, 256]              16,384\n",
              "├─Conv2d: 1-2                            [10, 16, 14, 14]          160\n",
              "├─MaxPool2d: 1-3                         [10, 16, 7, 7]            --\n",
              "├─Dropout: 1-4                           [10, 16, 7, 7]            --\n",
              "├─Conv2d: 1-5                            [10, 32, 5, 5]            4,640\n",
              "├─MaxPool2d: 1-6                         [10, 32, 2, 2]            --\n",
              "├─Dropout: 1-7                           [10, 32, 2, 2]            --\n",
              "├─Conv2d: 1-8                            [10, 64, 2, 2]            2,112\n",
              "├─MaxPool2d: 1-9                         [10, 64, 1, 1]            --\n",
              "├─Linear: 1-10                           [10, 512]                 33,280\n",
              "├─Linear: 1-11                           [10, 64]                  32,832\n",
              "├─Linear: 1-12                           [10, 1]                   65\n",
              "==========================================================================================\n",
              "Total params: 89,473\n",
              "Trainable params: 89,473\n",
              "Non-trainable params: 0\n",
              "Total mult-adds (M): 2.24\n",
              "==========================================================================================\n",
              "Input size (MB): 0.00\n",
              "Forward/backward pass size (MB): 0.40\n",
              "Params size (MB): 0.36\n",
              "Estimated Total Size (MB): 0.76\n",
              "=========================================================================================="
            ]
          },
          "metadata": {},
          "execution_count": 42
        }
      ]
    },
    {
      "cell_type": "code",
      "metadata": {
        "id": "pCBLWBNV-Mh5",
        "colab": {
          "base_uri": "https://localhost:8080/",
          "height": 1000
        },
        "outputId": "9db4e9ae-178e-4ebf-987e-87e223db0858"
      },
      "source": [
        "x = torch.randint(3, 5, (1,10)).to(device)\n",
        "make_dot(model(x), params=dict(model.named_parameters()), show_attrs=True, show_saved=True)"
      ],
      "execution_count": 43,
      "outputs": [
        {
          "output_type": "execute_result",
          "data": {
            "text/plain": [
              "<graphviz.dot.Digraph at 0x7f7553964890>"
            ],
            "image/svg+xml": "<?xml version=\"1.0\" encoding=\"UTF-8\" standalone=\"no\"?>\n<!DOCTYPE svg PUBLIC \"-//W3C//DTD SVG 1.1//EN\"\n \"http://www.w3.org/Graphics/SVG/1.1/DTD/svg11.dtd\">\n<!-- Generated by graphviz version 2.40.1 (20161225.0304)\n -->\n<!-- Title: %3 Pages: 1 -->\n<svg width=\"803pt\" height=\"1652pt\"\n viewBox=\"0.00 0.00 802.96 1652.00\" xmlns=\"http://www.w3.org/2000/svg\" xmlns:xlink=\"http://www.w3.org/1999/xlink\">\n<g id=\"graph0\" class=\"graph\" transform=\"scale(.7201 .7201) rotate(0) translate(4 2290)\">\n<title>%3</title>\n<polygon fill=\"#ffffff\" stroke=\"transparent\" points=\"-4,4 -4,-2290 1111,-2290 1111,4 -4,4\"/>\n<!-- 140141890112880 -->\n<g id=\"node1\" class=\"node\">\n<title>140141890112880</title>\n<polygon fill=\"#caff70\" stroke=\"#000000\" points=\"364,-31 299,-31 299,0 364,0 364,-31\"/>\n<text text-anchor=\"middle\" x=\"331.5\" y=\"-7\" font-family=\"monospace\" font-size=\"10.00\" fill=\"#000000\"> (10, 1)</text>\n</g>\n<!-- 140141896211728 -->\n<g id=\"node2\" class=\"node\">\n<title>140141896211728</title>\n<polygon fill=\"#d3d3d3\" stroke=\"#000000\" points=\"510,-185 325,-185 325,-67 510,-67 510,-185\"/>\n<text text-anchor=\"middle\" x=\"417.5\" y=\"-173\" font-family=\"monospace\" font-size=\"10.00\" fill=\"#000000\">AddmmBackward</text>\n<text text-anchor=\"middle\" x=\"417.5\" y=\"-162\" font-family=\"monospace\" font-size=\"10.00\" fill=\"#000000\">&#45;&#45;&#45;&#45;&#45;&#45;&#45;&#45;&#45;&#45;&#45;&#45;&#45;&#45;&#45;&#45;&#45;&#45;&#45;&#45;&#45;&#45;&#45;&#45;&#45;&#45;&#45;&#45;</text>\n<text text-anchor=\"middle\" x=\"417.5\" y=\"-151\" font-family=\"monospace\" font-size=\"10.00\" fill=\"#000000\">alpha &#160;&#160;&#160;&#160;&#160;&#160;: &#160;&#160;&#160;&#160;&#160;&#160;&#160;&#160;&#160;&#160;&#160;&#160;&#160;1</text>\n<text text-anchor=\"middle\" x=\"417.5\" y=\"-140\" font-family=\"monospace\" font-size=\"10.00\" fill=\"#000000\">beta &#160;&#160;&#160;&#160;&#160;&#160;&#160;: &#160;&#160;&#160;&#160;&#160;&#160;&#160;&#160;&#160;&#160;&#160;&#160;&#160;1</text>\n<text text-anchor=\"middle\" x=\"417.5\" y=\"-129\" font-family=\"monospace\" font-size=\"10.00\" fill=\"#000000\">mat1 &#160;&#160;&#160;&#160;&#160;&#160;&#160;: [saved tensor]</text>\n<text text-anchor=\"middle\" x=\"417.5\" y=\"-118\" font-family=\"monospace\" font-size=\"10.00\" fill=\"#000000\">mat1_sizes &#160;: &#160;&#160;&#160;&#160;&#160;&#160;(10, 64)</text>\n<text text-anchor=\"middle\" x=\"417.5\" y=\"-107\" font-family=\"monospace\" font-size=\"10.00\" fill=\"#000000\">mat1_strides: &#160;&#160;&#160;&#160;&#160;&#160;&#160;(64, 1)</text>\n<text text-anchor=\"middle\" x=\"417.5\" y=\"-96\" font-family=\"monospace\" font-size=\"10.00\" fill=\"#000000\">mat2 &#160;&#160;&#160;&#160;&#160;&#160;&#160;: [saved tensor]</text>\n<text text-anchor=\"middle\" x=\"417.5\" y=\"-85\" font-family=\"monospace\" font-size=\"10.00\" fill=\"#000000\">mat2_sizes &#160;: &#160;&#160;&#160;&#160;&#160;&#160;&#160;(64, 1)</text>\n<text text-anchor=\"middle\" x=\"417.5\" y=\"-74\" font-family=\"monospace\" font-size=\"10.00\" fill=\"#000000\">mat2_strides: &#160;&#160;&#160;&#160;&#160;&#160;&#160;(1, 64)</text>\n</g>\n<!-- 140141896211728&#45;&gt;140141890112880 -->\n<g id=\"edge76\" class=\"edge\">\n<title>140141896211728&#45;&gt;140141890112880</title>\n<path fill=\"none\" stroke=\"#000000\" d=\"M371.4788,-66.8681C363.891,-57.1186 356.4292,-47.5312 350.0449,-39.3281\"/>\n<polygon fill=\"#000000\" stroke=\"#000000\" points=\"352.7257,-37.0739 343.8217,-31.332 347.2016,-41.3732 352.7257,-37.0739\"/>\n</g>\n<!-- 140141890693392 -->\n<g id=\"node3\" class=\"node\">\n<title>140141890693392</title>\n<polygon fill=\"#ffa500\" stroke=\"#000000\" points=\"453,-30.5 382,-30.5 382,-.5 453,-.5 453,-30.5\"/>\n<text text-anchor=\"middle\" x=\"417.5\" y=\"-18.5\" font-family=\"monospace\" font-size=\"10.00\" fill=\"#000000\">mat1</text>\n<text text-anchor=\"middle\" x=\"417.5\" y=\"-7.5\" font-family=\"monospace\" font-size=\"10.00\" fill=\"#000000\"> (10, 64)</text>\n</g>\n<!-- 140141896211728&#45;&gt;140141890693392 -->\n<g id=\"edge1\" class=\"edge\">\n<title>140141896211728&#45;&gt;140141890693392</title>\n<path fill=\"none\" stroke=\"#000000\" d=\"M417.5,-66.8681C417.5,-53.5267 417.5,-40.4887 417.5,-30.8863\"/>\n</g>\n<!-- 140141890694432 -->\n<g id=\"node4\" class=\"node\">\n<title>140141890694432</title>\n<polygon fill=\"#ffa500\" stroke=\"#000000\" points=\"536,-30.5 471,-30.5 471,-.5 536,-.5 536,-30.5\"/>\n<text text-anchor=\"middle\" x=\"503.5\" y=\"-18.5\" font-family=\"monospace\" font-size=\"10.00\" fill=\"#000000\">mat2</text>\n<text text-anchor=\"middle\" x=\"503.5\" y=\"-7.5\" font-family=\"monospace\" font-size=\"10.00\" fill=\"#000000\"> (64, 1)</text>\n</g>\n<!-- 140141896211728&#45;&gt;140141890694432 -->\n<g id=\"edge2\" class=\"edge\">\n<title>140141896211728&#45;&gt;140141890694432</title>\n<path fill=\"none\" stroke=\"#000000\" d=\"M463.5212,-66.8681C473.9045,-53.5267 484.0518,-40.4887 491.5251,-30.8863\"/>\n</g>\n<!-- 140142023209616 -->\n<g id=\"node5\" class=\"node\">\n<title>140142023209616</title>\n<polygon fill=\"#d3d3d3\" stroke=\"#000000\" points=\"364,-251 263,-251 263,-232 364,-232 364,-251\"/>\n<text text-anchor=\"middle\" x=\"313.5\" y=\"-239\" font-family=\"monospace\" font-size=\"10.00\" fill=\"#000000\">AccumulateGrad</text>\n</g>\n<!-- 140142023209616&#45;&gt;140141896211728 -->\n<g id=\"edge3\" class=\"edge\">\n<title>140142023209616&#45;&gt;140141896211728</title>\n<path fill=\"none\" stroke=\"#000000\" d=\"M322.367,-231.6525C330.5986,-222.5106 343.6331,-208.0349 357.4445,-192.6962\"/>\n<polygon fill=\"#000000\" stroke=\"#000000\" points=\"360.179,-194.89 364.2695,-185.1166 354.977,-190.206 360.179,-194.89\"/>\n</g>\n<!-- 140142024556288 -->\n<g id=\"node6\" class=\"node\">\n<title>140142024556288</title>\n<polygon fill=\"#add8e6\" stroke=\"#000000\" points=\"346,-372 281,-372 281,-342 346,-342 346,-372\"/>\n<text text-anchor=\"middle\" x=\"313.5\" y=\"-360\" font-family=\"monospace\" font-size=\"10.00\" fill=\"#000000\">fc3.bias</text>\n<text text-anchor=\"middle\" x=\"313.5\" y=\"-349\" font-family=\"monospace\" font-size=\"10.00\" fill=\"#000000\"> (1)</text>\n</g>\n<!-- 140142024556288&#45;&gt;140142023209616 -->\n<g id=\"edge4\" class=\"edge\">\n<title>140142024556288&#45;&gt;140142023209616</title>\n<path fill=\"none\" stroke=\"#000000\" d=\"M313.5,-341.9004C313.5,-321.2903 313.5,-284.3051 313.5,-261.4365\"/>\n<polygon fill=\"#000000\" stroke=\"#000000\" points=\"317.0001,-261.2014 313.5,-251.2014 310.0001,-261.2014 317.0001,-261.2014\"/>\n</g>\n<!-- 140142411462992 -->\n<g id=\"node7\" class=\"node\">\n<title>140142411462992</title>\n<polygon fill=\"#d3d3d3\" stroke=\"#000000\" points=\"850,-262 713,-262 713,-221 850,-221 850,-262\"/>\n<text text-anchor=\"middle\" x=\"781.5\" y=\"-250\" font-family=\"monospace\" font-size=\"10.00\" fill=\"#000000\">ReluBackward0</text>\n<text text-anchor=\"middle\" x=\"781.5\" y=\"-239\" font-family=\"monospace\" font-size=\"10.00\" fill=\"#000000\">&#45;&#45;&#45;&#45;&#45;&#45;&#45;&#45;&#45;&#45;&#45;&#45;&#45;&#45;&#45;&#45;&#45;&#45;&#45;&#45;</text>\n<text text-anchor=\"middle\" x=\"781.5\" y=\"-228\" font-family=\"monospace\" font-size=\"10.00\" fill=\"#000000\">self: [saved tensor]</text>\n</g>\n<!-- 140142411462992&#45;&gt;140141896211728 -->\n<g id=\"edge5\" class=\"edge\">\n<title>140142411462992&#45;&gt;140141896211728</title>\n<path fill=\"none\" stroke=\"#000000\" d=\"M716.8435,-220.984C662.2397,-203.6578 583.0699,-178.5366 519.8628,-158.4805\"/>\n<polygon fill=\"#000000\" stroke=\"#000000\" points=\"520.8506,-155.122 510.2603,-155.4336 518.7334,-161.7942 520.8506,-155.122\"/>\n</g>\n<!-- 140142023338016 -->\n<g id=\"node8\" class=\"node\">\n<title>140142023338016</title>\n<polygon fill=\"#ffa500\" stroke=\"#000000\" points=\"817,-141 746,-141 746,-111 817,-111 817,-141\"/>\n<text text-anchor=\"middle\" x=\"781.5\" y=\"-129\" font-family=\"monospace\" font-size=\"10.00\" fill=\"#000000\">self</text>\n<text text-anchor=\"middle\" x=\"781.5\" y=\"-118\" font-family=\"monospace\" font-size=\"10.00\" fill=\"#000000\"> (10, 64)</text>\n</g>\n<!-- 140142411462992&#45;&gt;140142023338016 -->\n<g id=\"edge6\" class=\"edge\">\n<title>140142411462992&#45;&gt;140142023338016</title>\n<path fill=\"none\" stroke=\"#000000\" d=\"M781.5,-220.8509C781.5,-198.0109 781.5,-161.744 781.5,-141.3077\"/>\n</g>\n<!-- 140142024229136 -->\n<g id=\"node9\" class=\"node\">\n<title>140142024229136</title>\n<polygon fill=\"#d3d3d3\" stroke=\"#000000\" points=\"793,-416 608,-416 608,-298 793,-298 793,-416\"/>\n<text text-anchor=\"middle\" x=\"700.5\" y=\"-404\" font-family=\"monospace\" font-size=\"10.00\" fill=\"#000000\">AddmmBackward</text>\n<text text-anchor=\"middle\" x=\"700.5\" y=\"-393\" font-family=\"monospace\" font-size=\"10.00\" fill=\"#000000\">&#45;&#45;&#45;&#45;&#45;&#45;&#45;&#45;&#45;&#45;&#45;&#45;&#45;&#45;&#45;&#45;&#45;&#45;&#45;&#45;&#45;&#45;&#45;&#45;&#45;&#45;&#45;&#45;</text>\n<text text-anchor=\"middle\" x=\"700.5\" y=\"-382\" font-family=\"monospace\" font-size=\"10.00\" fill=\"#000000\">alpha &#160;&#160;&#160;&#160;&#160;&#160;: &#160;&#160;&#160;&#160;&#160;&#160;&#160;&#160;&#160;&#160;&#160;&#160;&#160;1</text>\n<text text-anchor=\"middle\" x=\"700.5\" y=\"-371\" font-family=\"monospace\" font-size=\"10.00\" fill=\"#000000\">beta &#160;&#160;&#160;&#160;&#160;&#160;&#160;: &#160;&#160;&#160;&#160;&#160;&#160;&#160;&#160;&#160;&#160;&#160;&#160;&#160;1</text>\n<text text-anchor=\"middle\" x=\"700.5\" y=\"-360\" font-family=\"monospace\" font-size=\"10.00\" fill=\"#000000\">mat1 &#160;&#160;&#160;&#160;&#160;&#160;&#160;: [saved tensor]</text>\n<text text-anchor=\"middle\" x=\"700.5\" y=\"-349\" font-family=\"monospace\" font-size=\"10.00\" fill=\"#000000\">mat1_sizes &#160;: &#160;&#160;&#160;&#160;&#160;(10, 512)</text>\n<text text-anchor=\"middle\" x=\"700.5\" y=\"-338\" font-family=\"monospace\" font-size=\"10.00\" fill=\"#000000\">mat1_strides: &#160;&#160;&#160;&#160;&#160;&#160;(512, 1)</text>\n<text text-anchor=\"middle\" x=\"700.5\" y=\"-327\" font-family=\"monospace\" font-size=\"10.00\" fill=\"#000000\">mat2 &#160;&#160;&#160;&#160;&#160;&#160;&#160;: [saved tensor]</text>\n<text text-anchor=\"middle\" x=\"700.5\" y=\"-316\" font-family=\"monospace\" font-size=\"10.00\" fill=\"#000000\">mat2_sizes &#160;: &#160;&#160;&#160;&#160;&#160;(512, 64)</text>\n<text text-anchor=\"middle\" x=\"700.5\" y=\"-305\" font-family=\"monospace\" font-size=\"10.00\" fill=\"#000000\">mat2_strides: &#160;&#160;&#160;&#160;&#160;&#160;(1, 512)</text>\n</g>\n<!-- 140142024229136&#45;&gt;140142411462992 -->\n<g id=\"edge7\" class=\"edge\">\n<title>140142024229136&#45;&gt;140142411462992</title>\n<path fill=\"none\" stroke=\"#000000\" d=\"M741.9491,-297.8966C748.6512,-288.3399 755.3187,-278.8326 761.2167,-270.4224\"/>\n<polygon fill=\"#000000\" stroke=\"#000000\" points=\"764.1776,-272.2961 767.0538,-262.0991 758.4465,-268.2768 764.1776,-272.2961\"/>\n</g>\n<!-- 140141890705200 -->\n<g id=\"node10\" class=\"node\">\n<title>140141890705200</title>\n<polygon fill=\"#ffa500\" stroke=\"#000000\" points=\"695,-256.5 618,-256.5 618,-226.5 695,-226.5 695,-256.5\"/>\n<text text-anchor=\"middle\" x=\"656.5\" y=\"-244.5\" font-family=\"monospace\" font-size=\"10.00\" fill=\"#000000\">mat1</text>\n<text text-anchor=\"middle\" x=\"656.5\" y=\"-233.5\" font-family=\"monospace\" font-size=\"10.00\" fill=\"#000000\"> (10, 512)</text>\n</g>\n<!-- 140142024229136&#45;&gt;140141890705200 -->\n<g id=\"edge8\" class=\"edge\">\n<title>140142024229136&#45;&gt;140141890705200</title>\n<path fill=\"none\" stroke=\"#000000\" d=\"M677.9844,-297.8966C672.1488,-282.5781 666.3616,-267.3867 662.2664,-256.6367\"/>\n</g>\n<!-- 140142023338496 -->\n<g id=\"node11\" class=\"node\">\n<title>140142023338496</title>\n<polygon fill=\"#ffa500\" stroke=\"#000000\" points=\"600,-256.5 523,-256.5 523,-226.5 600,-226.5 600,-256.5\"/>\n<text text-anchor=\"middle\" x=\"561.5\" y=\"-244.5\" font-family=\"monospace\" font-size=\"10.00\" fill=\"#000000\">mat2</text>\n<text text-anchor=\"middle\" x=\"561.5\" y=\"-233.5\" font-family=\"monospace\" font-size=\"10.00\" fill=\"#000000\"> (512, 64)</text>\n</g>\n<!-- 140142024229136&#45;&gt;140142023338496 -->\n<g id=\"edge9\" class=\"edge\">\n<title>140142024229136&#45;&gt;140142023338496</title>\n<path fill=\"none\" stroke=\"#000000\" d=\"M629.3712,-297.8966C610.936,-282.5781 592.6537,-267.3867 579.7164,-256.6367\"/>\n</g>\n<!-- 140142024231056 -->\n<g id=\"node12\" class=\"node\">\n<title>140142024231056</title>\n<polygon fill=\"#d3d3d3\" stroke=\"#000000\" points=\"903,-482 802,-482 802,-463 903,-463 903,-482\"/>\n<text text-anchor=\"middle\" x=\"852.5\" y=\"-470\" font-family=\"monospace\" font-size=\"10.00\" fill=\"#000000\">AccumulateGrad</text>\n</g>\n<!-- 140142024231056&#45;&gt;140142024229136 -->\n<g id=\"edge10\" class=\"edge\">\n<title>140142024231056&#45;&gt;140142024229136</title>\n<path fill=\"none\" stroke=\"#000000\" d=\"M839.802,-462.8512C827.4014,-453.4284 807.3686,-438.2061 786.3138,-422.2072\"/>\n<polygon fill=\"#000000\" stroke=\"#000000\" points=\"788.2878,-419.3114 778.2081,-416.0479 784.0526,-424.8849 788.2878,-419.3114\"/>\n</g>\n<!-- 140142024556368 -->\n<g id=\"node13\" class=\"node\">\n<title>140142024556368</title>\n<polygon fill=\"#add8e6\" stroke=\"#000000\" points=\"885,-603 820,-603 820,-573 885,-573 885,-603\"/>\n<text text-anchor=\"middle\" x=\"852.5\" y=\"-591\" font-family=\"monospace\" font-size=\"10.00\" fill=\"#000000\">fc2.bias</text>\n<text text-anchor=\"middle\" x=\"852.5\" y=\"-580\" font-family=\"monospace\" font-size=\"10.00\" fill=\"#000000\"> (64)</text>\n</g>\n<!-- 140142024556368&#45;&gt;140142024231056 -->\n<g id=\"edge11\" class=\"edge\">\n<title>140142024556368&#45;&gt;140142024231056</title>\n<path fill=\"none\" stroke=\"#000000\" d=\"M852.5,-572.9004C852.5,-552.2903 852.5,-515.3051 852.5,-492.4365\"/>\n<polygon fill=\"#000000\" stroke=\"#000000\" points=\"856.0001,-492.2014 852.5,-482.2014 849.0001,-492.2014 856.0001,-492.2014\"/>\n</g>\n<!-- 140142025117136 -->\n<g id=\"node14\" class=\"node\">\n<title>140142025117136</title>\n<polygon fill=\"#d3d3d3\" stroke=\"#000000\" points=\"600,-493 463,-493 463,-452 600,-452 600,-493\"/>\n<text text-anchor=\"middle\" x=\"531.5\" y=\"-481\" font-family=\"monospace\" font-size=\"10.00\" fill=\"#000000\">ReluBackward0</text>\n<text text-anchor=\"middle\" x=\"531.5\" y=\"-470\" font-family=\"monospace\" font-size=\"10.00\" fill=\"#000000\">&#45;&#45;&#45;&#45;&#45;&#45;&#45;&#45;&#45;&#45;&#45;&#45;&#45;&#45;&#45;&#45;&#45;&#45;&#45;&#45;</text>\n<text text-anchor=\"middle\" x=\"531.5\" y=\"-459\" font-family=\"monospace\" font-size=\"10.00\" fill=\"#000000\">self: [saved tensor]</text>\n</g>\n<!-- 140142025117136&#45;&gt;140142024229136 -->\n<g id=\"edge12\" class=\"edge\">\n<title>140142025117136&#45;&gt;140142024229136</title>\n<path fill=\"none\" stroke=\"#000000\" d=\"M561.7138,-451.8509C574.3263,-443.2311 589.7369,-432.699 605.6447,-421.8272\"/>\n<polygon fill=\"#000000\" stroke=\"#000000\" points=\"607.7153,-424.6514 613.9965,-416.1193 603.7655,-418.8721 607.7153,-424.6514\"/>\n</g>\n<!-- 140141890264032 -->\n<g id=\"node15\" class=\"node\">\n<title>140141890264032</title>\n<polygon fill=\"#ffa500\" stroke=\"#000000\" points=\"570,-372 493,-372 493,-342 570,-342 570,-372\"/>\n<text text-anchor=\"middle\" x=\"531.5\" y=\"-360\" font-family=\"monospace\" font-size=\"10.00\" fill=\"#000000\">self</text>\n<text text-anchor=\"middle\" x=\"531.5\" y=\"-349\" font-family=\"monospace\" font-size=\"10.00\" fill=\"#000000\"> (10, 512)</text>\n</g>\n<!-- 140142025117136&#45;&gt;140141890264032 -->\n<g id=\"edge13\" class=\"edge\">\n<title>140142025117136&#45;&gt;140141890264032</title>\n<path fill=\"none\" stroke=\"#000000\" d=\"M531.5,-451.8509C531.5,-429.0109 531.5,-392.744 531.5,-372.3077\"/>\n</g>\n<!-- 140141890259408 -->\n<g id=\"node16\" class=\"node\">\n<title>140141890259408</title>\n<polygon fill=\"#d3d3d3\" stroke=\"#000000\" points=\"701,-647 516,-647 516,-529 701,-529 701,-647\"/>\n<text text-anchor=\"middle\" x=\"608.5\" y=\"-635\" font-family=\"monospace\" font-size=\"10.00\" fill=\"#000000\">AddmmBackward</text>\n<text text-anchor=\"middle\" x=\"608.5\" y=\"-624\" font-family=\"monospace\" font-size=\"10.00\" fill=\"#000000\">&#45;&#45;&#45;&#45;&#45;&#45;&#45;&#45;&#45;&#45;&#45;&#45;&#45;&#45;&#45;&#45;&#45;&#45;&#45;&#45;&#45;&#45;&#45;&#45;&#45;&#45;&#45;&#45;</text>\n<text text-anchor=\"middle\" x=\"608.5\" y=\"-613\" font-family=\"monospace\" font-size=\"10.00\" fill=\"#000000\">alpha &#160;&#160;&#160;&#160;&#160;&#160;: &#160;&#160;&#160;&#160;&#160;&#160;&#160;&#160;&#160;&#160;&#160;&#160;&#160;1</text>\n<text text-anchor=\"middle\" x=\"608.5\" y=\"-602\" font-family=\"monospace\" font-size=\"10.00\" fill=\"#000000\">beta &#160;&#160;&#160;&#160;&#160;&#160;&#160;: &#160;&#160;&#160;&#160;&#160;&#160;&#160;&#160;&#160;&#160;&#160;&#160;&#160;1</text>\n<text text-anchor=\"middle\" x=\"608.5\" y=\"-591\" font-family=\"monospace\" font-size=\"10.00\" fill=\"#000000\">mat1 &#160;&#160;&#160;&#160;&#160;&#160;&#160;: [saved tensor]</text>\n<text text-anchor=\"middle\" x=\"608.5\" y=\"-580\" font-family=\"monospace\" font-size=\"10.00\" fill=\"#000000\">mat1_sizes &#160;: &#160;&#160;&#160;&#160;&#160;&#160;(10, 64)</text>\n<text text-anchor=\"middle\" x=\"608.5\" y=\"-569\" font-family=\"monospace\" font-size=\"10.00\" fill=\"#000000\">mat1_strides: &#160;&#160;&#160;&#160;&#160;&#160;&#160;(64, 1)</text>\n<text text-anchor=\"middle\" x=\"608.5\" y=\"-558\" font-family=\"monospace\" font-size=\"10.00\" fill=\"#000000\">mat2 &#160;&#160;&#160;&#160;&#160;&#160;&#160;: [saved tensor]</text>\n<text text-anchor=\"middle\" x=\"608.5\" y=\"-547\" font-family=\"monospace\" font-size=\"10.00\" fill=\"#000000\">mat2_sizes &#160;: &#160;&#160;&#160;&#160;&#160;(64, 512)</text>\n<text text-anchor=\"middle\" x=\"608.5\" y=\"-536\" font-family=\"monospace\" font-size=\"10.00\" fill=\"#000000\">mat2_strides: &#160;&#160;&#160;&#160;&#160;&#160;&#160;(1, 64)</text>\n</g>\n<!-- 140141890259408&#45;&gt;140142025117136 -->\n<g id=\"edge14\" class=\"edge\">\n<title>140141890259408&#45;&gt;140142025117136</title>\n<path fill=\"none\" stroke=\"#000000\" d=\"M569.0977,-528.8966C562.7266,-519.3399 556.3884,-509.8326 550.7816,-501.4224\"/>\n<polygon fill=\"#000000\" stroke=\"#000000\" points=\"553.692,-499.4782 545.2328,-493.0991 547.8676,-503.3611 553.692,-499.4782\"/>\n</g>\n<!-- 140141890261712 -->\n<g id=\"node17\" class=\"node\">\n<title>140141890261712</title>\n<polygon fill=\"#ffa500\" stroke=\"#000000\" points=\"689,-487.5 618,-487.5 618,-457.5 689,-457.5 689,-487.5\"/>\n<text text-anchor=\"middle\" x=\"653.5\" y=\"-475.5\" font-family=\"monospace\" font-size=\"10.00\" fill=\"#000000\">mat1</text>\n<text text-anchor=\"middle\" x=\"653.5\" y=\"-464.5\" font-family=\"monospace\" font-size=\"10.00\" fill=\"#000000\"> (10, 64)</text>\n</g>\n<!-- 140141890259408&#45;&gt;140141890261712 -->\n<g id=\"edge15\" class=\"edge\">\n<title>140141890259408&#45;&gt;140141890261712</title>\n<path fill=\"none\" stroke=\"#000000\" d=\"M631.5273,-528.8966C637.4955,-513.5781 643.4143,-498.3867 647.6026,-487.6367\"/>\n</g>\n<!-- 140141890264752 -->\n<g id=\"node18\" class=\"node\">\n<title>140141890264752</title>\n<polygon fill=\"#ffa500\" stroke=\"#000000\" points=\"784,-487.5 707,-487.5 707,-457.5 784,-457.5 784,-487.5\"/>\n<text text-anchor=\"middle\" x=\"745.5\" y=\"-475.5\" font-family=\"monospace\" font-size=\"10.00\" fill=\"#000000\">mat2</text>\n<text text-anchor=\"middle\" x=\"745.5\" y=\"-464.5\" font-family=\"monospace\" font-size=\"10.00\" fill=\"#000000\"> (64, 512)</text>\n</g>\n<!-- 140141890259408&#45;&gt;140141890264752 -->\n<g id=\"edge16\" class=\"edge\">\n<title>140141890259408&#45;&gt;140141890264752</title>\n<path fill=\"none\" stroke=\"#000000\" d=\"M678.6053,-528.8966C696.7753,-513.5781 714.7946,-498.3867 727.5457,-487.6367\"/>\n</g>\n<!-- 140141890259920 -->\n<g id=\"node19\" class=\"node\">\n<title>140141890259920</title>\n<polygon fill=\"#d3d3d3\" stroke=\"#000000\" points=\"482,-713 381,-713 381,-694 482,-694 482,-713\"/>\n<text text-anchor=\"middle\" x=\"431.5\" y=\"-701\" font-family=\"monospace\" font-size=\"10.00\" fill=\"#000000\">AccumulateGrad</text>\n</g>\n<!-- 140141890259920&#45;&gt;140141890259408 -->\n<g id=\"edge17\" class=\"edge\">\n<title>140141890259920&#45;&gt;140141890259408</title>\n<path fill=\"none\" stroke=\"#000000\" d=\"M446.2865,-693.8512C460.9174,-684.3039 484.6725,-668.8027 509.5448,-652.5725\"/>\n<polygon fill=\"#000000\" stroke=\"#000000\" points=\"511.549,-655.4439 518.011,-647.0479 507.7236,-649.5816 511.549,-655.4439\"/>\n</g>\n<!-- 140141890242272 -->\n<g id=\"node20\" class=\"node\">\n<title>140141890242272</title>\n<polygon fill=\"#add8e6\" stroke=\"#000000\" points=\"464,-828.5 399,-828.5 399,-798.5 464,-798.5 464,-828.5\"/>\n<text text-anchor=\"middle\" x=\"431.5\" y=\"-816.5\" font-family=\"monospace\" font-size=\"10.00\" fill=\"#000000\">fc1.bias</text>\n<text text-anchor=\"middle\" x=\"431.5\" y=\"-805.5\" font-family=\"monospace\" font-size=\"10.00\" fill=\"#000000\"> (512)</text>\n</g>\n<!-- 140141890242272&#45;&gt;140141890259920 -->\n<g id=\"edge18\" class=\"edge\">\n<title>140141890242272&#45;&gt;140141890259920</title>\n<path fill=\"none\" stroke=\"#000000\" d=\"M431.5,-798.205C431.5,-778.6894 431.5,-744.8931 431.5,-723.3934\"/>\n<polygon fill=\"#000000\" stroke=\"#000000\" points=\"435.0001,-723.1473 431.5,-713.1473 428.0001,-723.1474 435.0001,-723.1473\"/>\n</g>\n<!-- 140141890259792 -->\n<g id=\"node21\" class=\"node\">\n<title>140141890259792</title>\n<polygon fill=\"#d3d3d3\" stroke=\"#000000\" points=\"673,-724 500,-724 500,-683 673,-683 673,-724\"/>\n<text text-anchor=\"middle\" x=\"586.5\" y=\"-712\" font-family=\"monospace\" font-size=\"10.00\" fill=\"#000000\">ViewBackward</text>\n<text text-anchor=\"middle\" x=\"586.5\" y=\"-701\" font-family=\"monospace\" font-size=\"10.00\" fill=\"#000000\">&#45;&#45;&#45;&#45;&#45;&#45;&#45;&#45;&#45;&#45;&#45;&#45;&#45;&#45;&#45;&#45;&#45;&#45;&#45;&#45;&#45;&#45;&#45;&#45;&#45;&#45;</text>\n<text text-anchor=\"middle\" x=\"586.5\" y=\"-690\" font-family=\"monospace\" font-size=\"10.00\" fill=\"#000000\">self_sizes: (10, 64, 1, 1)</text>\n</g>\n<!-- 140141890259792&#45;&gt;140141890259408 -->\n<g id=\"edge19\" class=\"edge\">\n<title>140141890259792&#45;&gt;140141890259408</title>\n<path fill=\"none\" stroke=\"#000000\" d=\"M590.4332,-682.8509C591.8641,-675.3383 593.5718,-666.373 595.3579,-656.9962\"/>\n<polygon fill=\"#000000\" stroke=\"#000000\" points=\"598.8062,-657.5976 597.2392,-647.1193 591.9298,-656.2877 598.8062,-657.5976\"/>\n</g>\n<!-- 140142024575760 -->\n<g id=\"node22\" class=\"node\">\n<title>140142024575760</title>\n<polygon fill=\"#d3d3d3\" stroke=\"#000000\" points=\"810,-867 625,-867 625,-760 810,-760 810,-867\"/>\n<text text-anchor=\"middle\" x=\"717.5\" y=\"-855\" font-family=\"monospace\" font-size=\"10.00\" fill=\"#000000\">MaxPool2DWithIndicesBackward</text>\n<text text-anchor=\"middle\" x=\"717.5\" y=\"-844\" font-family=\"monospace\" font-size=\"10.00\" fill=\"#000000\">&#45;&#45;&#45;&#45;&#45;&#45;&#45;&#45;&#45;&#45;&#45;&#45;&#45;&#45;&#45;&#45;&#45;&#45;&#45;&#45;&#45;&#45;&#45;&#45;&#45;&#45;&#45;&#45;</text>\n<text text-anchor=\"middle\" x=\"717.5\" y=\"-833\" font-family=\"monospace\" font-size=\"10.00\" fill=\"#000000\">ceil_mode &#160;: &#160;&#160;&#160;&#160;&#160;&#160;&#160;&#160;&#160;False</text>\n<text text-anchor=\"middle\" x=\"717.5\" y=\"-822\" font-family=\"monospace\" font-size=\"10.00\" fill=\"#000000\">dilation &#160;&#160;: &#160;&#160;&#160;&#160;&#160;&#160;&#160;&#160;(1, 1)</text>\n<text text-anchor=\"middle\" x=\"717.5\" y=\"-811\" font-family=\"monospace\" font-size=\"10.00\" fill=\"#000000\">kernel_size: &#160;&#160;&#160;&#160;&#160;&#160;&#160;&#160;(2, 2)</text>\n<text text-anchor=\"middle\" x=\"717.5\" y=\"-800\" font-family=\"monospace\" font-size=\"10.00\" fill=\"#000000\">padding &#160;&#160;&#160;: &#160;&#160;&#160;&#160;&#160;&#160;&#160;&#160;(0, 0)</text>\n<text text-anchor=\"middle\" x=\"717.5\" y=\"-789\" font-family=\"monospace\" font-size=\"10.00\" fill=\"#000000\">result1 &#160;&#160;&#160;: [saved tensor]</text>\n<text text-anchor=\"middle\" x=\"717.5\" y=\"-778\" font-family=\"monospace\" font-size=\"10.00\" fill=\"#000000\">self &#160;&#160;&#160;&#160;&#160;&#160;: [saved tensor]</text>\n<text text-anchor=\"middle\" x=\"717.5\" y=\"-767\" font-family=\"monospace\" font-size=\"10.00\" fill=\"#000000\">stride &#160;&#160;&#160;&#160;: &#160;&#160;&#160;&#160;&#160;&#160;&#160;&#160;(2, 2)</text>\n</g>\n<!-- 140142024575760&#45;&gt;140141890259792 -->\n<g id=\"edge20\" class=\"edge\">\n<title>140142024575760&#45;&gt;140141890259792</title>\n<path fill=\"none\" stroke=\"#000000\" d=\"M653.535,-759.789C641.5277,-749.7065 629.4515,-739.5662 618.9218,-730.7244\"/>\n<polygon fill=\"#000000\" stroke=\"#000000\" points=\"621.1067,-727.9888 611.1978,-724.2386 616.6053,-733.3496 621.1067,-727.9888\"/>\n</g>\n<!-- 140141911077024 -->\n<g id=\"node23\" class=\"node\">\n<title>140141911077024</title>\n<polygon fill=\"#ffa500\" stroke=\"#000000\" points=\"798,-718.5 691,-718.5 691,-688.5 798,-688.5 798,-718.5\"/>\n<text text-anchor=\"middle\" x=\"744.5\" y=\"-706.5\" font-family=\"monospace\" font-size=\"10.00\" fill=\"#000000\">result1</text>\n<text text-anchor=\"middle\" x=\"744.5\" y=\"-695.5\" font-family=\"monospace\" font-size=\"10.00\" fill=\"#000000\"> (10, 64, 1, 1)</text>\n</g>\n<!-- 140142024575760&#45;&gt;140141911077024 -->\n<g id=\"edge21\" class=\"edge\">\n<title>140142024575760&#45;&gt;140141911077024</title>\n<path fill=\"none\" stroke=\"#000000\" d=\"M730.6836,-759.789C734.3782,-744.7368 738.1045,-729.5558 740.7546,-718.7589\"/>\n</g>\n<!-- 140141889980448 -->\n<g id=\"node24\" class=\"node\">\n<title>140141889980448</title>\n<polygon fill=\"#ffa500\" stroke=\"#000000\" points=\"923,-718.5 816,-718.5 816,-688.5 923,-688.5 923,-718.5\"/>\n<text text-anchor=\"middle\" x=\"869.5\" y=\"-706.5\" font-family=\"monospace\" font-size=\"10.00\" fill=\"#000000\">self</text>\n<text text-anchor=\"middle\" x=\"869.5\" y=\"-695.5\" font-family=\"monospace\" font-size=\"10.00\" fill=\"#000000\"> (10, 64, 2, 2)</text>\n</g>\n<!-- 140142024575760&#45;&gt;140141889980448 -->\n<g id=\"edge22\" class=\"edge\">\n<title>140142024575760&#45;&gt;140141889980448</title>\n<path fill=\"none\" stroke=\"#000000\" d=\"M791.7189,-759.789C812.669,-744.6277 833.7996,-729.3358 848.7383,-718.5249\"/>\n</g>\n<!-- 140142024576912 -->\n<g id=\"node25\" class=\"node\">\n<title>140142024576912</title>\n<polygon fill=\"#d3d3d3\" stroke=\"#000000\" points=\"867,-944 730,-944 730,-903 867,-903 867,-944\"/>\n<text text-anchor=\"middle\" x=\"798.5\" y=\"-932\" font-family=\"monospace\" font-size=\"10.00\" fill=\"#000000\">ReluBackward0</text>\n<text text-anchor=\"middle\" x=\"798.5\" y=\"-921\" font-family=\"monospace\" font-size=\"10.00\" fill=\"#000000\">&#45;&#45;&#45;&#45;&#45;&#45;&#45;&#45;&#45;&#45;&#45;&#45;&#45;&#45;&#45;&#45;&#45;&#45;&#45;&#45;</text>\n<text text-anchor=\"middle\" x=\"798.5\" y=\"-910\" font-family=\"monospace\" font-size=\"10.00\" fill=\"#000000\">self: [saved tensor]</text>\n</g>\n<!-- 140142024576912&#45;&gt;140142024575760 -->\n<g id=\"edge23\" class=\"edge\">\n<title>140142024576912&#45;&gt;140142024575760</title>\n<path fill=\"none\" stroke=\"#000000\" d=\"M783.2645,-902.8098C777.3929,-894.836 770.3416,-885.2602 763.0688,-875.3835\"/>\n<polygon fill=\"#000000\" stroke=\"#000000\" points=\"765.6764,-873.022 756.9285,-867.0449 760.0397,-877.1727 765.6764,-873.022\"/>\n</g>\n<!-- 140141889979088 -->\n<g id=\"node26\" class=\"node\">\n<title>140141889979088</title>\n<polygon fill=\"#ffa500\" stroke=\"#000000\" points=\"935,-828.5 828,-828.5 828,-798.5 935,-798.5 935,-828.5\"/>\n<text text-anchor=\"middle\" x=\"881.5\" y=\"-816.5\" font-family=\"monospace\" font-size=\"10.00\" fill=\"#000000\">self</text>\n<text text-anchor=\"middle\" x=\"881.5\" y=\"-805.5\" font-family=\"monospace\" font-size=\"10.00\" fill=\"#000000\"> (10, 64, 2, 2)</text>\n</g>\n<!-- 140142024576912&#45;&gt;140141889979088 -->\n<g id=\"edge24\" class=\"edge\">\n<title>140142024576912&#45;&gt;140141889979088</title>\n<path fill=\"none\" stroke=\"#000000\" d=\"M814.1117,-902.8098C830.3595,-881.2765 855.4223,-848.0608 869.966,-828.786\"/>\n</g>\n<!-- 140142024574160 -->\n<g id=\"node27\" class=\"node\">\n<title>140142024574160</title>\n<polygon fill=\"#d3d3d3\" stroke=\"#000000\" points=\"623,-1087 444,-1087 444,-980 623,-980 623,-1087\"/>\n<text text-anchor=\"middle\" x=\"533.5\" y=\"-1075\" font-family=\"monospace\" font-size=\"10.00\" fill=\"#000000\">ThnnConv2DBackward</text>\n<text text-anchor=\"middle\" x=\"533.5\" y=\"-1064\" font-family=\"monospace\" font-size=\"10.00\" fill=\"#000000\">&#45;&#45;&#45;&#45;&#45;&#45;&#45;&#45;&#45;&#45;&#45;&#45;&#45;&#45;&#45;&#45;&#45;&#45;&#45;&#45;&#45;&#45;&#45;&#45;&#45;&#45;&#45;</text>\n<text text-anchor=\"middle\" x=\"533.5\" y=\"-1053\" font-family=\"monospace\" font-size=\"10.00\" fill=\"#000000\">fgrad_input: [saved tensor]</text>\n<text text-anchor=\"middle\" x=\"533.5\" y=\"-1042\" font-family=\"monospace\" font-size=\"10.00\" fill=\"#000000\">finput &#160;&#160;&#160;&#160;: [saved tensor]</text>\n<text text-anchor=\"middle\" x=\"533.5\" y=\"-1031\" font-family=\"monospace\" font-size=\"10.00\" fill=\"#000000\">kernel_size: &#160;&#160;&#160;&#160;&#160;&#160;&#160;&#160;(1, 1)</text>\n<text text-anchor=\"middle\" x=\"533.5\" y=\"-1020\" font-family=\"monospace\" font-size=\"10.00\" fill=\"#000000\">padding &#160;&#160;&#160;: &#160;&#160;&#160;&#160;&#160;&#160;&#160;&#160;(0, 0)</text>\n<text text-anchor=\"middle\" x=\"533.5\" y=\"-1009\" font-family=\"monospace\" font-size=\"10.00\" fill=\"#000000\">self &#160;&#160;&#160;&#160;&#160;&#160;: [saved tensor]</text>\n<text text-anchor=\"middle\" x=\"533.5\" y=\"-998\" font-family=\"monospace\" font-size=\"10.00\" fill=\"#000000\">stride &#160;&#160;&#160;&#160;: &#160;&#160;&#160;&#160;&#160;&#160;&#160;&#160;(1, 1)</text>\n<text text-anchor=\"middle\" x=\"533.5\" y=\"-987\" font-family=\"monospace\" font-size=\"10.00\" fill=\"#000000\">weight &#160;&#160;&#160;&#160;: [saved tensor]</text>\n</g>\n<!-- 140142024574160&#45;&gt;140142024576912 -->\n<g id=\"edge25\" class=\"edge\">\n<title>140142024574160&#45;&gt;140142024576912</title>\n<path fill=\"none\" stroke=\"#000000\" d=\"M623.2169,-996.259C661.6468,-980.307 705.4556,-962.1222 739.6629,-947.923\"/>\n<polygon fill=\"#000000\" stroke=\"#000000\" points=\"741.1499,-951.0953 749.044,-944.0289 738.4662,-944.6302 741.1499,-951.0953\"/>\n</g>\n<!-- 140141889980208 -->\n<g id=\"node28\" class=\"node\">\n<title>140141889980208</title>\n<polygon fill=\"#ffa500\" stroke=\"#000000\" points=\"355,-938.5 272,-938.5 272,-908.5 355,-908.5 355,-938.5\"/>\n<text text-anchor=\"middle\" x=\"313.5\" y=\"-926.5\" font-family=\"monospace\" font-size=\"10.00\" fill=\"#000000\">fgrad_input</text>\n<text text-anchor=\"middle\" x=\"313.5\" y=\"-915.5\" font-family=\"monospace\" font-size=\"10.00\" fill=\"#000000\"> (0)</text>\n</g>\n<!-- 140142024574160&#45;&gt;140141889980208 -->\n<g id=\"edge26\" class=\"edge\">\n<title>140142024574160&#45;&gt;140141889980208</title>\n<path fill=\"none\" stroke=\"#000000\" d=\"M443.7003,-988.6001C408.0563,-970.7781 369.4819,-951.4909 343.6485,-938.5743\"/>\n</g>\n<!-- 140141889978608 -->\n<g id=\"node29\" class=\"node\">\n<title>140141889978608</title>\n<polygon fill=\"#ffa500\" stroke=\"#000000\" points=\"462,-938.5 373,-938.5 373,-908.5 462,-908.5 462,-938.5\"/>\n<text text-anchor=\"middle\" x=\"417.5\" y=\"-926.5\" font-family=\"monospace\" font-size=\"10.00\" fill=\"#000000\">finput</text>\n<text text-anchor=\"middle\" x=\"417.5\" y=\"-915.5\" font-family=\"monospace\" font-size=\"10.00\" fill=\"#000000\"> (10, 32, 4)</text>\n</g>\n<!-- 140142024574160&#45;&gt;140141889978608 -->\n<g id=\"edge27\" class=\"edge\">\n<title>140142024574160&#45;&gt;140141889978608</title>\n<path fill=\"none\" stroke=\"#000000\" d=\"M476.8593,-979.789C460.9861,-964.7368 444.977,-949.5558 433.5912,-938.7589\"/>\n</g>\n<!-- 140141889979168 -->\n<g id=\"node30\" class=\"node\">\n<title>140141889979168</title>\n<polygon fill=\"#ffa500\" stroke=\"#000000\" points=\"587,-938.5 480,-938.5 480,-908.5 587,-908.5 587,-938.5\"/>\n<text text-anchor=\"middle\" x=\"533.5\" y=\"-926.5\" font-family=\"monospace\" font-size=\"10.00\" fill=\"#000000\">self</text>\n<text text-anchor=\"middle\" x=\"533.5\" y=\"-915.5\" font-family=\"monospace\" font-size=\"10.00\" fill=\"#000000\"> (10, 32, 2, 2)</text>\n</g>\n<!-- 140142024574160&#45;&gt;140141889979168 -->\n<g id=\"edge28\" class=\"edge\">\n<title>140142024574160&#45;&gt;140141889979168</title>\n<path fill=\"none\" stroke=\"#000000\" d=\"M533.5,-979.789C533.5,-964.7368 533.5,-949.5558 533.5,-938.7589\"/>\n</g>\n<!-- 140141889980768 -->\n<g id=\"node31\" class=\"node\">\n<title>140141889980768</title>\n<polygon fill=\"#ffa500\" stroke=\"#000000\" points=\"712,-938.5 605,-938.5 605,-908.5 712,-908.5 712,-938.5\"/>\n<text text-anchor=\"middle\" x=\"658.5\" y=\"-926.5\" font-family=\"monospace\" font-size=\"10.00\" fill=\"#000000\">weight</text>\n<text text-anchor=\"middle\" x=\"658.5\" y=\"-915.5\" font-family=\"monospace\" font-size=\"10.00\" fill=\"#000000\"> (64, 32, 1, 1)</text>\n</g>\n<!-- 140142024574160&#45;&gt;140141889980768 -->\n<g id=\"edge29\" class=\"edge\">\n<title>140142024574160&#45;&gt;140141889980768</title>\n<path fill=\"none\" stroke=\"#000000\" d=\"M594.5353,-979.789C611.764,-964.6277 629.1411,-949.3358 641.4263,-938.5249\"/>\n</g>\n<!-- 140142364454032 -->\n<g id=\"node32\" class=\"node\">\n<title>140142364454032</title>\n<polygon fill=\"#d3d3d3\" stroke=\"#000000\" points=\"336,-1175 193,-1175 193,-1123 336,-1123 336,-1175\"/>\n<text text-anchor=\"middle\" x=\"264.5\" y=\"-1163\" font-family=\"monospace\" font-size=\"10.00\" fill=\"#000000\">MulBackward0</text>\n<text text-anchor=\"middle\" x=\"264.5\" y=\"-1152\" font-family=\"monospace\" font-size=\"10.00\" fill=\"#000000\">&#45;&#45;&#45;&#45;&#45;&#45;&#45;&#45;&#45;&#45;&#45;&#45;&#45;&#45;&#45;&#45;&#45;&#45;&#45;&#45;&#45;</text>\n<text text-anchor=\"middle\" x=\"264.5\" y=\"-1141\" font-family=\"monospace\" font-size=\"10.00\" fill=\"#000000\">other: [saved tensor]</text>\n<text text-anchor=\"middle\" x=\"264.5\" y=\"-1130\" font-family=\"monospace\" font-size=\"10.00\" fill=\"#000000\">self : &#160;&#160;&#160;&#160;&#160;&#160;&#160;&#160;&#160;&#160;None</text>\n</g>\n<!-- 140142364454032&#45;&gt;140142024574160 -->\n<g id=\"edge30\" class=\"edge\">\n<title>140142364454032&#45;&gt;140142024574160</title>\n<path fill=\"none\" stroke=\"#000000\" d=\"M325.2043,-1122.9355C357.4889,-1109.0735 397.9896,-1091.6838 434.6739,-1075.9328\"/>\n<polygon fill=\"#000000\" stroke=\"#000000\" points=\"436.1029,-1079.1282 443.9108,-1071.9667 433.3411,-1072.6961 436.1029,-1079.1282\"/>\n</g>\n<!-- 140141889980848 -->\n<g id=\"node33\" class=\"node\">\n<title>140141889980848</title>\n<polygon fill=\"#ffa500\" stroke=\"#000000\" points=\"318,-1048.5 211,-1048.5 211,-1018.5 318,-1018.5 318,-1048.5\"/>\n<text text-anchor=\"middle\" x=\"264.5\" y=\"-1036.5\" font-family=\"monospace\" font-size=\"10.00\" fill=\"#000000\">other</text>\n<text text-anchor=\"middle\" x=\"264.5\" y=\"-1025.5\" font-family=\"monospace\" font-size=\"10.00\" fill=\"#000000\"> (10, 32, 2, 2)</text>\n</g>\n<!-- 140142364454032&#45;&gt;140141889980848 -->\n<g id=\"edge31\" class=\"edge\">\n<title>140142364454032&#45;&gt;140141889980848</title>\n<path fill=\"none\" stroke=\"#000000\" d=\"M264.5,-1122.7913C264.5,-1099.8955 264.5,-1067.4584 264.5,-1048.6367\"/>\n</g>\n<!-- 140142134048080 -->\n<g id=\"node34\" class=\"node\">\n<title>140142134048080</title>\n<polygon fill=\"#d3d3d3\" stroke=\"#000000\" points=\"354,-1318 169,-1318 169,-1211 354,-1211 354,-1318\"/>\n<text text-anchor=\"middle\" x=\"261.5\" y=\"-1306\" font-family=\"monospace\" font-size=\"10.00\" fill=\"#000000\">MaxPool2DWithIndicesBackward</text>\n<text text-anchor=\"middle\" x=\"261.5\" y=\"-1295\" font-family=\"monospace\" font-size=\"10.00\" fill=\"#000000\">&#45;&#45;&#45;&#45;&#45;&#45;&#45;&#45;&#45;&#45;&#45;&#45;&#45;&#45;&#45;&#45;&#45;&#45;&#45;&#45;&#45;&#45;&#45;&#45;&#45;&#45;&#45;&#45;</text>\n<text text-anchor=\"middle\" x=\"261.5\" y=\"-1284\" font-family=\"monospace\" font-size=\"10.00\" fill=\"#000000\">ceil_mode &#160;: &#160;&#160;&#160;&#160;&#160;&#160;&#160;&#160;&#160;False</text>\n<text text-anchor=\"middle\" x=\"261.5\" y=\"-1273\" font-family=\"monospace\" font-size=\"10.00\" fill=\"#000000\">dilation &#160;&#160;: &#160;&#160;&#160;&#160;&#160;&#160;&#160;&#160;(1, 1)</text>\n<text text-anchor=\"middle\" x=\"261.5\" y=\"-1262\" font-family=\"monospace\" font-size=\"10.00\" fill=\"#000000\">kernel_size: &#160;&#160;&#160;&#160;&#160;&#160;&#160;&#160;(2, 2)</text>\n<text text-anchor=\"middle\" x=\"261.5\" y=\"-1251\" font-family=\"monospace\" font-size=\"10.00\" fill=\"#000000\">padding &#160;&#160;&#160;: &#160;&#160;&#160;&#160;&#160;&#160;&#160;&#160;(0, 0)</text>\n<text text-anchor=\"middle\" x=\"261.5\" y=\"-1240\" font-family=\"monospace\" font-size=\"10.00\" fill=\"#000000\">result1 &#160;&#160;&#160;: [saved tensor]</text>\n<text text-anchor=\"middle\" x=\"261.5\" y=\"-1229\" font-family=\"monospace\" font-size=\"10.00\" fill=\"#000000\">self &#160;&#160;&#160;&#160;&#160;&#160;: [saved tensor]</text>\n<text text-anchor=\"middle\" x=\"261.5\" y=\"-1218\" font-family=\"monospace\" font-size=\"10.00\" fill=\"#000000\">stride &#160;&#160;&#160;&#160;: &#160;&#160;&#160;&#160;&#160;&#160;&#160;&#160;(2, 2)</text>\n</g>\n<!-- 140142134048080&#45;&gt;140142364454032 -->\n<g id=\"edge32\" class=\"edge\">\n<title>140142134048080&#45;&gt;140142364454032</title>\n<path fill=\"none\" stroke=\"#000000\" d=\"M262.8946,-1210.8076C263.118,-1202.2057 263.3446,-1193.4833 263.5543,-1185.4086\"/>\n<polygon fill=\"#000000\" stroke=\"#000000\" points=\"267.0577,-1185.3188 263.8187,-1175.2313 260.0601,-1185.137 267.0577,-1185.3188\"/>\n</g>\n<!-- 140141889982288 -->\n<g id=\"node35\" class=\"node\">\n<title>140141889982288</title>\n<polygon fill=\"#ffa500\" stroke=\"#000000\" points=\"461,-1164 354,-1164 354,-1134 461,-1134 461,-1164\"/>\n<text text-anchor=\"middle\" x=\"407.5\" y=\"-1152\" font-family=\"monospace\" font-size=\"10.00\" fill=\"#000000\">result1</text>\n<text text-anchor=\"middle\" x=\"407.5\" y=\"-1141\" font-family=\"monospace\" font-size=\"10.00\" fill=\"#000000\"> (10, 32, 2, 2)</text>\n</g>\n<!-- 140142134048080&#45;&gt;140141889982288 -->\n<g id=\"edge33\" class=\"edge\">\n<title>140142134048080&#45;&gt;140141889982288</title>\n<path fill=\"none\" stroke=\"#000000\" d=\"M329.3709,-1210.8076C350.9663,-1193.7236 373.1632,-1176.1637 388.3521,-1164.1478\"/>\n</g>\n<!-- 140141889980608 -->\n<g id=\"node36\" class=\"node\">\n<title>140141889980608</title>\n<polygon fill=\"#ffa500\" stroke=\"#000000\" points=\"175,-1164 68,-1164 68,-1134 175,-1134 175,-1164\"/>\n<text text-anchor=\"middle\" x=\"121.5\" y=\"-1152\" font-family=\"monospace\" font-size=\"10.00\" fill=\"#000000\">self</text>\n<text text-anchor=\"middle\" x=\"121.5\" y=\"-1141\" font-family=\"monospace\" font-size=\"10.00\" fill=\"#000000\"> (10, 32, 5, 5)</text>\n</g>\n<!-- 140142134048080&#45;&gt;140141889980608 -->\n<g id=\"edge34\" class=\"edge\">\n<title>140142134048080&#45;&gt;140141889980608</title>\n<path fill=\"none\" stroke=\"#000000\" d=\"M196.4183,-1210.8076C175.7104,-1193.7236 154.4257,-1176.1637 139.861,-1164.1478\"/>\n</g>\n<!-- 140142024573968 -->\n<g id=\"node37\" class=\"node\">\n<title>140142024573968</title>\n<polygon fill=\"#d3d3d3\" stroke=\"#000000\" points=\"412,-1395 275,-1395 275,-1354 412,-1354 412,-1395\"/>\n<text text-anchor=\"middle\" x=\"343.5\" y=\"-1383\" font-family=\"monospace\" font-size=\"10.00\" fill=\"#000000\">ReluBackward0</text>\n<text text-anchor=\"middle\" x=\"343.5\" y=\"-1372\" font-family=\"monospace\" font-size=\"10.00\" fill=\"#000000\">&#45;&#45;&#45;&#45;&#45;&#45;&#45;&#45;&#45;&#45;&#45;&#45;&#45;&#45;&#45;&#45;&#45;&#45;&#45;&#45;</text>\n<text text-anchor=\"middle\" x=\"343.5\" y=\"-1361\" font-family=\"monospace\" font-size=\"10.00\" fill=\"#000000\">self: [saved tensor]</text>\n</g>\n<!-- 140142024573968&#45;&gt;140142134048080 -->\n<g id=\"edge35\" class=\"edge\">\n<title>140142024573968&#45;&gt;140142134048080</title>\n<path fill=\"none\" stroke=\"#000000\" d=\"M328.0764,-1353.8098C322.0728,-1345.7562 314.8511,-1336.0685 307.4104,-1326.0871\"/>\n<polygon fill=\"#000000\" stroke=\"#000000\" points=\"310.1981,-1323.9706 301.4153,-1318.0449 304.5859,-1328.1542 310.1981,-1323.9706\"/>\n</g>\n<!-- 140141889981088 -->\n<g id=\"node38\" class=\"node\">\n<title>140141889981088</title>\n<polygon fill=\"#ffa500\" stroke=\"#000000\" points=\"479,-1279.5 372,-1279.5 372,-1249.5 479,-1249.5 479,-1279.5\"/>\n<text text-anchor=\"middle\" x=\"425.5\" y=\"-1267.5\" font-family=\"monospace\" font-size=\"10.00\" fill=\"#000000\">self</text>\n<text text-anchor=\"middle\" x=\"425.5\" y=\"-1256.5\" font-family=\"monospace\" font-size=\"10.00\" fill=\"#000000\"> (10, 32, 5, 5)</text>\n</g>\n<!-- 140142024573968&#45;&gt;140141889981088 -->\n<g id=\"edge36\" class=\"edge\">\n<title>140142024573968&#45;&gt;140141889981088</title>\n<path fill=\"none\" stroke=\"#000000\" d=\"M358.9236,-1353.8098C374.9757,-1332.2765 399.7365,-1299.0608 414.105,-1279.786\"/>\n</g>\n<!-- 140142024573200 -->\n<g id=\"node39\" class=\"node\">\n<title>140142024573200</title>\n<polygon fill=\"#d3d3d3\" stroke=\"#000000\" points=\"567,-1527 400,-1527 400,-1431 567,-1431 567,-1527\"/>\n<text text-anchor=\"middle\" x=\"483.5\" y=\"-1515\" font-family=\"monospace\" font-size=\"10.00\" fill=\"#000000\">MkldnnConvolutionBackward</text>\n<text text-anchor=\"middle\" x=\"483.5\" y=\"-1504\" font-family=\"monospace\" font-size=\"10.00\" fill=\"#000000\">&#45;&#45;&#45;&#45;&#45;&#45;&#45;&#45;&#45;&#45;&#45;&#45;&#45;&#45;&#45;&#45;&#45;&#45;&#45;&#45;&#45;&#45;&#45;&#45;&#45;</text>\n<text text-anchor=\"middle\" x=\"483.5\" y=\"-1493\" font-family=\"monospace\" font-size=\"10.00\" fill=\"#000000\">dilation: &#160;&#160;&#160;&#160;&#160;&#160;&#160;&#160;(1, 1)</text>\n<text text-anchor=\"middle\" x=\"483.5\" y=\"-1482\" font-family=\"monospace\" font-size=\"10.00\" fill=\"#000000\">groups &#160;: &#160;&#160;&#160;&#160;&#160;&#160;&#160;&#160;&#160;&#160;&#160;&#160;&#160;1</text>\n<text text-anchor=\"middle\" x=\"483.5\" y=\"-1471\" font-family=\"monospace\" font-size=\"10.00\" fill=\"#000000\">padding : &#160;&#160;&#160;&#160;&#160;&#160;&#160;&#160;(0, 0)</text>\n<text text-anchor=\"middle\" x=\"483.5\" y=\"-1460\" font-family=\"monospace\" font-size=\"10.00\" fill=\"#000000\">self &#160;&#160;&#160;: [saved tensor]</text>\n<text text-anchor=\"middle\" x=\"483.5\" y=\"-1449\" font-family=\"monospace\" font-size=\"10.00\" fill=\"#000000\">stride &#160;: &#160;&#160;&#160;&#160;&#160;&#160;&#160;&#160;(1, 1)</text>\n<text text-anchor=\"middle\" x=\"483.5\" y=\"-1438\" font-family=\"monospace\" font-size=\"10.00\" fill=\"#000000\">weight &#160;: [saved tensor]</text>\n</g>\n<!-- 140142024573200&#45;&gt;140142024573968 -->\n<g id=\"edge37\" class=\"edge\">\n<title>140142024573200&#45;&gt;140142024573968</title>\n<path fill=\"none\" stroke=\"#000000\" d=\"M418.8274,-1430.7266C405.2058,-1420.559 391.3136,-1410.1895 379.2301,-1401.17\"/>\n<polygon fill=\"#000000\" stroke=\"#000000\" points=\"381.2864,-1398.3374 371.1791,-1395.1605 377.0992,-1403.947 381.2864,-1398.3374\"/>\n</g>\n<!-- 140141889980528 -->\n<g id=\"node40\" class=\"node\">\n<title>140141889980528</title>\n<polygon fill=\"#ffa500\" stroke=\"#000000\" points=\"537,-1389.5 430,-1389.5 430,-1359.5 537,-1359.5 537,-1389.5\"/>\n<text text-anchor=\"middle\" x=\"483.5\" y=\"-1377.5\" font-family=\"monospace\" font-size=\"10.00\" fill=\"#000000\">self</text>\n<text text-anchor=\"middle\" x=\"483.5\" y=\"-1366.5\" font-family=\"monospace\" font-size=\"10.00\" fill=\"#000000\"> (10, 16, 7, 7)</text>\n</g>\n<!-- 140142024573200&#45;&gt;140141889980528 -->\n<g id=\"edge38\" class=\"edge\">\n<title>140142024573200&#45;&gt;140141889980528</title>\n<path fill=\"none\" stroke=\"#000000\" d=\"M483.5,-1430.7266C483.5,-1415.9666 483.5,-1400.7809 483.5,-1389.9176\"/>\n</g>\n<!-- 140141889980048 -->\n<g id=\"node41\" class=\"node\">\n<title>140141889980048</title>\n<polygon fill=\"#ffa500\" stroke=\"#000000\" points=\"662,-1389.5 555,-1389.5 555,-1359.5 662,-1359.5 662,-1389.5\"/>\n<text text-anchor=\"middle\" x=\"608.5\" y=\"-1377.5\" font-family=\"monospace\" font-size=\"10.00\" fill=\"#000000\">weight</text>\n<text text-anchor=\"middle\" x=\"608.5\" y=\"-1366.5\" font-family=\"monospace\" font-size=\"10.00\" fill=\"#000000\"> (32, 16, 3, 3)</text>\n</g>\n<!-- 140142024573200&#45;&gt;140141889980048 -->\n<g id=\"edge39\" class=\"edge\">\n<title>140142024573200&#45;&gt;140141889980048</title>\n<path fill=\"none\" stroke=\"#000000\" d=\"M541.2434,-1430.7266C559.0268,-1415.8596 577.3268,-1400.5608 590.3396,-1389.6821\"/>\n</g>\n<!-- 140142024573456 -->\n<g id=\"node42\" class=\"node\">\n<title>140142024573456</title>\n<polygon fill=\"#d3d3d3\" stroke=\"#000000\" points=\"280,-1615 137,-1615 137,-1563 280,-1563 280,-1615\"/>\n<text text-anchor=\"middle\" x=\"208.5\" y=\"-1603\" font-family=\"monospace\" font-size=\"10.00\" fill=\"#000000\">MulBackward0</text>\n<text text-anchor=\"middle\" x=\"208.5\" y=\"-1592\" font-family=\"monospace\" font-size=\"10.00\" fill=\"#000000\">&#45;&#45;&#45;&#45;&#45;&#45;&#45;&#45;&#45;&#45;&#45;&#45;&#45;&#45;&#45;&#45;&#45;&#45;&#45;&#45;&#45;</text>\n<text text-anchor=\"middle\" x=\"208.5\" y=\"-1581\" font-family=\"monospace\" font-size=\"10.00\" fill=\"#000000\">other: [saved tensor]</text>\n<text text-anchor=\"middle\" x=\"208.5\" y=\"-1570\" font-family=\"monospace\" font-size=\"10.00\" fill=\"#000000\">self : &#160;&#160;&#160;&#160;&#160;&#160;&#160;&#160;&#160;&#160;None</text>\n</g>\n<!-- 140142024573456&#45;&gt;140142024573200 -->\n<g id=\"edge40\" class=\"edge\">\n<title>140142024573456&#45;&gt;140142024573200</title>\n<path fill=\"none\" stroke=\"#000000\" d=\"M273.6712,-1562.9315C308.4464,-1549.0215 351.8503,-1531.6599 390.1441,-1516.3424\"/>\n<polygon fill=\"#000000\" stroke=\"#000000\" points=\"391.7764,-1519.4591 399.7613,-1512.4955 389.1766,-1512.9598 391.7764,-1519.4591\"/>\n</g>\n<!-- 140141889978848 -->\n<g id=\"node43\" class=\"node\">\n<title>140141889978848</title>\n<polygon fill=\"#ffa500\" stroke=\"#000000\" points=\"262,-1494 155,-1494 155,-1464 262,-1464 262,-1494\"/>\n<text text-anchor=\"middle\" x=\"208.5\" y=\"-1482\" font-family=\"monospace\" font-size=\"10.00\" fill=\"#000000\">other</text>\n<text text-anchor=\"middle\" x=\"208.5\" y=\"-1471\" font-family=\"monospace\" font-size=\"10.00\" fill=\"#000000\"> (10, 16, 7, 7)</text>\n</g>\n<!-- 140142024573456&#45;&gt;140141889978848 -->\n<g id=\"edge41\" class=\"edge\">\n<title>140142024573456&#45;&gt;140141889978848</title>\n<path fill=\"none\" stroke=\"#000000\" d=\"M208.5,-1562.9315C208.5,-1541.4576 208.5,-1511.7581 208.5,-1494.0518\"/>\n</g>\n<!-- 140142024575248 -->\n<g id=\"node44\" class=\"node\">\n<title>140142024575248</title>\n<polygon fill=\"#d3d3d3\" stroke=\"#000000\" points=\"294,-1758 109,-1758 109,-1651 294,-1651 294,-1758\"/>\n<text text-anchor=\"middle\" x=\"201.5\" y=\"-1746\" font-family=\"monospace\" font-size=\"10.00\" fill=\"#000000\">MaxPool2DWithIndicesBackward</text>\n<text text-anchor=\"middle\" x=\"201.5\" y=\"-1735\" font-family=\"monospace\" font-size=\"10.00\" fill=\"#000000\">&#45;&#45;&#45;&#45;&#45;&#45;&#45;&#45;&#45;&#45;&#45;&#45;&#45;&#45;&#45;&#45;&#45;&#45;&#45;&#45;&#45;&#45;&#45;&#45;&#45;&#45;&#45;&#45;</text>\n<text text-anchor=\"middle\" x=\"201.5\" y=\"-1724\" font-family=\"monospace\" font-size=\"10.00\" fill=\"#000000\">ceil_mode &#160;: &#160;&#160;&#160;&#160;&#160;&#160;&#160;&#160;&#160;False</text>\n<text text-anchor=\"middle\" x=\"201.5\" y=\"-1713\" font-family=\"monospace\" font-size=\"10.00\" fill=\"#000000\">dilation &#160;&#160;: &#160;&#160;&#160;&#160;&#160;&#160;&#160;&#160;(1, 1)</text>\n<text text-anchor=\"middle\" x=\"201.5\" y=\"-1702\" font-family=\"monospace\" font-size=\"10.00\" fill=\"#000000\">kernel_size: &#160;&#160;&#160;&#160;&#160;&#160;&#160;&#160;(2, 2)</text>\n<text text-anchor=\"middle\" x=\"201.5\" y=\"-1691\" font-family=\"monospace\" font-size=\"10.00\" fill=\"#000000\">padding &#160;&#160;&#160;: &#160;&#160;&#160;&#160;&#160;&#160;&#160;&#160;(0, 0)</text>\n<text text-anchor=\"middle\" x=\"201.5\" y=\"-1680\" font-family=\"monospace\" font-size=\"10.00\" fill=\"#000000\">result1 &#160;&#160;&#160;: [saved tensor]</text>\n<text text-anchor=\"middle\" x=\"201.5\" y=\"-1669\" font-family=\"monospace\" font-size=\"10.00\" fill=\"#000000\">self &#160;&#160;&#160;&#160;&#160;&#160;: [saved tensor]</text>\n<text text-anchor=\"middle\" x=\"201.5\" y=\"-1658\" font-family=\"monospace\" font-size=\"10.00\" fill=\"#000000\">stride &#160;&#160;&#160;&#160;: &#160;&#160;&#160;&#160;&#160;&#160;&#160;&#160;(2, 2)</text>\n</g>\n<!-- 140142024575248&#45;&gt;140142024573456 -->\n<g id=\"edge42\" class=\"edge\">\n<title>140142024575248&#45;&gt;140142024573456</title>\n<path fill=\"none\" stroke=\"#000000\" d=\"M204.7541,-1650.8076C205.2754,-1642.2057 205.804,-1633.4833 206.2934,-1625.4086\"/>\n<polygon fill=\"#000000\" stroke=\"#000000\" points=\"209.7988,-1625.4248 206.9102,-1615.2313 202.8116,-1625.0012 209.7988,-1625.4248\"/>\n</g>\n<!-- 140141889978768 -->\n<g id=\"node45\" class=\"node\">\n<title>140141889978768</title>\n<polygon fill=\"#ffa500\" stroke=\"#000000\" points=\"405,-1604 298,-1604 298,-1574 405,-1574 405,-1604\"/>\n<text text-anchor=\"middle\" x=\"351.5\" y=\"-1592\" font-family=\"monospace\" font-size=\"10.00\" fill=\"#000000\">result1</text>\n<text text-anchor=\"middle\" x=\"351.5\" y=\"-1581\" font-family=\"monospace\" font-size=\"10.00\" fill=\"#000000\"> (10, 16, 7, 7)</text>\n</g>\n<!-- 140142024575248&#45;&gt;140141889978768 -->\n<g id=\"edge43\" class=\"edge\">\n<title>140142024575248&#45;&gt;140141889978768</title>\n<path fill=\"none\" stroke=\"#000000\" d=\"M271.2304,-1650.8076C293.4174,-1633.7236 316.2225,-1616.1637 331.8275,-1604.1478\"/>\n</g>\n<!-- 140141889978928 -->\n<g id=\"node46\" class=\"node\">\n<title>140141889978928</title>\n<polygon fill=\"#ffa500\" stroke=\"#000000\" points=\"119,-1604 0,-1604 0,-1574 119,-1574 119,-1604\"/>\n<text text-anchor=\"middle\" x=\"59.5\" y=\"-1592\" font-family=\"monospace\" font-size=\"10.00\" fill=\"#000000\">self</text>\n<text text-anchor=\"middle\" x=\"59.5\" y=\"-1581\" font-family=\"monospace\" font-size=\"10.00\" fill=\"#000000\"> (10, 16, 14, 14)</text>\n</g>\n<!-- 140142024575248&#45;&gt;140141889978928 -->\n<g id=\"edge44\" class=\"edge\">\n<title>140142024575248&#45;&gt;140141889978928</title>\n<path fill=\"none\" stroke=\"#000000\" d=\"M135.4885,-1650.8076C114.4848,-1633.7236 92.896,-1616.1637 78.1233,-1604.1478\"/>\n</g>\n<!-- 140142024558352 -->\n<g id=\"node47\" class=\"node\">\n<title>140142024558352</title>\n<polygon fill=\"#d3d3d3\" stroke=\"#000000\" points=\"355,-1835 218,-1835 218,-1794 355,-1794 355,-1835\"/>\n<text text-anchor=\"middle\" x=\"286.5\" y=\"-1823\" font-family=\"monospace\" font-size=\"10.00\" fill=\"#000000\">ReluBackward0</text>\n<text text-anchor=\"middle\" x=\"286.5\" y=\"-1812\" font-family=\"monospace\" font-size=\"10.00\" fill=\"#000000\">&#45;&#45;&#45;&#45;&#45;&#45;&#45;&#45;&#45;&#45;&#45;&#45;&#45;&#45;&#45;&#45;&#45;&#45;&#45;&#45;</text>\n<text text-anchor=\"middle\" x=\"286.5\" y=\"-1801\" font-family=\"monospace\" font-size=\"10.00\" fill=\"#000000\">self: [saved tensor]</text>\n</g>\n<!-- 140142024558352&#45;&gt;140142024575248 -->\n<g id=\"edge45\" class=\"edge\">\n<title>140142024558352&#45;&gt;140142024575248</title>\n<path fill=\"none\" stroke=\"#000000\" d=\"M270.5122,-1793.8098C264.2889,-1785.7562 256.8029,-1776.0685 249.0901,-1766.0871\"/>\n<polygon fill=\"#000000\" stroke=\"#000000\" points=\"251.7596,-1763.8177 242.8756,-1758.0449 246.2206,-1768.0979 251.7596,-1763.8177\"/>\n</g>\n<!-- 140141889981328 -->\n<g id=\"node48\" class=\"node\">\n<title>140141889981328</title>\n<polygon fill=\"#ffa500\" stroke=\"#000000\" points=\"431,-1719.5 312,-1719.5 312,-1689.5 431,-1689.5 431,-1719.5\"/>\n<text text-anchor=\"middle\" x=\"371.5\" y=\"-1707.5\" font-family=\"monospace\" font-size=\"10.00\" fill=\"#000000\">self</text>\n<text text-anchor=\"middle\" x=\"371.5\" y=\"-1696.5\" font-family=\"monospace\" font-size=\"10.00\" fill=\"#000000\"> (10, 16, 14, 14)</text>\n</g>\n<!-- 140142024558352&#45;&gt;140141889981328 -->\n<g id=\"edge46\" class=\"edge\">\n<title>140142024558352&#45;&gt;140141889981328</title>\n<path fill=\"none\" stroke=\"#000000\" d=\"M302.4878,-1793.8098C319.1272,-1772.2765 344.7939,-1739.0608 359.6881,-1719.786\"/>\n</g>\n<!-- 140142024558928 -->\n<g id=\"node49\" class=\"node\">\n<title>140142024558928</title>\n<polygon fill=\"#d3d3d3\" stroke=\"#000000\" points=\"513,-1967 346,-1967 346,-1871 513,-1871 513,-1967\"/>\n<text text-anchor=\"middle\" x=\"429.5\" y=\"-1955\" font-family=\"monospace\" font-size=\"10.00\" fill=\"#000000\">MkldnnConvolutionBackward</text>\n<text text-anchor=\"middle\" x=\"429.5\" y=\"-1944\" font-family=\"monospace\" font-size=\"10.00\" fill=\"#000000\">&#45;&#45;&#45;&#45;&#45;&#45;&#45;&#45;&#45;&#45;&#45;&#45;&#45;&#45;&#45;&#45;&#45;&#45;&#45;&#45;&#45;&#45;&#45;&#45;&#45;</text>\n<text text-anchor=\"middle\" x=\"429.5\" y=\"-1933\" font-family=\"monospace\" font-size=\"10.00\" fill=\"#000000\">dilation: &#160;&#160;&#160;&#160;&#160;&#160;&#160;&#160;(1, 1)</text>\n<text text-anchor=\"middle\" x=\"429.5\" y=\"-1922\" font-family=\"monospace\" font-size=\"10.00\" fill=\"#000000\">groups &#160;: &#160;&#160;&#160;&#160;&#160;&#160;&#160;&#160;&#160;&#160;&#160;&#160;&#160;1</text>\n<text text-anchor=\"middle\" x=\"429.5\" y=\"-1911\" font-family=\"monospace\" font-size=\"10.00\" fill=\"#000000\">padding : &#160;&#160;&#160;&#160;&#160;&#160;&#160;&#160;(0, 0)</text>\n<text text-anchor=\"middle\" x=\"429.5\" y=\"-1900\" font-family=\"monospace\" font-size=\"10.00\" fill=\"#000000\">self &#160;&#160;&#160;: [saved tensor]</text>\n<text text-anchor=\"middle\" x=\"429.5\" y=\"-1889\" font-family=\"monospace\" font-size=\"10.00\" fill=\"#000000\">stride &#160;: &#160;&#160;&#160;&#160;&#160;&#160;&#160;&#160;(1, 1)</text>\n<text text-anchor=\"middle\" x=\"429.5\" y=\"-1878\" font-family=\"monospace\" font-size=\"10.00\" fill=\"#000000\">weight &#160;: [saved tensor]</text>\n</g>\n<!-- 140142024558928&#45;&gt;140142024558352 -->\n<g id=\"edge47\" class=\"edge\">\n<title>140142024558928&#45;&gt;140142024558352</title>\n<path fill=\"none\" stroke=\"#000000\" d=\"M363.4416,-1870.7266C349.5281,-1860.559 335.3382,-1850.1895 322.9957,-1841.17\"/>\n<polygon fill=\"#000000\" stroke=\"#000000\" points=\"324.9112,-1838.2348 314.7722,-1835.1605 320.7811,-1843.8865 324.9112,-1838.2348\"/>\n</g>\n<!-- 140141889981488 -->\n<g id=\"node50\" class=\"node\">\n<title>140141889981488</title>\n<polygon fill=\"#ffa500\" stroke=\"#000000\" points=\"486,-1829.5 373,-1829.5 373,-1799.5 486,-1799.5 486,-1829.5\"/>\n<text text-anchor=\"middle\" x=\"429.5\" y=\"-1817.5\" font-family=\"monospace\" font-size=\"10.00\" fill=\"#000000\">self</text>\n<text text-anchor=\"middle\" x=\"429.5\" y=\"-1806.5\" font-family=\"monospace\" font-size=\"10.00\" fill=\"#000000\"> (10, 1, 16, 16)</text>\n</g>\n<!-- 140142024558928&#45;&gt;140141889981488 -->\n<g id=\"edge48\" class=\"edge\">\n<title>140142024558928&#45;&gt;140141889981488</title>\n<path fill=\"none\" stroke=\"#000000\" d=\"M429.5,-1870.7266C429.5,-1855.9666 429.5,-1840.7809 429.5,-1829.9176\"/>\n</g>\n<!-- 140141889981408 -->\n<g id=\"node51\" class=\"node\">\n<title>140141889981408</title>\n<polygon fill=\"#ffa500\" stroke=\"#000000\" points=\"605,-1829.5 504,-1829.5 504,-1799.5 605,-1799.5 605,-1829.5\"/>\n<text text-anchor=\"middle\" x=\"554.5\" y=\"-1817.5\" font-family=\"monospace\" font-size=\"10.00\" fill=\"#000000\">weight</text>\n<text text-anchor=\"middle\" x=\"554.5\" y=\"-1806.5\" font-family=\"monospace\" font-size=\"10.00\" fill=\"#000000\"> (16, 1, 3, 3)</text>\n</g>\n<!-- 140142024558928&#45;&gt;140141889981408 -->\n<g id=\"edge49\" class=\"edge\">\n<title>140142024558928&#45;&gt;140141889981408</title>\n<path fill=\"none\" stroke=\"#000000\" d=\"M487.2434,-1870.7266C505.0268,-1855.8596 523.3268,-1840.5608 536.3396,-1829.6821\"/>\n</g>\n<!-- 140142024557136 -->\n<g id=\"node52\" class=\"node\">\n<title>140142024557136</title>\n<polygon fill=\"#d3d3d3\" stroke=\"#000000\" points=\"742,-2044 581,-2044 581,-2003 742,-2003 742,-2044\"/>\n<text text-anchor=\"middle\" x=\"661.5\" y=\"-2032\" font-family=\"monospace\" font-size=\"10.00\" fill=\"#000000\">ViewBackward</text>\n<text text-anchor=\"middle\" x=\"661.5\" y=\"-2021\" font-family=\"monospace\" font-size=\"10.00\" fill=\"#000000\">&#45;&#45;&#45;&#45;&#45;&#45;&#45;&#45;&#45;&#45;&#45;&#45;&#45;&#45;&#45;&#45;&#45;&#45;&#45;&#45;&#45;&#45;&#45;&#45;</text>\n<text text-anchor=\"middle\" x=\"661.5\" y=\"-2010\" font-family=\"monospace\" font-size=\"10.00\" fill=\"#000000\">self_sizes: (1, 10, 256)</text>\n</g>\n<!-- 140142024557136&#45;&gt;140142024558928 -->\n<g id=\"edge50\" class=\"edge\">\n<title>140142024557136&#45;&gt;140142024558928</title>\n<path fill=\"none\" stroke=\"#000000\" d=\"M615.9411,-2002.9788C589.3976,-1991.0229 554.9347,-1975.4997 522.8716,-1961.0575\"/>\n<polygon fill=\"#000000\" stroke=\"#000000\" points=\"524.0117,-1957.7324 513.4565,-1956.8166 521.1369,-1964.1148 524.0117,-1957.7324\"/>\n</g>\n<!-- 140142024559568 -->\n<g id=\"node53\" class=\"node\">\n<title>140142024559568</title>\n<polygon fill=\"#d3d3d3\" stroke=\"#000000\" points=\"739,-2165 518,-2165 518,-2080 739,-2080 739,-2165\"/>\n<text text-anchor=\"middle\" x=\"628.5\" y=\"-2153\" font-family=\"monospace\" font-size=\"10.00\" fill=\"#000000\">EmbeddingBackward</text>\n<text text-anchor=\"middle\" x=\"628.5\" y=\"-2142\" font-family=\"monospace\" font-size=\"10.00\" fill=\"#000000\">&#45;&#45;&#45;&#45;&#45;&#45;&#45;&#45;&#45;&#45;&#45;&#45;&#45;&#45;&#45;&#45;&#45;&#45;&#45;&#45;&#45;&#45;&#45;&#45;&#45;&#45;&#45;&#45;&#45;&#45;&#45;&#45;&#45;&#45;</text>\n<text text-anchor=\"middle\" x=\"628.5\" y=\"-2131\" font-family=\"monospace\" font-size=\"10.00\" fill=\"#000000\">indices &#160;&#160;&#160;&#160;&#160;&#160;&#160;&#160;&#160;&#160;: [saved tensor]</text>\n<text text-anchor=\"middle\" x=\"628.5\" y=\"-2120\" font-family=\"monospace\" font-size=\"10.00\" fill=\"#000000\">padding_idx &#160;&#160;&#160;&#160;&#160;&#160;: &#160;&#160;&#160;&#160;&#160;&#160;&#160;&#160;&#160;&#160;&#160;&#160;&#160;1</text>\n<text text-anchor=\"middle\" x=\"628.5\" y=\"-2109\" font-family=\"monospace\" font-size=\"10.00\" fill=\"#000000\">scale_grad_by_freq: &#160;&#160;&#160;&#160;&#160;&#160;&#160;&#160;&#160;False</text>\n<text text-anchor=\"middle\" x=\"628.5\" y=\"-2098\" font-family=\"monospace\" font-size=\"10.00\" fill=\"#000000\">sparse &#160;&#160;&#160;&#160;&#160;&#160;&#160;&#160;&#160;&#160;&#160;: &#160;&#160;&#160;&#160;&#160;&#160;&#160;&#160;&#160;False</text>\n<text text-anchor=\"middle\" x=\"628.5\" y=\"-2087\" font-family=\"monospace\" font-size=\"10.00\" fill=\"#000000\">weight_argsize_0 &#160;: &#160;&#160;&#160;&#160;&#160;&#160;&#160;&#160;&#160;&#160;&#160;&#160;64</text>\n</g>\n<!-- 140142024559568&#45;&gt;140142024557136 -->\n<g id=\"edge51\" class=\"edge\">\n<title>140142024559568&#45;&gt;140142024557136</title>\n<path fill=\"none\" stroke=\"#000000\" d=\"M642.6865,-2079.9405C645.6175,-2071.1476 648.6478,-2062.0566 651.3976,-2053.8072\"/>\n<polygon fill=\"#000000\" stroke=\"#000000\" points=\"654.7452,-2054.8322 654.5871,-2044.2386 648.1044,-2052.6186 654.7452,-2054.8322\"/>\n</g>\n<!-- 140141889979968 -->\n<g id=\"node54\" class=\"node\">\n<title>140141889979968</title>\n<polygon fill=\"#ffa500\" stroke=\"#000000\" points=\"563,-2038.5 498,-2038.5 498,-2008.5 563,-2008.5 563,-2038.5\"/>\n<text text-anchor=\"middle\" x=\"530.5\" y=\"-2026.5\" font-family=\"monospace\" font-size=\"10.00\" fill=\"#000000\">indices</text>\n<text text-anchor=\"middle\" x=\"530.5\" y=\"-2015.5\" font-family=\"monospace\" font-size=\"10.00\" fill=\"#000000\"> (1, 10)</text>\n</g>\n<!-- 140142024559568&#45;&gt;140141889979968 -->\n<g id=\"edge52\" class=\"edge\">\n<title>140142024559568&#45;&gt;140141889979968</title>\n<path fill=\"none\" stroke=\"#000000\" d=\"M586.3704,-2079.9405C571.8447,-2065.2666 556.4972,-2049.7625 545.571,-2038.7247\"/>\n</g>\n<!-- 140142024559632 -->\n<g id=\"node55\" class=\"node\">\n<title>140142024559632</title>\n<polygon fill=\"#d3d3d3\" stroke=\"#000000\" points=\"679,-2220 578,-2220 578,-2201 679,-2201 679,-2220\"/>\n<text text-anchor=\"middle\" x=\"628.5\" y=\"-2208\" font-family=\"monospace\" font-size=\"10.00\" fill=\"#000000\">AccumulateGrad</text>\n</g>\n<!-- 140142024559632&#45;&gt;140142024559568 -->\n<g id=\"edge53\" class=\"edge\">\n<title>140142024559632&#45;&gt;140142024559568</title>\n<path fill=\"none\" stroke=\"#000000\" d=\"M628.5,-2200.7462C628.5,-2194.2365 628.5,-2185.1096 628.5,-2175.3781\"/>\n<polygon fill=\"#000000\" stroke=\"#000000\" points=\"632.0001,-2175.1023 628.5,-2165.1024 625.0001,-2175.1024 632.0001,-2175.1023\"/>\n</g>\n<!-- 140141889945504 -->\n<g id=\"node56\" class=\"node\">\n<title>140141889945504</title>\n<polygon fill=\"#add8e6\" stroke=\"#000000\" points=\"685,-2286 572,-2286 572,-2256 685,-2256 685,-2286\"/>\n<text text-anchor=\"middle\" x=\"628.5\" y=\"-2274\" font-family=\"monospace\" font-size=\"10.00\" fill=\"#000000\">embedding.weight</text>\n<text text-anchor=\"middle\" x=\"628.5\" y=\"-2263\" font-family=\"monospace\" font-size=\"10.00\" fill=\"#000000\"> (64, 256)</text>\n</g>\n<!-- 140141889945504&#45;&gt;140142024559632 -->\n<g id=\"edge54\" class=\"edge\">\n<title>140141889945504&#45;&gt;140142024559632</title>\n<path fill=\"none\" stroke=\"#000000\" d=\"M628.5,-2255.7333C628.5,-2248.0322 628.5,-2238.5977 628.5,-2230.3414\"/>\n<polygon fill=\"#000000\" stroke=\"#000000\" points=\"632.0001,-2230.0864 628.5,-2220.0864 625.0001,-2230.0864 632.0001,-2230.0864\"/>\n</g>\n<!-- 140142024558736 -->\n<g id=\"node57\" class=\"node\">\n<title>140142024558736</title>\n<polygon fill=\"#d3d3d3\" stroke=\"#000000\" points=\"361,-2033 260,-2033 260,-2014 361,-2014 361,-2033\"/>\n<text text-anchor=\"middle\" x=\"310.5\" y=\"-2021\" font-family=\"monospace\" font-size=\"10.00\" fill=\"#000000\">AccumulateGrad</text>\n</g>\n<!-- 140142024558736&#45;&gt;140142024558928 -->\n<g id=\"edge55\" class=\"edge\">\n<title>140142024558736&#45;&gt;140142024558928</title>\n<path fill=\"none\" stroke=\"#000000\" d=\"M321.4819,-2013.8562C332.2559,-2004.395 349.5971,-1989.1668 367.2608,-1973.6554\"/>\n<polygon fill=\"#000000\" stroke=\"#000000\" points=\"369.628,-1976.2347 374.8325,-1967.0063 365.009,-1970.9749 369.628,-1976.2347\"/>\n</g>\n<!-- 140141889944944 -->\n<g id=\"node58\" class=\"node\">\n<title>140141889944944</title>\n<polygon fill=\"#add8e6\" stroke=\"#000000\" points=\"361,-2137.5 260,-2137.5 260,-2107.5 361,-2107.5 361,-2137.5\"/>\n<text text-anchor=\"middle\" x=\"310.5\" y=\"-2125.5\" font-family=\"monospace\" font-size=\"10.00\" fill=\"#000000\">conv1.weight</text>\n<text text-anchor=\"middle\" x=\"310.5\" y=\"-2114.5\" font-family=\"monospace\" font-size=\"10.00\" fill=\"#000000\"> (16, 1, 3, 3)</text>\n</g>\n<!-- 140141889944944&#45;&gt;140142024558736 -->\n<g id=\"edge56\" class=\"edge\">\n<title>140141889944944&#45;&gt;140142024558736</title>\n<path fill=\"none\" stroke=\"#000000\" d=\"M310.5,-2107.464C310.5,-2090.3618 310.5,-2062.3632 310.5,-2043.4474\"/>\n<polygon fill=\"#000000\" stroke=\"#000000\" points=\"314.0001,-2043.2662 310.5,-2033.2663 307.0001,-2043.2663 314.0001,-2043.2662\"/>\n</g>\n<!-- 140142024559696 -->\n<g id=\"node59\" class=\"node\">\n<title>140142024559696</title>\n<polygon fill=\"#d3d3d3\" stroke=\"#000000\" points=\"480,-2033 379,-2033 379,-2014 480,-2014 480,-2033\"/>\n<text text-anchor=\"middle\" x=\"429.5\" y=\"-2021\" font-family=\"monospace\" font-size=\"10.00\" fill=\"#000000\">AccumulateGrad</text>\n</g>\n<!-- 140142024559696&#45;&gt;140142024558928 -->\n<g id=\"edge57\" class=\"edge\">\n<title>140142024559696&#45;&gt;140142024558928</title>\n<path fill=\"none\" stroke=\"#000000\" d=\"M429.5,-2013.8562C429.5,-2005.1553 429.5,-1991.577 429.5,-1977.3864\"/>\n<polygon fill=\"#000000\" stroke=\"#000000\" points=\"433.0001,-1977.0063 429.5,-1967.0063 426.0001,-1977.0063 433.0001,-1977.0063\"/>\n</g>\n<!-- 140141889945184 -->\n<g id=\"node60\" class=\"node\">\n<title>140141889945184</title>\n<polygon fill=\"#add8e6\" stroke=\"#000000\" points=\"468,-2137.5 391,-2137.5 391,-2107.5 468,-2107.5 468,-2137.5\"/>\n<text text-anchor=\"middle\" x=\"429.5\" y=\"-2125.5\" font-family=\"monospace\" font-size=\"10.00\" fill=\"#000000\">conv1.bias</text>\n<text text-anchor=\"middle\" x=\"429.5\" y=\"-2114.5\" font-family=\"monospace\" font-size=\"10.00\" fill=\"#000000\"> (16)</text>\n</g>\n<!-- 140141889945184&#45;&gt;140142024559696 -->\n<g id=\"edge58\" class=\"edge\">\n<title>140141889945184&#45;&gt;140142024559696</title>\n<path fill=\"none\" stroke=\"#000000\" d=\"M429.5,-2107.464C429.5,-2090.3618 429.5,-2062.3632 429.5,-2043.4474\"/>\n<polygon fill=\"#000000\" stroke=\"#000000\" points=\"433.0001,-2043.2662 429.5,-2033.2663 426.0001,-2043.2663 433.0001,-2043.2662\"/>\n</g>\n<!-- 140142024573904 -->\n<g id=\"node61\" class=\"node\">\n<title>140142024573904</title>\n<polygon fill=\"#d3d3d3\" stroke=\"#000000\" points=\"653,-1598.5 552,-1598.5 552,-1579.5 653,-1579.5 653,-1598.5\"/>\n<text text-anchor=\"middle\" x=\"602.5\" y=\"-1586.5\" font-family=\"monospace\" font-size=\"10.00\" fill=\"#000000\">AccumulateGrad</text>\n</g>\n<!-- 140142024573904&#45;&gt;140142024573200 -->\n<g id=\"edge59\" class=\"edge\">\n<title>140142024573904&#45;&gt;140142024573200</title>\n<path fill=\"none\" stroke=\"#000000\" d=\"M591.9395,-1579.2382C580.6408,-1568.7941 561.7878,-1551.3669 542.9425,-1533.9468\"/>\n<polygon fill=\"#000000\" stroke=\"#000000\" points=\"545.1749,-1531.2441 535.4558,-1527.0263 540.4233,-1536.3845 545.1749,-1531.2441\"/>\n</g>\n<!-- 140141890242192 -->\n<g id=\"node62\" class=\"node\">\n<title>140141890242192</title>\n<polygon fill=\"#add8e6\" stroke=\"#000000\" points=\"656,-1719.5 549,-1719.5 549,-1689.5 656,-1689.5 656,-1719.5\"/>\n<text text-anchor=\"middle\" x=\"602.5\" y=\"-1707.5\" font-family=\"monospace\" font-size=\"10.00\" fill=\"#000000\">conv2.weight</text>\n<text text-anchor=\"middle\" x=\"602.5\" y=\"-1696.5\" font-family=\"monospace\" font-size=\"10.00\" fill=\"#000000\"> (32, 16, 3, 3)</text>\n</g>\n<!-- 140141890242192&#45;&gt;140142024573904 -->\n<g id=\"edge60\" class=\"edge\">\n<title>140141890242192&#45;&gt;140142024573904</title>\n<path fill=\"none\" stroke=\"#000000\" d=\"M602.5,-1689.4004C602.5,-1668.7903 602.5,-1631.8051 602.5,-1608.9365\"/>\n<polygon fill=\"#000000\" stroke=\"#000000\" points=\"606.0001,-1608.7014 602.5,-1598.7014 599.0001,-1608.7014 606.0001,-1608.7014\"/>\n</g>\n<!-- 140142024575184 -->\n<g id=\"node63\" class=\"node\">\n<title>140142024575184</title>\n<polygon fill=\"#d3d3d3\" stroke=\"#000000\" points=\"534,-1598.5 433,-1598.5 433,-1579.5 534,-1579.5 534,-1598.5\"/>\n<text text-anchor=\"middle\" x=\"483.5\" y=\"-1586.5\" font-family=\"monospace\" font-size=\"10.00\" fill=\"#000000\">AccumulateGrad</text>\n</g>\n<!-- 140142024575184&#45;&gt;140142024573200 -->\n<g id=\"edge61\" class=\"edge\">\n<title>140142024575184&#45;&gt;140142024573200</title>\n<path fill=\"none\" stroke=\"#000000\" d=\"M483.5,-1579.2382C483.5,-1569.441 483.5,-1553.4992 483.5,-1537.1826\"/>\n<polygon fill=\"#000000\" stroke=\"#000000\" points=\"487.0001,-1537.0263 483.5,-1527.0263 480.0001,-1537.0264 487.0001,-1537.0263\"/>\n</g>\n<!-- 140141890242592 -->\n<g id=\"node64\" class=\"node\">\n<title>140141890242592</title>\n<polygon fill=\"#add8e6\" stroke=\"#000000\" points=\"526,-1719.5 449,-1719.5 449,-1689.5 526,-1689.5 526,-1719.5\"/>\n<text text-anchor=\"middle\" x=\"487.5\" y=\"-1707.5\" font-family=\"monospace\" font-size=\"10.00\" fill=\"#000000\">conv2.bias</text>\n<text text-anchor=\"middle\" x=\"487.5\" y=\"-1696.5\" font-family=\"monospace\" font-size=\"10.00\" fill=\"#000000\"> (32)</text>\n</g>\n<!-- 140141890242592&#45;&gt;140142024575184 -->\n<g id=\"edge62\" class=\"edge\">\n<title>140141890242592&#45;&gt;140142024575184</title>\n<path fill=\"none\" stroke=\"#000000\" d=\"M486.9771,-1689.4004C486.2633,-1668.7903 484.9824,-1631.8051 484.1904,-1608.9365\"/>\n<polygon fill=\"#000000\" stroke=\"#000000\" points=\"487.6801,-1608.5742 483.836,-1598.7014 480.6843,-1608.8166 487.6801,-1608.5742\"/>\n</g>\n<!-- 140141890210896 -->\n<g id=\"node65\" class=\"node\">\n<title>140141890210896</title>\n<polygon fill=\"#d3d3d3\" stroke=\"#000000\" points=\"703,-1158.5 602,-1158.5 602,-1139.5 703,-1139.5 703,-1158.5\"/>\n<text text-anchor=\"middle\" x=\"652.5\" y=\"-1146.5\" font-family=\"monospace\" font-size=\"10.00\" fill=\"#000000\">AccumulateGrad</text>\n</g>\n<!-- 140141890210896&#45;&gt;140142024574160 -->\n<g id=\"edge63\" class=\"edge\">\n<title>140141890210896&#45;&gt;140142024574160</title>\n<path fill=\"none\" stroke=\"#000000\" d=\"M642.3541,-1139.1525C631.6859,-1128.7981 613.9679,-1111.6012 595.8929,-1094.0578\"/>\n<polygon fill=\"#000000\" stroke=\"#000000\" points=\"598.3053,-1091.5217 588.6917,-1087.0685 593.4299,-1096.5448 598.3053,-1091.5217\"/>\n</g>\n<!-- 140141890243552 -->\n<g id=\"node66\" class=\"node\">\n<title>140141890243552</title>\n<polygon fill=\"#add8e6\" stroke=\"#000000\" points=\"706,-1279.5 599,-1279.5 599,-1249.5 706,-1249.5 706,-1279.5\"/>\n<text text-anchor=\"middle\" x=\"652.5\" y=\"-1267.5\" font-family=\"monospace\" font-size=\"10.00\" fill=\"#000000\">conv3.weight</text>\n<text text-anchor=\"middle\" x=\"652.5\" y=\"-1256.5\" font-family=\"monospace\" font-size=\"10.00\" fill=\"#000000\"> (64, 32, 1, 1)</text>\n</g>\n<!-- 140141890243552&#45;&gt;140141890210896 -->\n<g id=\"edge64\" class=\"edge\">\n<title>140141890243552&#45;&gt;140141890210896</title>\n<path fill=\"none\" stroke=\"#000000\" d=\"M652.5,-1249.4004C652.5,-1228.7903 652.5,-1191.8051 652.5,-1168.9365\"/>\n<polygon fill=\"#000000\" stroke=\"#000000\" points=\"656.0001,-1168.7014 652.5,-1158.7014 649.0001,-1168.7014 656.0001,-1168.7014\"/>\n</g>\n<!-- 140142134049232 -->\n<g id=\"node67\" class=\"node\">\n<title>140142134049232</title>\n<polygon fill=\"#d3d3d3\" stroke=\"#000000\" points=\"584,-1158.5 483,-1158.5 483,-1139.5 584,-1139.5 584,-1158.5\"/>\n<text text-anchor=\"middle\" x=\"533.5\" y=\"-1146.5\" font-family=\"monospace\" font-size=\"10.00\" fill=\"#000000\">AccumulateGrad</text>\n</g>\n<!-- 140142134049232&#45;&gt;140142024574160 -->\n<g id=\"edge65\" class=\"edge\">\n<title>140142134049232&#45;&gt;140142024574160</title>\n<path fill=\"none\" stroke=\"#000000\" d=\"M533.5,-1139.1525C533.5,-1129.4395 533.5,-1113.7055 533.5,-1097.3126\"/>\n<polygon fill=\"#000000\" stroke=\"#000000\" points=\"537.0001,-1097.0684 533.5,-1087.0685 530.0001,-1097.0685 537.0001,-1097.0684\"/>\n</g>\n<!-- 140141890243232 -->\n<g id=\"node68\" class=\"node\">\n<title>140141890243232</title>\n<polygon fill=\"#add8e6\" stroke=\"#000000\" points=\"574,-1279.5 497,-1279.5 497,-1249.5 574,-1249.5 574,-1279.5\"/>\n<text text-anchor=\"middle\" x=\"535.5\" y=\"-1267.5\" font-family=\"monospace\" font-size=\"10.00\" fill=\"#000000\">conv3.bias</text>\n<text text-anchor=\"middle\" x=\"535.5\" y=\"-1256.5\" font-family=\"monospace\" font-size=\"10.00\" fill=\"#000000\"> (64)</text>\n</g>\n<!-- 140141890243232&#45;&gt;140142134049232 -->\n<g id=\"edge66\" class=\"edge\">\n<title>140141890243232&#45;&gt;140142134049232</title>\n<path fill=\"none\" stroke=\"#000000\" d=\"M535.2385,-1249.4004C534.8816,-1228.7903 534.2412,-1191.8051 533.8452,-1168.9365\"/>\n<polygon fill=\"#000000\" stroke=\"#000000\" points=\"537.3407,-1168.6393 533.668,-1158.7014 530.3417,-1168.7605 537.3407,-1168.6393\"/>\n</g>\n<!-- 140141890257232 -->\n<g id=\"node69\" class=\"node\">\n<title>140141890257232</title>\n<polygon fill=\"#d3d3d3\" stroke=\"#000000\" points=\"1012,-713 941,-713 941,-694 1012,-694 1012,-713\"/>\n<text text-anchor=\"middle\" x=\"976.5\" y=\"-701\" font-family=\"monospace\" font-size=\"10.00\" fill=\"#000000\">TBackward</text>\n</g>\n<!-- 140141890257232&#45;&gt;140141890259408 -->\n<g id=\"edge67\" class=\"edge\">\n<title>140141890257232&#45;&gt;140141890259408</title>\n<path fill=\"none\" stroke=\"#000000\" d=\"M957.4928,-693.8798C949.8387,-690.2084 940.8584,-686.1519 932.5,-683 927.062,-680.9493 803.9497,-644.9608 711.0903,-617.8825\"/>\n<polygon fill=\"#000000\" stroke=\"#000000\" points=\"711.9318,-614.4822 701.3518,-615.043 709.9723,-621.2024 711.9318,-614.4822\"/>\n</g>\n<!-- 140142134049360 -->\n<g id=\"node70\" class=\"node\">\n<title>140142134049360</title>\n<polygon fill=\"#d3d3d3\" stroke=\"#000000\" points=\"1054,-823 953,-823 953,-804 1054,-804 1054,-823\"/>\n<text text-anchor=\"middle\" x=\"1003.5\" y=\"-811\" font-family=\"monospace\" font-size=\"10.00\" fill=\"#000000\">AccumulateGrad</text>\n</g>\n<!-- 140142134049360&#45;&gt;140141890257232 -->\n<g id=\"edge68\" class=\"edge\">\n<title>140142134049360&#45;&gt;140141890257232</title>\n<path fill=\"none\" stroke=\"#000000\" d=\"M1001.1039,-803.7382C996.6696,-785.6724 987.1068,-746.713 981.2956,-723.0376\"/>\n<polygon fill=\"#000000\" stroke=\"#000000\" points=\"984.6351,-721.9602 978.8521,-713.0828 977.8369,-723.6289 984.6351,-721.9602\"/>\n</g>\n<!-- 140141890242912 -->\n<g id=\"node71\" class=\"node\">\n<title>140141890242912</title>\n<polygon fill=\"#add8e6\" stroke=\"#000000\" points=\"1042,-938.5 965,-938.5 965,-908.5 1042,-908.5 1042,-938.5\"/>\n<text text-anchor=\"middle\" x=\"1003.5\" y=\"-926.5\" font-family=\"monospace\" font-size=\"10.00\" fill=\"#000000\">fc1.weight</text>\n<text text-anchor=\"middle\" x=\"1003.5\" y=\"-915.5\" font-family=\"monospace\" font-size=\"10.00\" fill=\"#000000\"> (512, 64)</text>\n</g>\n<!-- 140141890242912&#45;&gt;140142134049360 -->\n<g id=\"edge69\" class=\"edge\">\n<title>140141890242912&#45;&gt;140142134049360</title>\n<path fill=\"none\" stroke=\"#000000\" d=\"M1003.5,-908.205C1003.5,-888.6894 1003.5,-854.8931 1003.5,-833.3934\"/>\n<polygon fill=\"#000000\" stroke=\"#000000\" points=\"1007.0001,-833.1473 1003.5,-823.1473 1000.0001,-833.1474 1007.0001,-833.1473\"/>\n</g>\n<!-- 140142025117200 -->\n<g id=\"node72\" class=\"node\">\n<title>140142025117200</title>\n<polygon fill=\"#d3d3d3\" stroke=\"#000000\" points=\"1081,-482 1010,-482 1010,-463 1081,-463 1081,-482\"/>\n<text text-anchor=\"middle\" x=\"1045.5\" y=\"-470\" font-family=\"monospace\" font-size=\"10.00\" fill=\"#000000\">TBackward</text>\n</g>\n<!-- 140142025117200&#45;&gt;140142024229136 -->\n<g id=\"edge70\" class=\"edge\">\n<title>140142025117200&#45;&gt;140142024229136</title>\n<path fill=\"none\" stroke=\"#000000\" d=\"M1016.9737,-462.9499C970.5453,-447.4065 876.4262,-415.897 802.8399,-391.2616\"/>\n<polygon fill=\"#000000\" stroke=\"#000000\" points=\"803.6525,-387.8428 793.0587,-387.987 801.4302,-394.4807 803.6525,-387.8428\"/>\n</g>\n<!-- 140142134049168 -->\n<g id=\"node73\" class=\"node\">\n<title>140142134049168</title>\n<polygon fill=\"#d3d3d3\" stroke=\"#000000\" points=\"1107,-597.5 1006,-597.5 1006,-578.5 1107,-578.5 1107,-597.5\"/>\n<text text-anchor=\"middle\" x=\"1056.5\" y=\"-585.5\" font-family=\"monospace\" font-size=\"10.00\" fill=\"#000000\">AccumulateGrad</text>\n</g>\n<!-- 140142134049168&#45;&gt;140142025117200 -->\n<g id=\"edge71\" class=\"edge\">\n<title>140142134049168&#45;&gt;140142025117200</title>\n<path fill=\"none\" stroke=\"#000000\" d=\"M1055.5621,-578.1525C1053.7599,-559.2295 1049.7812,-517.453 1047.4023,-492.4746\"/>\n<polygon fill=\"#000000\" stroke=\"#000000\" points=\"1050.8679,-491.9456 1046.4355,-482.3225 1043.8994,-492.6094 1050.8679,-491.9456\"/>\n</g>\n<!-- 140141890241952 -->\n<g id=\"node74\" class=\"node\">\n<title>140141890241952</title>\n<polygon fill=\"#add8e6\" stroke=\"#000000\" points=\"1107,-718.5 1030,-718.5 1030,-688.5 1107,-688.5 1107,-718.5\"/>\n<text text-anchor=\"middle\" x=\"1068.5\" y=\"-706.5\" font-family=\"monospace\" font-size=\"10.00\" fill=\"#000000\">fc2.weight</text>\n<text text-anchor=\"middle\" x=\"1068.5\" y=\"-695.5\" font-family=\"monospace\" font-size=\"10.00\" fill=\"#000000\"> (64, 512)</text>\n</g>\n<!-- 140141890241952&#45;&gt;140142134049168 -->\n<g id=\"edge72\" class=\"edge\">\n<title>140141890241952&#45;&gt;140142134049168</title>\n<path fill=\"none\" stroke=\"#000000\" d=\"M1066.9312,-688.4004C1064.7899,-667.7903 1060.9473,-630.8051 1058.5713,-607.9365\"/>\n<polygon fill=\"#000000\" stroke=\"#000000\" points=\"1062.0227,-607.2862 1057.5079,-597.7014 1055.0602,-608.0096 1062.0227,-607.2862\"/>\n</g>\n<!-- 140142024230032 -->\n<g id=\"node75\" class=\"node\">\n<title>140142024230032</title>\n<polygon fill=\"#d3d3d3\" stroke=\"#000000\" points=\"453,-251 382,-251 382,-232 453,-232 453,-251\"/>\n<text text-anchor=\"middle\" x=\"417.5\" y=\"-239\" font-family=\"monospace\" font-size=\"10.00\" fill=\"#000000\">TBackward</text>\n</g>\n<!-- 140142024230032&#45;&gt;140141896211728 -->\n<g id=\"edge73\" class=\"edge\">\n<title>140142024230032&#45;&gt;140141896211728</title>\n<path fill=\"none\" stroke=\"#000000\" d=\"M417.5,-231.6525C417.5,-223.0093 417.5,-209.5982 417.5,-195.1978\"/>\n<polygon fill=\"#000000\" stroke=\"#000000\" points=\"421.0001,-195.1166 417.5,-185.1166 414.0001,-195.1167 421.0001,-195.1166\"/>\n</g>\n<!-- 140142024231952 -->\n<g id=\"node76\" class=\"node\">\n<title>140142024231952</title>\n<polygon fill=\"#d3d3d3\" stroke=\"#000000\" points=\"466,-366.5 365,-366.5 365,-347.5 466,-347.5 466,-366.5\"/>\n<text text-anchor=\"middle\" x=\"415.5\" y=\"-354.5\" font-family=\"monospace\" font-size=\"10.00\" fill=\"#000000\">AccumulateGrad</text>\n</g>\n<!-- 140142024231952&#45;&gt;140142024230032 -->\n<g id=\"edge74\" class=\"edge\">\n<title>140142024231952&#45;&gt;140142024230032</title>\n<path fill=\"none\" stroke=\"#000000\" d=\"M415.6705,-347.1525C415.9982,-328.2295 416.7216,-286.453 417.1541,-261.4746\"/>\n<polygon fill=\"#000000\" stroke=\"#000000\" points=\"420.6562,-261.3817 417.3299,-251.3225 413.6572,-261.2604 420.6562,-261.3817\"/>\n</g>\n<!-- 140142024555088 -->\n<g id=\"node77\" class=\"node\">\n<title>140142024555088</title>\n<polygon fill=\"#add8e6\" stroke=\"#000000\" points=\"445,-487.5 368,-487.5 368,-457.5 445,-457.5 445,-487.5\"/>\n<text text-anchor=\"middle\" x=\"406.5\" y=\"-475.5\" font-family=\"monospace\" font-size=\"10.00\" fill=\"#000000\">fc3.weight</text>\n<text text-anchor=\"middle\" x=\"406.5\" y=\"-464.5\" font-family=\"monospace\" font-size=\"10.00\" fill=\"#000000\"> (1, 64)</text>\n</g>\n<!-- 140142024555088&#45;&gt;140142024231952 -->\n<g id=\"edge75\" class=\"edge\">\n<title>140142024555088&#45;&gt;140142024231952</title>\n<path fill=\"none\" stroke=\"#000000\" d=\"M407.6766,-457.4004C409.2826,-436.7903 412.1645,-399.8051 413.9465,-376.9365\"/>\n<polygon fill=\"#000000\" stroke=\"#000000\" points=\"417.4565,-376.9431 414.744,-366.7014 410.4777,-376.3993 417.4565,-376.9431\"/>\n</g>\n</g>\n</svg>\n"
          },
          "metadata": {},
          "execution_count": 43
        }
      ]
    },
    {
      "cell_type": "code",
      "metadata": {
        "id": "y7UM-zq0Khvx",
        "colab": {
          "base_uri": "https://localhost:8080/",
          "height": 36
        },
        "outputId": "065e9f9a-244d-4ad9-d295-de44a7ded63f"
      },
      "source": [
        "make_dot(model(x), params=dict(model.named_parameters()), show_attrs=True, show_saved=True).render(\"Model-CNN\", format=\"png\")"
      ],
      "execution_count": 44,
      "outputs": [
        {
          "output_type": "execute_result",
          "data": {
            "application/vnd.google.colaboratory.intrinsic+json": {
              "type": "string"
            },
            "text/plain": [
              "'Model-CNN.png'"
            ]
          },
          "metadata": {},
          "execution_count": 44
        }
      ]
    },
    {
      "cell_type": "code",
      "metadata": {
        "id": "KUyGJntuRUgc"
      },
      "source": [
        "# model = LSTM_net(INPUT_DIM, \n",
        "#             EMBEDDING_DIM, \n",
        "#             HIDDEN_DIM, \n",
        "#             OUTPUT_DIM, \n",
        "#             N_LAYERS, \n",
        "#             BIDIRECTIONAL, \n",
        "#             DROPOUT, \n",
        "#             PAD_IDX)"
      ],
      "execution_count": 45,
      "outputs": []
    },
    {
      "cell_type": "code",
      "metadata": {
        "id": "5YMhpd_JReCz"
      },
      "source": [
        "model.to(device)\n",
        "\n",
        "# Loss and optimizer\n",
        "criterion = torch.nn.BCEWithLogitsLoss()\n",
        "\n",
        "optimizer = torch.optim.Adam(model.parameters(), lr=learning_rate)"
      ],
      "execution_count": 46,
      "outputs": []
    },
    {
      "cell_type": "code",
      "metadata": {
        "id": "huyt19JJRhDb"
      },
      "source": [
        "def binary_accuracy(preds, y):\n",
        "\n",
        "    rounded_preds = torch.round(torch.sigmoid(preds))\n",
        "    correct = (rounded_preds == y).float() \n",
        "    acc = correct.sum() / len(correct)\n",
        "    return acc"
      ],
      "execution_count": 47,
      "outputs": []
    },
    {
      "cell_type": "code",
      "metadata": {
        "id": "6NnBSBI0RjhT"
      },
      "source": [
        "# training function \n",
        "def train(model, iterator):\n",
        "    \n",
        "    epoch_loss = 0\n",
        "    epoch_acc = 0\n",
        "    \n",
        "    model.train()\n",
        "    \n",
        "    for i,batch in enumerate( iterator,1):\n",
        "        text, text_lengths = batch.text\n",
        "        \n",
        "        optimizer.zero_grad()\n",
        "        predictions = model(text).squeeze(1)\n",
        "        \n",
        "        loss = criterion(predictions, batch.polarity)\n",
        "        acc = binary_accuracy(predictions, batch.polarity)\n",
        "\n",
        "        loss.backward()\n",
        "        optimizer.step()\n",
        "        \n",
        "        epoch_loss += loss.item()\n",
        "        epoch_acc += acc.item()\n",
        "\n",
        "        print_val = f\"running_loss : {(loss.item()):.6f}\\t\"\n",
        "        print_val += f\"running_corrects : {acc.item():.6f}\\t\"  \n",
        "        sys.stdout.write('\\r' + str(print_val))\n",
        "        \n",
        "\n",
        "    return epoch_loss / len(iterator), epoch_acc / len(iterator)"
      ],
      "execution_count": 48,
      "outputs": []
    },
    {
      "cell_type": "code",
      "metadata": {
        "id": "zruqoGIzRmJl"
      },
      "source": [
        "def evaluate(model, iterator):\n",
        "    \n",
        "    epoch_loss = 0\n",
        "    epoch_acc = 0\n",
        "    model.eval()\n",
        "    \n",
        "    with torch.no_grad():\n",
        "        for batch in iterator:\n",
        "            text, text_lengths = batch.text\n",
        "            predictions = model(text,).squeeze(1)\n",
        "            loss = criterion(predictions, batch.polarity)\n",
        "            acc = binary_accuracy(predictions, batch.polarity)\n",
        "            \n",
        "            epoch_acc += acc.item()\n",
        "            epoch_loss += loss.item()\n",
        "        \n",
        "    return  epoch_loss / len(iterator), epoch_acc / len(iterator) "
      ],
      "execution_count": 49,
      "outputs": []
    },
    {
      "cell_type": "code",
      "metadata": {
        "id": "KgJpF8CdRoJL",
        "colab": {
          "base_uri": "https://localhost:8080/"
        },
        "outputId": "4298309d-11e9-480c-afef-a8a083bd6882"
      },
      "source": [
        "t = time.time()\n",
        "loss=[]\n",
        "acc=[]\n",
        "val_acc=[]\n",
        "val_loss=[]\n",
        "\n",
        "for epoch in range(num_epochs):\n",
        "    \n",
        "    train_loss, train_acc = train(model, train_iter)\n",
        "    valid_loss, valid_acc = evaluate(model, valid_iter)\n",
        "    \n",
        "    print(f'\\tTrain Loss: {train_loss:.3f} | Train Acc: {train_acc*100:.2f}%  | Val. Acc: {valid_acc*100:.2f}%')\n",
        "    # print(f'\\t')\n",
        "    \n",
        "    loss.append(train_loss)\n",
        "    acc.append(train_acc)\n",
        "    val_loss.append(valid_loss)\n",
        "    val_acc.append(valid_acc)\n",
        "    \n",
        "print(f'time:{time.time()-t:.3f}')"
      ],
      "execution_count": 50,
      "outputs": [
        {
          "output_type": "stream",
          "name": "stdout",
          "text": [
            "running_loss : 0.635272\trunning_corrects : 0.700000\t\tTrain Loss: 0.551 | Train Acc: 76.89%  | Val. Acc: 77.65%\n",
            "running_loss : 0.631176\trunning_corrects : 0.700000\t\tTrain Loss: 0.533 | Train Acc: 77.58%  | Val. Acc: 77.65%\n",
            "running_loss : 0.615502\trunning_corrects : 0.700000\t\tTrain Loss: 0.532 | Train Acc: 77.58%  | Val. Acc: 77.65%\n",
            "running_loss : 0.622020\trunning_corrects : 0.700000\t\tTrain Loss: 0.531 | Train Acc: 77.58%  | Val. Acc: 77.65%\n",
            "running_loss : 0.618891\trunning_corrects : 0.700000\t\tTrain Loss: 0.529 | Train Acc: 77.58%  | Val. Acc: 77.65%\n",
            "running_loss : 0.653960\trunning_corrects : 0.700000\t\tTrain Loss: 0.528 | Train Acc: 77.58%  | Val. Acc: 77.65%\n",
            "running_loss : 0.621668\trunning_corrects : 0.700000\t\tTrain Loss: 0.527 | Train Acc: 77.58%  | Val. Acc: 77.65%\n",
            "running_loss : 0.632842\trunning_corrects : 0.700000\t\tTrain Loss: 0.525 | Train Acc: 77.58%  | Val. Acc: 77.65%\n",
            "running_loss : 0.646756\trunning_corrects : 0.700000\t\tTrain Loss: 0.522 | Train Acc: 77.58%  | Val. Acc: 77.65%\n",
            "running_loss : 0.611371\trunning_corrects : 0.700000\t\tTrain Loss: 0.517 | Train Acc: 77.58%  | Val. Acc: 77.65%\n",
            "running_loss : 0.608898\trunning_corrects : 0.700000\t\tTrain Loss: 0.514 | Train Acc: 77.58%  | Val. Acc: 77.65%\n",
            "running_loss : 0.636342\trunning_corrects : 0.700000\t\tTrain Loss: 0.509 | Train Acc: 77.58%  | Val. Acc: 77.65%\n",
            "running_loss : 0.669554\trunning_corrects : 0.700000\t\tTrain Loss: 0.504 | Train Acc: 77.61%  | Val. Acc: 78.09%\n",
            "running_loss : 0.648228\trunning_corrects : 0.700000\t\tTrain Loss: 0.495 | Train Acc: 78.20%  | Val. Acc: 81.45%\n",
            "running_loss : 0.631794\trunning_corrects : 0.700000\t\tTrain Loss: 0.489 | Train Acc: 79.52%  | Val. Acc: 82.60%\n",
            "running_loss : 0.569247\trunning_corrects : 0.750000\t\tTrain Loss: 0.484 | Train Acc: 80.86%  | Val. Acc: 82.60%\n",
            "running_loss : 0.612945\trunning_corrects : 0.700000\t\tTrain Loss: 0.476 | Train Acc: 81.38%  | Val. Acc: 83.04%\n",
            "running_loss : 0.724288\trunning_corrects : 0.650000\t\tTrain Loss: 0.469 | Train Acc: 81.94%  | Val. Acc: 82.99%\n",
            "running_loss : 0.646441\trunning_corrects : 0.700000\t\tTrain Loss: 0.462 | Train Acc: 82.41%  | Val. Acc: 82.99%\n",
            "running_loss : 0.688275\trunning_corrects : 0.650000\t\tTrain Loss: 0.458 | Train Acc: 82.79%  | Val. Acc: 82.99%\n",
            "running_loss : 0.672141\trunning_corrects : 0.700000\t\tTrain Loss: 0.457 | Train Acc: 82.47%  | Val. Acc: 83.04%\n",
            "running_loss : 0.672582\trunning_corrects : 0.650000\t\tTrain Loss: 0.456 | Train Acc: 82.82%  | Val. Acc: 83.04%\n",
            "running_loss : 0.778065\trunning_corrects : 0.650000\t\tTrain Loss: 0.449 | Train Acc: 82.94%  | Val. Acc: 82.99%\n",
            "running_loss : 0.714970\trunning_corrects : 0.650000\t\tTrain Loss: 0.446 | Train Acc: 83.20%  | Val. Acc: 82.99%\n",
            "running_loss : 0.693530\trunning_corrects : 0.650000\t\tTrain Loss: 0.449 | Train Acc: 82.94%  | Val. Acc: 83.09%\n",
            "running_loss : 0.724949\trunning_corrects : 0.650000\t\tTrain Loss: 0.447 | Train Acc: 83.05%  | Val. Acc: 83.09%\n",
            "running_loss : 0.750513\trunning_corrects : 0.650000\t\tTrain Loss: 0.443 | Train Acc: 83.20%  | Val. Acc: 83.09%\n",
            "running_loss : 0.687730\trunning_corrects : 0.700000\t\tTrain Loss: 0.444 | Train Acc: 83.20%  | Val. Acc: 82.99%\n",
            "running_loss : 0.650977\trunning_corrects : 0.700000\t\tTrain Loss: 0.442 | Train Acc: 83.27%  | Val. Acc: 83.04%\n",
            "running_loss : 0.683902\trunning_corrects : 0.700000\t\tTrain Loss: 0.442 | Train Acc: 83.36%  | Val. Acc: 83.09%\n",
            "running_loss : 0.746175\trunning_corrects : 0.650000\t\tTrain Loss: 0.443 | Train Acc: 83.40%  | Val. Acc: 83.04%\n",
            "running_loss : 0.693701\trunning_corrects : 0.650000\t\tTrain Loss: 0.442 | Train Acc: 83.15%  | Val. Acc: 83.09%\n",
            "running_loss : 0.705223\trunning_corrects : 0.650000\t\tTrain Loss: 0.439 | Train Acc: 83.37%  | Val. Acc: 83.04%\n",
            "running_loss : 0.707653\trunning_corrects : 0.650000\t\tTrain Loss: 0.442 | Train Acc: 83.21%  | Val. Acc: 83.13%\n",
            "running_loss : 0.690906\trunning_corrects : 0.650000\t\tTrain Loss: 0.439 | Train Acc: 83.43%  | Val. Acc: 83.09%\n",
            "running_loss : 0.668055\trunning_corrects : 0.650000\t\tTrain Loss: 0.440 | Train Acc: 83.50%  | Val. Acc: 83.04%\n",
            "running_loss : 0.773128\trunning_corrects : 0.650000\t\tTrain Loss: 0.440 | Train Acc: 83.38%  | Val. Acc: 83.09%\n",
            "running_loss : 0.690250\trunning_corrects : 0.650000\t\tTrain Loss: 0.440 | Train Acc: 83.31%  | Val. Acc: 83.04%\n",
            "running_loss : 0.643690\trunning_corrects : 0.700000\t\tTrain Loss: 0.440 | Train Acc: 83.46%  | Val. Acc: 83.04%\n",
            "running_loss : 0.735427\trunning_corrects : 0.650000\t\tTrain Loss: 0.439 | Train Acc: 83.45%  | Val. Acc: 83.13%\n",
            "running_loss : 0.787138\trunning_corrects : 0.650000\t\tTrain Loss: 0.441 | Train Acc: 83.27%  | Val. Acc: 83.13%\n",
            "running_loss : 0.689092\trunning_corrects : 0.700000\t\tTrain Loss: 0.437 | Train Acc: 83.57%  | Val. Acc: 83.13%\n",
            "running_loss : 0.826423\trunning_corrects : 0.650000\t\tTrain Loss: 0.440 | Train Acc: 83.26%  | Val. Acc: 83.09%\n",
            "running_loss : 0.703068\trunning_corrects : 0.650000\t\tTrain Loss: 0.440 | Train Acc: 83.33%  | Val. Acc: 83.09%\n",
            "running_loss : 0.640062\trunning_corrects : 0.700000\t\tTrain Loss: 0.436 | Train Acc: 83.52%  | Val. Acc: 83.09%\n",
            "running_loss : 0.698425\trunning_corrects : 0.650000\t\tTrain Loss: 0.438 | Train Acc: 83.49%  | Val. Acc: 83.09%\n",
            "running_loss : 0.836616\trunning_corrects : 0.650000\t\tTrain Loss: 0.438 | Train Acc: 83.43%  | Val. Acc: 83.13%\n",
            "running_loss : 0.684136\trunning_corrects : 0.700000\t\tTrain Loss: 0.436 | Train Acc: 83.57%  | Val. Acc: 83.09%\n",
            "running_loss : 0.689049\trunning_corrects : 0.650000\t\tTrain Loss: 0.438 | Train Acc: 83.40%  | Val. Acc: 83.09%\n",
            "running_loss : 0.713190\trunning_corrects : 0.650000\t\tTrain Loss: 0.438 | Train Acc: 83.34%  | Val. Acc: 83.13%\n",
            "running_loss : 0.763055\trunning_corrects : 0.650000\t\tTrain Loss: 0.438 | Train Acc: 83.36%  | Val. Acc: 83.13%\n",
            "running_loss : 0.687246\trunning_corrects : 0.650000\t\tTrain Loss: 0.437 | Train Acc: 83.42%  | Val. Acc: 83.13%\n",
            "running_loss : 0.683577\trunning_corrects : 0.700000\t\tTrain Loss: 0.437 | Train Acc: 83.41%  | Val. Acc: 83.13%\n",
            "running_loss : 0.773447\trunning_corrects : 0.600000\t\tTrain Loss: 0.438 | Train Acc: 83.28%  | Val. Acc: 83.13%\n",
            "running_loss : 0.652780\trunning_corrects : 0.700000\t\tTrain Loss: 0.436 | Train Acc: 83.45%  | Val. Acc: 83.13%\n",
            "running_loss : 0.668697\trunning_corrects : 0.650000\t\tTrain Loss: 0.436 | Train Acc: 83.43%  | Val. Acc: 83.13%\n",
            "running_loss : 0.747609\trunning_corrects : 0.650000\t\tTrain Loss: 0.438 | Train Acc: 83.29%  | Val. Acc: 83.13%\n",
            "running_loss : 0.711182\trunning_corrects : 0.650000\t\tTrain Loss: 0.437 | Train Acc: 83.49%  | Val. Acc: 83.13%\n",
            "running_loss : 0.664962\trunning_corrects : 0.700000\t\tTrain Loss: 0.436 | Train Acc: 83.50%  | Val. Acc: 83.13%\n",
            "running_loss : 0.685352\trunning_corrects : 0.650000\t\tTrain Loss: 0.436 | Train Acc: 83.48%  | Val. Acc: 83.13%\n",
            "running_loss : 0.711257\trunning_corrects : 0.650000\t\tTrain Loss: 0.435 | Train Acc: 83.46%  | Val. Acc: 83.13%\n",
            "running_loss : 0.724411\trunning_corrects : 0.650000\t\tTrain Loss: 0.436 | Train Acc: 83.42%  | Val. Acc: 83.09%\n",
            "running_loss : 0.732300\trunning_corrects : 0.650000\t\tTrain Loss: 0.437 | Train Acc: 83.34%  | Val. Acc: 83.09%\n",
            "running_loss : 0.664339\trunning_corrects : 0.700000\t\tTrain Loss: 0.435 | Train Acc: 83.50%  | Val. Acc: 83.13%\n",
            "running_loss : 0.700096\trunning_corrects : 0.650000\t\tTrain Loss: 0.435 | Train Acc: 83.62%  | Val. Acc: 83.13%\n",
            "running_loss : 0.730289\trunning_corrects : 0.650000\t\tTrain Loss: 0.434 | Train Acc: 83.56%  | Val. Acc: 83.13%\n",
            "running_loss : 0.710532\trunning_corrects : 0.650000\t\tTrain Loss: 0.435 | Train Acc: 83.42%  | Val. Acc: 83.13%\n",
            "running_loss : 0.694369\trunning_corrects : 0.650000\t\tTrain Loss: 0.434 | Train Acc: 83.48%  | Val. Acc: 83.13%\n",
            "running_loss : 0.715792\trunning_corrects : 0.650000\t\tTrain Loss: 0.436 | Train Acc: 83.46%  | Val. Acc: 83.13%\n",
            "running_loss : 0.682763\trunning_corrects : 0.650000\t\tTrain Loss: 0.435 | Train Acc: 83.43%  | Val. Acc: 83.09%\n",
            "running_loss : 0.713313\trunning_corrects : 0.650000\t\tTrain Loss: 0.435 | Train Acc: 83.51%  | Val. Acc: 83.09%\n",
            "running_loss : 0.672082\trunning_corrects : 0.700000\t\tTrain Loss: 0.436 | Train Acc: 83.45%  | Val. Acc: 83.09%\n",
            "running_loss : 0.701491\trunning_corrects : 0.650000\t\tTrain Loss: 0.435 | Train Acc: 83.43%  | Val. Acc: 83.09%\n",
            "running_loss : 0.715474\trunning_corrects : 0.650000\t\tTrain Loss: 0.435 | Train Acc: 83.52%  | Val. Acc: 83.09%\n",
            "running_loss : 0.686942\trunning_corrects : 0.650000\t\tTrain Loss: 0.433 | Train Acc: 83.49%  | Val. Acc: 83.09%\n",
            "running_loss : 0.715239\trunning_corrects : 0.650000\t\tTrain Loss: 0.434 | Train Acc: 83.63%  | Val. Acc: 83.09%\n",
            "running_loss : 0.719078\trunning_corrects : 0.650000\t\tTrain Loss: 0.432 | Train Acc: 83.45%  | Val. Acc: 83.09%\n",
            "running_loss : 0.726029\trunning_corrects : 0.650000\t\tTrain Loss: 0.432 | Train Acc: 83.67%  | Val. Acc: 83.09%\n",
            "running_loss : 0.649882\trunning_corrects : 0.700000\t\tTrain Loss: 0.434 | Train Acc: 83.47%  | Val. Acc: 83.09%\n",
            "running_loss : 0.674787\trunning_corrects : 0.650000\t\tTrain Loss: 0.435 | Train Acc: 83.44%  | Val. Acc: 83.09%\n",
            "running_loss : 0.745919\trunning_corrects : 0.650000\t\tTrain Loss: 0.435 | Train Acc: 83.51%  | Val. Acc: 83.09%\n",
            "running_loss : 0.681794\trunning_corrects : 0.650000\t\tTrain Loss: 0.435 | Train Acc: 83.49%  | Val. Acc: 83.09%\n",
            "running_loss : 0.687251\trunning_corrects : 0.650000\t\tTrain Loss: 0.434 | Train Acc: 83.48%  | Val. Acc: 83.09%\n",
            "running_loss : 0.697935\trunning_corrects : 0.650000\t\tTrain Loss: 0.434 | Train Acc: 83.48%  | Val. Acc: 83.09%\n",
            "running_loss : 0.707921\trunning_corrects : 0.650000\t\tTrain Loss: 0.434 | Train Acc: 83.43%  | Val. Acc: 83.09%\n",
            "running_loss : 0.663483\trunning_corrects : 0.700000\t\tTrain Loss: 0.432 | Train Acc: 83.60%  | Val. Acc: 83.09%\n",
            "running_loss : 0.684389\trunning_corrects : 0.650000\t\tTrain Loss: 0.434 | Train Acc: 83.42%  | Val. Acc: 83.09%\n",
            "running_loss : 0.667583\trunning_corrects : 0.650000\t\tTrain Loss: 0.434 | Train Acc: 83.52%  | Val. Acc: 83.09%\n",
            "running_loss : 0.667629\trunning_corrects : 0.650000\t\tTrain Loss: 0.433 | Train Acc: 83.57%  | Val. Acc: 83.09%\n",
            "running_loss : 0.693192\trunning_corrects : 0.650000\t\tTrain Loss: 0.433 | Train Acc: 83.51%  | Val. Acc: 83.09%\n",
            "running_loss : 0.719648\trunning_corrects : 0.650000\t\tTrain Loss: 0.434 | Train Acc: 83.56%  | Val. Acc: 83.09%\n",
            "running_loss : 0.706182\trunning_corrects : 0.650000\t\tTrain Loss: 0.433 | Train Acc: 83.51%  | Val. Acc: 83.09%\n",
            "running_loss : 0.756202\trunning_corrects : 0.650000\t\tTrain Loss: 0.433 | Train Acc: 83.55%  | Val. Acc: 83.09%\n",
            "running_loss : 0.669441\trunning_corrects : 0.650000\t\tTrain Loss: 0.432 | Train Acc: 83.57%  | Val. Acc: 83.09%\n",
            "running_loss : 0.700128\trunning_corrects : 0.650000\t\tTrain Loss: 0.433 | Train Acc: 83.55%  | Val. Acc: 83.09%\n",
            "running_loss : 0.633088\trunning_corrects : 0.700000\t\tTrain Loss: 0.432 | Train Acc: 83.64%  | Val. Acc: 83.09%\n",
            "running_loss : 0.696263\trunning_corrects : 0.650000\t\tTrain Loss: 0.432 | Train Acc: 83.55%  | Val. Acc: 83.09%\n",
            "running_loss : 0.688732\trunning_corrects : 0.650000\t\tTrain Loss: 0.434 | Train Acc: 83.52%  | Val. Acc: 83.09%\n",
            "running_loss : 0.693659\trunning_corrects : 0.650000\t\tTrain Loss: 0.433 | Train Acc: 83.65%  | Val. Acc: 83.09%\n",
            "running_loss : 0.729912\trunning_corrects : 0.650000\t\tTrain Loss: 0.434 | Train Acc: 83.46%  | Val. Acc: 83.09%\n",
            "time:255.304\n"
          ]
        }
      ]
    },
    {
      "cell_type": "markdown",
      "metadata": {
        "id": "bo5j5q2H2IZZ"
      },
      "source": [
        "# Classification Performance Metrics"
      ]
    },
    {
      "cell_type": "code",
      "metadata": {
        "id": "QaNZD97cLleV"
      },
      "source": [
        "# import some importent library or packages \n",
        "import glob,sys,os\n",
        "import matplotlib.pyplot as plt\n",
        "import warnings\n",
        "import numpy as np\n",
        "import seaborn as sn\n",
        "import pandas as pd\n",
        "import pathlib\n",
        "import zipfile\n",
        "import torch\n",
        "import torch.nn as nn\n",
        "import torchvision\n",
        "import torchvision.transforms as transforms\n",
        "from torchvision import models\n",
        "from torch.utils.data import Dataset, DataLoader, ConcatDataset\n",
        "import torch.optim as optim\n",
        "import time,sys\n",
        "import copy\n",
        "from sklearn.metrics import confusion_matrix\n",
        "from sklearn.metrics import classification_report\n",
        "\n",
        "warnings.filterwarnings('ignore')"
      ],
      "execution_count": 51,
      "outputs": []
    },
    {
      "cell_type": "code",
      "metadata": {
        "id": "dQJ35QIc2L3Z"
      },
      "source": [
        "_tranning_loss = loss\n",
        "_tranning_acc = acc\n",
        "_validation_loss = val_loss\n",
        "_validation_acc = val_acc"
      ],
      "execution_count": 52,
      "outputs": []
    },
    {
      "cell_type": "code",
      "metadata": {
        "colab": {
          "base_uri": "https://localhost:8080/",
          "height": 349
        },
        "id": "4LZpToji3Jxy",
        "outputId": "55cc624b-9f1f-4135-cb8e-ab65901293f1"
      },
      "source": [
        "plt.figure(figsize=(10,5))\n",
        "plt.title(\"Loss graph\")\n",
        "plt.plot(_tranning_loss,label=\"Tranning Loss\")\n",
        "plt.plot(_validation_loss,label=\"Validation Loss\")\n",
        "plt.xlabel(\"iterations\")\n",
        "plt.ylabel(\"Loss\")\n",
        "plt.legend()\n",
        "plt.show()"
      ],
      "execution_count": 53,
      "outputs": [
        {
          "output_type": "display_data",
          "data": {
            "image/png": "[encoded data removed]",
            "text/plain": [
              "<Figure size 720x360 with 1 Axes>"
            ]
          },
          "metadata": {
            "needs_background": "light"
          }
        }
      ]
    },
    {
      "cell_type": "code",
      "metadata": {
        "colab": {
          "base_uri": "https://localhost:8080/",
          "height": 349
        },
        "id": "9I3Z4eo13K-T",
        "outputId": "c945d4f8-f9b1-4816-ed2f-e4e6be2d12f3"
      },
      "source": [
        "plt.figure(figsize=(10,5))\n",
        "plt.title(\"Accuracy graph\")\n",
        "plt.plot(_tranning_acc,label=\"Tranning Accuracy\")\n",
        "plt.plot(_validation_acc,label=\"Validation Accuracy\")\n",
        "plt.xlabel(\"iterations\")\n",
        "plt.ylabel(\"Accuracy\")\n",
        "plt.legend()\n",
        "plt.show()"
      ],
      "execution_count": 54,
      "outputs": [
        {
          "output_type": "display_data",
          "data": {
            "image/png": "[encoded data removed]",
            "text/plain": [
              "<Figure size 720x360 with 1 Axes>"
            ]
          },
          "metadata": {
            "needs_background": "light"
          }
        }
      ]
    },
    {
      "cell_type": "code",
      "metadata": {
        "id": "1xjZ8_bBAeMH"
      },
      "source": [
        "y_true_tensor = torch.tensor([])\n",
        "y_pred_tensor = torch.tensor([])\n",
        "model.eval()\n",
        "with torch.no_grad():\n",
        "      for batch in valid_iter:\n",
        "          text, text_lengths = batch.text\n",
        "          predictions = model(text).squeeze(1)\n",
        "\n",
        "          rounded_preds = torch.round(torch.sigmoid(predictions))\n",
        "          correct = (rounded_preds == batch.polarity).float() \n",
        "\n",
        "          # print(rounded_preds,batch.polarity)\n",
        "\n",
        "          y_true_tensor = torch.cat((y_true_tensor,batch.polarity))\n",
        "          y_pred_tensor = torch.cat((y_pred_tensor,rounded_preds))\n",
        "          # acc = binary_accuracy(predictions, batch.polarity)\n",
        "          # print(acc)"
      ],
      "execution_count": 55,
      "outputs": []
    },
    {
      "cell_type": "code",
      "metadata": {
        "id": "Uil8uwrOLUz2"
      },
      "source": [
        "y_true = y_true_tensor.type(torch.LongTensor).tolist()\n",
        "y_pred = y_pred_tensor.type(torch.LongTensor).tolist()"
      ],
      "execution_count": 56,
      "outputs": []
    },
    {
      "cell_type": "code",
      "metadata": {
        "colab": {
          "base_uri": "https://localhost:8080/"
        },
        "id": "evonmYksLWOY",
        "outputId": "45e008ac-39dc-41a3-8020-1d8998a4bcce"
      },
      "source": [
        "matrice = confusion_matrix(y_true,y_pred)\n",
        "matrice"
      ],
      "execution_count": 57,
      "outputs": [
        {
          "output_type": "execute_result",
          "data": {
            "text/plain": [
              "array([[1574,   24],\n",
              "       [ 324,  137]])"
            ]
          },
          "metadata": {},
          "execution_count": 57
        }
      ]
    },
    {
      "cell_type": "code",
      "metadata": {
        "colab": {
          "base_uri": "https://localhost:8080/",
          "height": 336
        },
        "id": "QvWx7SNHW2cs",
        "outputId": "ed23da74-eb8e-4b70-fa64-a957f6451247"
      },
      "source": [
        "df_cm = pd.DataFrame(matrice,columns=[0,1],index=[0,1])\n",
        "plt.figure(figsize=(5,5))\n",
        "sn.heatmap(df_cm, annot=True,annot_kws={\"size\": 10},fmt='g',cmap='Blues',)\n",
        "plt.title(f\"Confusion matrix\")\n",
        "plt.show()"
      ],
      "execution_count": 58,
      "outputs": [
        {
          "output_type": "display_data",
          "data": {
            "image/png": "[encoded data removed]",
            "text/plain": [
              "<Figure size 360x360 with 2 Axes>"
            ]
          },
          "metadata": {
            "needs_background": "light"
          }
        }
      ]
    },
    {
      "cell_type": "code",
      "metadata": {
        "colab": {
          "base_uri": "https://localhost:8080/"
        },
        "id": "U9nF3NHxUzH7",
        "outputId": "1620ea10-2bc4-4063-e90b-868112eb43ed"
      },
      "source": [
        "classify_report = classification_report(y_true, y_pred, )\n",
        "print(classify_report)"
      ],
      "execution_count": 59,
      "outputs": [
        {
          "output_type": "stream",
          "name": "stdout",
          "text": [
            "              precision    recall  f1-score   support\n",
            "\n",
            "           0       0.83      0.98      0.90      1598\n",
            "           1       0.85      0.30      0.44       461\n",
            "\n",
            "    accuracy                           0.83      2059\n",
            "   macro avg       0.84      0.64      0.67      2059\n",
            "weighted avg       0.83      0.83      0.80      2059\n",
            "\n"
          ]
        }
      ]
    }
  ]
}