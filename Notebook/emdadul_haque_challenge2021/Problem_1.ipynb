{
  "nbformat": 4,
  "nbformat_minor": 0,
  "metadata": {
    "colab": {
      "name": "Problem-1.ipynb",
      "provenance": [],
      "collapsed_sections": [],
      "authorship_tag": "ABX9TyPFebHapNcY94dUU9tvnu4B",
      "include_colab_link": true
    },
    "kernelspec": {
      "name": "python3",
      "display_name": "Python 3"
    },
    "language_info": {
      "name": "python"
    }
  },
  "cells": [
    {
      "cell_type": "markdown",
      "metadata": {
        "id": "view-in-github",
        "colab_type": "text"
      },
      "source": [
        "<a href=\"https://colab.research.google.com/github/Rafat97/rafat97-content-static/blob/main/Notebook/emdadul_haque_challenge2021/Problem_1.ipynb\" target=\"_parent\"><img src=\"https://colab.research.google.com/assets/colab-badge.svg\" alt=\"Open In Colab\"/></a>"
      ]
    },
    {
      "cell_type": "markdown",
      "metadata": {
        "id": "LphrBV3wqj-S"
      },
      "source": [
        "# Problem 1\n",
        "\n",
        "Given, the input is a non-negative integer, please output as a String, the English representation of the number.\n",
        "\n",
        "---\n",
        "\n",
        "Example 1:\n",
        "\n",
        "  * Input: 542\n",
        "\n",
        "  * Output: \"Five Hundred Forty Two\"\n",
        "\n",
        "Example 2:\n",
        "  * Input: 1334567891\n",
        "  * Output: \"One Billion Three Hundred Thirty Four Million Five Hundred Sixty Seven Thousand Eight Hundred Ninety One\"\n",
        "\n",
        "---\n",
        "Please assume the input is a 32 bit signed integer (0 <= input <= 2^31- 1)"
      ]
    },
    {
      "cell_type": "code",
      "metadata": {
        "id": "JfLs7WXLtbOx"
      },
      "source": [
        "def number_to_digit(number):\n",
        "  min_range = -1\n",
        "  max_range = 2**31 \n",
        "\n",
        "  if number <= min_range :\n",
        "    print(f\"This is not acceptable input, Because {number} is nagative.\")\n",
        "    return\n",
        "\n",
        "  if number >= max_range :\n",
        "    print(f\"This is not acceptable input, Because {number} is too big.\")\n",
        "    return\n",
        "    \n",
        "  if number == 0:\n",
        "    answer = \"Zero\"\n",
        "    return answer\n",
        "\n",
        "  one_than_ninty = [\n",
        "                  \"\", \"One\", \"Two\", \"Three\", \"Four\", \"Five\", \n",
        "                  \"Six\", \"Seven\", \"Eight\", \"Nine\", \"Ten\", \n",
        "                  \"Eleven\", \"Twelve\", \"Thirteen\",\"Fourteen\", \n",
        "                  \"Fifteen\", \"Sixteen\", \"Seventeen\", \"Eighteen\",\"Nineteen\"\n",
        "                  ]\n",
        "  tens = [\n",
        "          \"\",\"Ten\", \"Twenty\", \"Thirty\", \"Forty\", \"Fifty\", \n",
        "          \"Sixty\",\"Seventy\", \"Eighty\", \"Ninety\"\n",
        "          ]\n",
        "  thousands = [\"\", \"Thousand\", \"Million\", \"Billion\"]\n",
        "\n",
        "  answer = \"\"\n",
        "\n",
        "  def get_3_digit_number(number2):\n",
        "    ans = \"\"\n",
        "\n",
        "    if number2 < 20:\n",
        "      ans = f\"{one_than_ninty[number2]}\"\n",
        "\n",
        "    elif number2 < 100:\n",
        "      find_div = int(number2 / 10)\n",
        "      find_mod = number2 % 10\n",
        "      ans = f\"{tens[find_div]} {one_than_ninty[find_mod]}\"\n",
        "\n",
        "    elif number2 < 1000:\n",
        "      find_div = int(number2 / 100)\n",
        "      new_num =  int(number2 % 100)\n",
        "      find_div2 = int(new_num / 10)\n",
        "      find_mod = new_num % 10\n",
        "      if new_num < 20:\n",
        "        ans = f\"{one_than_ninty[find_div]} Hundred {one_than_ninty[new_num]}\"\n",
        "      else:\n",
        "        ans = f\"{one_than_ninty[find_div]} Hundred {tens[find_div2]} {one_than_ninty[find_mod]}\"\n",
        "\n",
        "    return ans\n",
        "\n",
        "  if number < 1000:\n",
        "    answer = get_3_digit_number(number)\n",
        "  else:\n",
        "    current_number = number\n",
        "    for index,value in enumerate(thousands):\n",
        "      if current_number == 0:\n",
        "        break\n",
        "      current_number_mod = current_number%1000\n",
        "      current_number = int(current_number / 1000)\n",
        "      if current_number_mod != 0:\n",
        "        answer = get_3_digit_number(current_number_mod) + f\" { thousands[index] } \" + answer\n",
        "\n",
        "\n",
        "  new_ans = answer.split()\n",
        "  answer = \" \".join(new_ans)\n",
        "  \n",
        "  return answer"
      ],
      "execution_count": null,
      "outputs": []
    },
    {
      "cell_type": "code",
      "metadata": {
        "colab": {
          "base_uri": "https://localhost:8080/"
        },
        "id": "-eM8SDmrqjjM",
        "outputId": "d00bbb15-f51c-475f-9b6e-d62d7d815234"
      },
      "source": [
        "user_input = int( input(\"Enter number - \") )\n",
        "\n",
        "output = number_to_digit(user_input)\n",
        "print(output)"
      ],
      "execution_count": null,
      "outputs": [
        {
          "output_type": "stream",
          "name": "stdout",
          "text": [
            "Enter number - 0\n",
            "Zero\n"
          ]
        }
      ]
    },
    {
      "cell_type": "code",
      "metadata": {
        "colab": {
          "base_uri": "https://localhost:8080/"
        },
        "id": "WLlN_u9eZhBE",
        "outputId": "51e95b76-2312-4a54-a5eb-87116235bdb0"
      },
      "source": [
        "# testing code\n",
        "print(f\"---------------Testing Start--------------\")\n",
        "assert number_to_digit(0) == \"Zero\"\n",
        "print(f\"passed 0\")\n",
        "assert number_to_digit(542) == \"Five Hundred Forty Two\"\n",
        "print(f\"passed 1\")\n",
        "assert number_to_digit(1334567891) == \"One Billion Three Hundred Thirty Four Million Five Hundred Sixty Seven Thousand Eight Hundred Ninety One\"\n",
        "print(f\"passed 2\")\n",
        "assert number_to_digit(5896) == \"Five Thousand Eight Hundred Ninety Six\"\n",
        "print(f\"passed 3\")\n",
        "assert number_to_digit(2147483647) == \"Two Billion One Hundred Forty Seven Million Four Hundred Eighty Three Thousand Six Hundred Forty Seven\"\n",
        "print(f\"passed 4\")\n",
        "assert number_to_digit(2147483648) == None\n",
        "print(f\"passed 5\")\n",
        "print(f\"Test Completed\")"
      ],
      "execution_count": null,
      "outputs": [
        {
          "output_type": "stream",
          "name": "stdout",
          "text": [
            "---------------Testing Start--------------\n",
            "passed 0\n",
            "passed 1\n",
            "passed 2\n",
            "passed 3\n",
            "passed 4\n",
            "This is not acceptable input, Because 2147483648 is too big.\n",
            "passed 5\n",
            "Test Completed\n"
          ]
        }
      ]
    }
  ]
}