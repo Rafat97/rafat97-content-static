{
  "nbformat": 4,
  "nbformat_minor": 0,
  "metadata": {
    "colab": {
      "name": "Problem-2.ipynb",
      "provenance": [],
      "collapsed_sections": [
        "w1w9b_O6rMnK"
      ],
      "authorship_tag": "ABX9TyMrTbXB5inUVsG6ZmPIKbVr",
      "include_colab_link": true
    },
    "kernelspec": {
      "name": "python3",
      "display_name": "Python 3"
    },
    "language_info": {
      "name": "python"
    }
  },
  "cells": [
    {
      "cell_type": "markdown",
      "metadata": {
        "id": "view-in-github",
        "colab_type": "text"
      },
      "source": [
        "<a href=\"https://colab.research.google.com/github/Rafat97/rafat97-content-static/blob/main/Notebook/emdadul_haque_challenge2021/Problem_2.ipynb\" target=\"_parent\"><img src=\"https://colab.research.google.com/assets/colab-badge.svg\" alt=\"Open In Colab\"/></a>"
      ]
    },
    {
      "cell_type": "markdown",
      "metadata": {
        "id": "w1w9b_O6rMnK"
      },
      "source": [
        "# Problem 2\n",
        "\n",
        "Given a string representation of a numeric expression, please evaluate its numeric value.\n",
        "\n",
        "---\n",
        "\n",
        "Example 1:\n",
        "\n",
        "  * Input: s = \" 2-1 + 2 \"\n",
        "\n",
        "  * Output: 3\n",
        "\n",
        "Example 2:\n",
        "  * Input: s = \"(1+(4+5+2)-3)+(6+8)\"\n",
        "  * Output: Output: 23\n",
        "\n",
        "---\n",
        "Constraints:\n",
        "  * Input string consists of digits, '+', '-', '(', ')', and ' '.\n",
        "  * Input string represents a valid expression.\n",
        "  * '+' is not used as a unary operation (i.e., \"+1\" and \"+(2 + 3)\" is invalid).\n",
        "  * '-' could be used as a unary operation (i.e., \"-1\" and \"-(2 + 3)\" is valid).\n",
        "  * There will be no two consecutive operators in the input string.\n",
        "  * Every number and running calculation will fit in a signed 32-bit integer."
      ]
    },
    {
      "cell_type": "code",
      "metadata": {
        "id": "bGGRieI_4pS6"
      },
      "source": [
        "def remove_space(string):\n",
        "    return \"\".join(string.split())\n",
        "\n",
        "def expression_to_sum(expiration):\n",
        "  if len(expiration) <= 0:\n",
        "    return 0\n",
        "  expiration = remove_space(expiration)\n",
        "  answer = 0\n",
        "  sumVal = 0\n",
        "  stack_number = []\n",
        "  stack_sign = []\n",
        "  number = 0\n",
        "  current_sign = \"+\"\n",
        "  i = 0\n",
        "\n",
        "  while i < len(expiration):\n",
        "    \n",
        "    s = expiration[i]\n",
        "    if s == \" \":\n",
        "      pass\n",
        "    if s.isdigit():\n",
        "        number = number*10 + int(s)\n",
        "    \n",
        "\n",
        "    if i == len(expiration)-1 or s in \"+-*\" :\n",
        "      if current_sign == \"+\":\n",
        "        stack_number.append(number)\n",
        "        current_sign = s\n",
        "      elif current_sign == \"-\":\n",
        "        stack_number.append(-number)\n",
        "        current_sign = s\n",
        "\n",
        "      number = 0\n",
        "\n",
        "    if s == \"(\":\n",
        "      dic = {\n",
        "          \"init_sign\": current_sign,\n",
        "          \"start_string_ind\" : i,\n",
        "          \"stack_number_ind\" : len(stack_number),\n",
        "      }\n",
        "      stack_sign.append(dic)\n",
        "      current_sign = \"+\"\n",
        "\n",
        "    if s == \")\":\n",
        "      if current_sign == \"+\":\n",
        "        stack_number.append(number)\n",
        "      elif current_sign == \"-\":\n",
        "        stack_number.append(-number)\n",
        "\n",
        "      number = 0\n",
        "      dic = stack_sign.pop()\n",
        "      s_indx = dic[\"stack_number_ind\"]\n",
        "      prev_sign = dic[\"init_sign\"]\n",
        "      bracket_sum = sum(stack_number[s_indx:])\n",
        "      # print(\"del\")\n",
        "      # print(s,stack_number,stack_sign,bracket_sum,current_sign)\n",
        "      del stack_number[s_indx:]\n",
        "      current_sign = prev_sign\n",
        "      if prev_sign == \"+\":\n",
        "        stack_number.append(bracket_sum)\n",
        "\n",
        "      elif prev_sign == \"-\":\n",
        "        stack_number.append(-bracket_sum)\n",
        "      \n",
        "      \n",
        "    i += 1\n",
        "    \n",
        "\n",
        "    # print(s,stack_number,stack_sign)\n",
        "  sumVal = sum(stack_number)\n",
        "  return sumVal"
      ],
      "execution_count": null,
      "outputs": []
    },
    {
      "cell_type": "code",
      "metadata": {
        "id": "yNMY6g5MSHee",
        "colab": {
          "base_uri": "https://localhost:8080/"
        },
        "outputId": "bbedf894-dd8d-4205-ea90-6ee170803816"
      },
      "source": [
        "user_input = input(\"Enter number - \")\n",
        "output = expression_to_sum(user_input)\n",
        "print(output)"
      ],
      "execution_count": null,
      "outputs": [
        {
          "output_type": "stream",
          "name": "stdout",
          "text": [
            "Enter number - (1+(4+5+2)-3)+(6+8)\n",
            "23\n"
          ]
        }
      ]
    },
    {
      "cell_type": "code",
      "source": [
        "# testing code\n",
        "print(f\"---------------Testing Start--------------\")\n",
        "assert expression_to_sum(\" \") == 0\n",
        "print(f\"passed 0\")\n",
        "assert expression_to_sum(\" 2-1 + 2 \") == 3\n",
        "print(f\"passed 1\")\n",
        "assert expression_to_sum(\" (1+(4+5+2)-3) \") == 9\n",
        "print(f\"passed 2\")\n",
        "assert expression_to_sum(\" (1+(4+5+2)-3)+(6+8) \") == 23\n",
        "print(f\"passed 3\")\n",
        "print(f\"Test Completed\")"
      ],
      "metadata": {
        "colab": {
          "base_uri": "https://localhost:8080/"
        },
        "id": "8OSylrZVjmV5",
        "outputId": "f75e42db-fa33-40a0-b7db-fea43f931203"
      },
      "execution_count": null,
      "outputs": [
        {
          "output_type": "stream",
          "name": "stdout",
          "text": [
            "---------------Testing Start--------------\n",
            "passed 0\n",
            "passed 1\n",
            "passed 2\n",
            "passed 3\n",
            "Test Completed\n"
          ]
        }
      ]
    }
  ]
}